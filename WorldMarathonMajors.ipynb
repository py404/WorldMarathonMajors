{
 "cells": [
  {
   "cell_type": "markdown",
   "metadata": {
    "execution": {
     "iopub.execute_input": "2020-12-26T21:19:44.014647Z",
     "iopub.status.busy": "2020-12-26T21:19:44.014338Z",
     "iopub.status.idle": "2020-12-26T21:19:44.019680Z",
     "shell.execute_reply": "2020-12-26T21:19:44.018307Z",
     "shell.execute_reply.started": "2020-12-26T21:19:44.014619Z"
    }
   },
   "source": [
    "# Introduction\n",
    "\n",
    "This jupyter notebook has exploratory data analysis on the Kaggle dataset (https://www.kaggle.com/emmanuelleai/world-marathons-majors)"
   ]
  },
  {
   "cell_type": "markdown",
   "metadata": {},
   "source": [
    "## Import libraries"
   ]
  },
  {
   "cell_type": "code",
   "execution_count": 177,
   "metadata": {
    "execution": {
     "iopub.execute_input": "2020-12-26T22:56:54.465784Z",
     "iopub.status.busy": "2020-12-26T22:56:54.465205Z",
     "iopub.status.idle": "2020-12-26T22:56:54.471997Z",
     "shell.execute_reply": "2020-12-26T22:56:54.470379Z",
     "shell.execute_reply.started": "2020-12-26T22:56:54.465734Z"
    }
   },
   "outputs": [],
   "source": [
    "!pip install pandas\n",
    "!pip install altair\n",
    "\n",
    "from datetime import datetime\n",
    "import pandas as pd\n",
    "import altair as alt"
   ]
  },
  {
   "cell_type": "markdown",
   "metadata": {},
   "source": [
    "## Load data"
   ]
  },
  {
   "cell_type": "code",
   "execution_count": 178,
   "metadata": {
    "execution": {
     "iopub.execute_input": "2020-12-26T22:56:55.805841Z",
     "iopub.status.busy": "2020-12-26T22:56:55.805487Z",
     "iopub.status.idle": "2020-12-26T22:56:55.834926Z",
     "shell.execute_reply": "2020-12-26T22:56:55.833637Z",
     "shell.execute_reply.started": "2020-12-26T22:56:55.805815Z"
    }
   },
   "outputs": [
    {
     "data": {
      "text/html": [
       "<div>\n",
       "<style scoped>\n",
       "    .dataframe tbody tr th:only-of-type {\n",
       "        vertical-align: middle;\n",
       "    }\n",
       "\n",
       "    .dataframe tbody tr th {\n",
       "        vertical-align: top;\n",
       "    }\n",
       "\n",
       "    .dataframe thead th {\n",
       "        text-align: right;\n",
       "    }\n",
       "</style>\n",
       "<table border=\"1\" class=\"dataframe\">\n",
       "  <thead>\n",
       "    <tr style=\"text-align: right;\">\n",
       "      <th></th>\n",
       "      <th>year</th>\n",
       "      <th>winner</th>\n",
       "      <th>gender</th>\n",
       "      <th>country</th>\n",
       "      <th>time</th>\n",
       "      <th>marathon</th>\n",
       "    </tr>\n",
       "  </thead>\n",
       "  <tbody>\n",
       "    <tr>\n",
       "      <th>0</th>\n",
       "      <td>2018</td>\n",
       "      <td>Dickson Chumba</td>\n",
       "      <td>Male</td>\n",
       "      <td>Kenya</td>\n",
       "      <td>02:05:30</td>\n",
       "      <td>Tokyo</td>\n",
       "    </tr>\n",
       "    <tr>\n",
       "      <th>1</th>\n",
       "      <td>2018</td>\n",
       "      <td>Birhane Dibaba</td>\n",
       "      <td>Female</td>\n",
       "      <td>Ethiopia</td>\n",
       "      <td>02:19:51</td>\n",
       "      <td>Tokyo</td>\n",
       "    </tr>\n",
       "    <tr>\n",
       "      <th>2</th>\n",
       "      <td>2017</td>\n",
       "      <td>Wilson Kipsang</td>\n",
       "      <td>Male</td>\n",
       "      <td>Kenya</td>\n",
       "      <td>02:03:58</td>\n",
       "      <td>Tokyo</td>\n",
       "    </tr>\n",
       "    <tr>\n",
       "      <th>3</th>\n",
       "      <td>2017</td>\n",
       "      <td>Sarah Chepchirchir</td>\n",
       "      <td>Female</td>\n",
       "      <td>Kenya</td>\n",
       "      <td>02:19:47</td>\n",
       "      <td>Tokyo</td>\n",
       "    </tr>\n",
       "    <tr>\n",
       "      <th>4</th>\n",
       "      <td>2016</td>\n",
       "      <td>Feyisa Lilesa</td>\n",
       "      <td>Male</td>\n",
       "      <td>Ethiopia</td>\n",
       "      <td>02:06:56</td>\n",
       "      <td>Tokyo</td>\n",
       "    </tr>\n",
       "  </tbody>\n",
       "</table>\n",
       "</div>"
      ],
      "text/plain": [
       "   year              winner  gender   country      time marathon\n",
       "0  2018      Dickson Chumba    Male     Kenya  02:05:30    Tokyo\n",
       "1  2018      Birhane Dibaba  Female  Ethiopia  02:19:51    Tokyo\n",
       "2  2017      Wilson Kipsang    Male     Kenya  02:03:58    Tokyo\n",
       "3  2017  Sarah Chepchirchir  Female     Kenya  02:19:47    Tokyo\n",
       "4  2016       Feyisa Lilesa    Male  Ethiopia  02:06:56    Tokyo"
      ]
     },
     "execution_count": 178,
     "metadata": {},
     "output_type": "execute_result"
    }
   ],
   "source": [
    "df = pd.read_csv('world_marathon_majors.csv', encoding='ISO-8859-1')\n",
    "df.head()"
   ]
  },
  {
   "cell_type": "markdown",
   "metadata": {},
   "source": [
    "## Dataframe size"
   ]
  },
  {
   "cell_type": "code",
   "execution_count": 179,
   "metadata": {
    "execution": {
     "iopub.execute_input": "2020-12-26T22:56:58.225040Z",
     "iopub.status.busy": "2020-12-26T22:56:58.224652Z",
     "iopub.status.idle": "2020-12-26T22:56:58.231568Z",
     "shell.execute_reply": "2020-12-26T22:56:58.230376Z",
     "shell.execute_reply.started": "2020-12-26T22:56:58.225013Z"
    }
   },
   "outputs": [
    {
     "data": {
      "text/plain": [
       "(536, 6)"
      ]
     },
     "execution_count": 179,
     "metadata": {},
     "output_type": "execute_result"
    }
   ],
   "source": [
    "df.shape"
   ]
  },
  {
   "cell_type": "markdown",
   "metadata": {},
   "source": [
    "## Datatype checks"
   ]
  },
  {
   "cell_type": "code",
   "execution_count": 180,
   "metadata": {
    "execution": {
     "iopub.execute_input": "2020-12-26T22:57:00.422266Z",
     "iopub.status.busy": "2020-12-26T22:57:00.421819Z",
     "iopub.status.idle": "2020-12-26T22:57:00.434135Z",
     "shell.execute_reply": "2020-12-26T22:57:00.432614Z",
     "shell.execute_reply.started": "2020-12-26T22:57:00.422225Z"
    }
   },
   "outputs": [
    {
     "name": "stdout",
     "output_type": "stream",
     "text": [
      "<class 'pandas.core.frame.DataFrame'>\n",
      "RangeIndex: 536 entries, 0 to 535\n",
      "Data columns (total 6 columns):\n",
      " #   Column    Non-Null Count  Dtype \n",
      "---  ------    --------------  ----- \n",
      " 0   year      536 non-null    int64 \n",
      " 1   winner    536 non-null    object\n",
      " 2   gender    536 non-null    object\n",
      " 3   country   536 non-null    object\n",
      " 4   time      536 non-null    object\n",
      " 5   marathon  536 non-null    object\n",
      "dtypes: int64(1), object(5)\n",
      "memory usage: 25.2+ KB\n"
     ]
    }
   ],
   "source": [
    "df.info()"
   ]
  },
  {
   "cell_type": "markdown",
   "metadata": {},
   "source": [
    "## NA checks"
   ]
  },
  {
   "cell_type": "code",
   "execution_count": 181,
   "metadata": {
    "execution": {
     "iopub.execute_input": "2020-12-26T22:57:02.367931Z",
     "iopub.status.busy": "2020-12-26T22:57:02.367593Z",
     "iopub.status.idle": "2020-12-26T22:57:02.379053Z",
     "shell.execute_reply": "2020-12-26T22:57:02.377749Z",
     "shell.execute_reply.started": "2020-12-26T22:57:02.367887Z"
    }
   },
   "outputs": [
    {
     "data": {
      "text/plain": [
       "year        0\n",
       "winner      0\n",
       "gender      0\n",
       "country     0\n",
       "time        0\n",
       "marathon    0\n",
       "dtype: int64"
      ]
     },
     "execution_count": 181,
     "metadata": {},
     "output_type": "execute_result"
    }
   ],
   "source": [
    "df.isna().sum()"
   ]
  },
  {
   "cell_type": "markdown",
   "metadata": {
    "execution": {
     "iopub.execute_input": "2020-12-26T21:28:07.774380Z",
     "iopub.status.busy": "2020-12-26T21:28:07.773992Z",
     "iopub.status.idle": "2020-12-26T21:28:07.785288Z",
     "shell.execute_reply": "2020-12-26T21:28:07.783619Z",
     "shell.execute_reply.started": "2020-12-26T21:28:07.774337Z"
    }
   },
   "source": [
    "## Converting total time from hours to minutes (object => float)"
   ]
  },
  {
   "cell_type": "code",
   "execution_count": 182,
   "metadata": {
    "execution": {
     "iopub.execute_input": "2020-12-26T22:57:06.864577Z",
     "iopub.status.busy": "2020-12-26T22:57:06.864167Z",
     "iopub.status.idle": "2020-12-26T22:57:06.875574Z",
     "shell.execute_reply": "2020-12-26T22:57:06.874370Z",
     "shell.execute_reply.started": "2020-12-26T22:57:06.864539Z"
    }
   },
   "outputs": [
    {
     "data": {
      "text/plain": [
       "125.5"
      ]
     },
     "execution_count": 182,
     "metadata": {},
     "output_type": "execute_result"
    }
   ],
   "source": [
    "def str_to_time(x):\n",
    "    \"\"\"\n",
    "    hh:mm:ss => total minutes\n",
    "    e.g. 2:05:30 => 125.5\n",
    "    \"\"\"\n",
    "    t = datetime.strptime(x, \"%H:%M:%S\")\n",
    "    return t.hour * 60 + t.minute + (t.second / 60)\n",
    "    \n",
    "# test\n",
    "str_to_time(\"02:05:30\")"
   ]
  },
  {
   "cell_type": "code",
   "execution_count": 183,
   "metadata": {
    "execution": {
     "iopub.execute_input": "2020-12-26T22:57:07.494328Z",
     "iopub.status.busy": "2020-12-26T22:57:07.493659Z",
     "iopub.status.idle": "2020-12-26T22:57:07.539629Z",
     "shell.execute_reply": "2020-12-26T22:57:07.537750Z",
     "shell.execute_reply.started": "2020-12-26T22:57:07.494258Z"
    }
   },
   "outputs": [
    {
     "data": {
      "text/html": [
       "<div>\n",
       "<style scoped>\n",
       "    .dataframe tbody tr th:only-of-type {\n",
       "        vertical-align: middle;\n",
       "    }\n",
       "\n",
       "    .dataframe tbody tr th {\n",
       "        vertical-align: top;\n",
       "    }\n",
       "\n",
       "    .dataframe thead th {\n",
       "        text-align: right;\n",
       "    }\n",
       "</style>\n",
       "<table border=\"1\" class=\"dataframe\">\n",
       "  <thead>\n",
       "    <tr style=\"text-align: right;\">\n",
       "      <th></th>\n",
       "      <th>year</th>\n",
       "      <th>winner</th>\n",
       "      <th>gender</th>\n",
       "      <th>country</th>\n",
       "      <th>time</th>\n",
       "      <th>marathon</th>\n",
       "      <th>total_minutes</th>\n",
       "    </tr>\n",
       "  </thead>\n",
       "  <tbody>\n",
       "    <tr>\n",
       "      <th>0</th>\n",
       "      <td>2018</td>\n",
       "      <td>Dickson Chumba</td>\n",
       "      <td>Male</td>\n",
       "      <td>Kenya</td>\n",
       "      <td>02:05:30</td>\n",
       "      <td>Tokyo</td>\n",
       "      <td>125.500000</td>\n",
       "    </tr>\n",
       "    <tr>\n",
       "      <th>1</th>\n",
       "      <td>2018</td>\n",
       "      <td>Birhane Dibaba</td>\n",
       "      <td>Female</td>\n",
       "      <td>Ethiopia</td>\n",
       "      <td>02:19:51</td>\n",
       "      <td>Tokyo</td>\n",
       "      <td>139.850000</td>\n",
       "    </tr>\n",
       "    <tr>\n",
       "      <th>2</th>\n",
       "      <td>2017</td>\n",
       "      <td>Wilson Kipsang</td>\n",
       "      <td>Male</td>\n",
       "      <td>Kenya</td>\n",
       "      <td>02:03:58</td>\n",
       "      <td>Tokyo</td>\n",
       "      <td>123.966667</td>\n",
       "    </tr>\n",
       "    <tr>\n",
       "      <th>3</th>\n",
       "      <td>2017</td>\n",
       "      <td>Sarah Chepchirchir</td>\n",
       "      <td>Female</td>\n",
       "      <td>Kenya</td>\n",
       "      <td>02:19:47</td>\n",
       "      <td>Tokyo</td>\n",
       "      <td>139.783333</td>\n",
       "    </tr>\n",
       "    <tr>\n",
       "      <th>4</th>\n",
       "      <td>2016</td>\n",
       "      <td>Feyisa Lilesa</td>\n",
       "      <td>Male</td>\n",
       "      <td>Ethiopia</td>\n",
       "      <td>02:06:56</td>\n",
       "      <td>Tokyo</td>\n",
       "      <td>126.933333</td>\n",
       "    </tr>\n",
       "  </tbody>\n",
       "</table>\n",
       "</div>"
      ],
      "text/plain": [
       "   year              winner  gender   country      time marathon  \\\n",
       "0  2018      Dickson Chumba    Male     Kenya  02:05:30    Tokyo   \n",
       "1  2018      Birhane Dibaba  Female  Ethiopia  02:19:51    Tokyo   \n",
       "2  2017      Wilson Kipsang    Male     Kenya  02:03:58    Tokyo   \n",
       "3  2017  Sarah Chepchirchir  Female     Kenya  02:19:47    Tokyo   \n",
       "4  2016       Feyisa Lilesa    Male  Ethiopia  02:06:56    Tokyo   \n",
       "\n",
       "   total_minutes  \n",
       "0     125.500000  \n",
       "1     139.850000  \n",
       "2     123.966667  \n",
       "3     139.783333  \n",
       "4     126.933333  "
      ]
     },
     "execution_count": 183,
     "metadata": {},
     "output_type": "execute_result"
    }
   ],
   "source": [
    "df['total_minutes'] = df['time'].apply(lambda x: str_to_time(x))\n",
    "df.head()"
   ]
  },
  {
   "cell_type": "code",
   "execution_count": 184,
   "metadata": {
    "execution": {
     "iopub.execute_input": "2020-12-26T22:57:08.252540Z",
     "iopub.status.busy": "2020-12-26T22:57:08.251699Z",
     "iopub.status.idle": "2020-12-26T22:57:08.265628Z",
     "shell.execute_reply": "2020-12-26T22:57:08.263763Z",
     "shell.execute_reply.started": "2020-12-26T22:57:08.252483Z"
    }
   },
   "outputs": [
    {
     "data": {
      "text/plain": [
       "dtype('float64')"
      ]
     },
     "execution_count": 184,
     "metadata": {},
     "output_type": "execute_result"
    }
   ],
   "source": [
    "df.total_minutes.dtype"
   ]
  },
  {
   "cell_type": "markdown",
   "metadata": {},
   "source": [
    "## EDA (Exploratory Data Analysis) and Visualizations"
   ]
  },
  {
   "cell_type": "markdown",
   "metadata": {},
   "source": [
    "### Total wins by Country"
   ]
  },
  {
   "cell_type": "code",
   "execution_count": 185,
   "metadata": {
    "execution": {
     "iopub.execute_input": "2020-12-26T22:57:21.605813Z",
     "iopub.status.busy": "2020-12-26T22:57:21.605451Z",
     "iopub.status.idle": "2020-12-26T22:57:21.624317Z",
     "shell.execute_reply": "2020-12-26T22:57:21.622859Z",
     "shell.execute_reply.started": "2020-12-26T22:57:21.605774Z"
    }
   },
   "outputs": [
    {
     "data": {
      "text/html": [
       "<div>\n",
       "<style scoped>\n",
       "    .dataframe tbody tr th:only-of-type {\n",
       "        vertical-align: middle;\n",
       "    }\n",
       "\n",
       "    .dataframe tbody tr th {\n",
       "        vertical-align: top;\n",
       "    }\n",
       "\n",
       "    .dataframe thead th {\n",
       "        text-align: right;\n",
       "    }\n",
       "</style>\n",
       "<table border=\"1\" class=\"dataframe\">\n",
       "  <thead>\n",
       "    <tr style=\"text-align: right;\">\n",
       "      <th></th>\n",
       "      <th>Country</th>\n",
       "      <th>Wins</th>\n",
       "    </tr>\n",
       "  </thead>\n",
       "  <tbody>\n",
       "    <tr>\n",
       "      <th>0</th>\n",
       "      <td>Australia</td>\n",
       "      <td>3</td>\n",
       "    </tr>\n",
       "    <tr>\n",
       "      <th>1</th>\n",
       "      <td>Belgium</td>\n",
       "      <td>5</td>\n",
       "    </tr>\n",
       "    <tr>\n",
       "      <th>2</th>\n",
       "      <td>Brazil</td>\n",
       "      <td>7</td>\n",
       "    </tr>\n",
       "    <tr>\n",
       "      <th>3</th>\n",
       "      <td>Canada</td>\n",
       "      <td>17</td>\n",
       "    </tr>\n",
       "    <tr>\n",
       "      <th>4</th>\n",
       "      <td>China</td>\n",
       "      <td>1</td>\n",
       "    </tr>\n",
       "  </tbody>\n",
       "</table>\n",
       "</div>"
      ],
      "text/plain": [
       "     Country  Wins\n",
       "0  Australia     3\n",
       "1    Belgium     5\n",
       "2     Brazil     7\n",
       "3     Canada    17\n",
       "4      China     1"
      ]
     },
     "execution_count": 185,
     "metadata": {},
     "output_type": "execute_result"
    }
   ],
   "source": [
    "country_counts = pd.DataFrame(df.groupby('country')['year'].agg('count')).reset_index()\n",
    "country_counts.columns = ['Country', 'Wins']\n",
    "country_counts.head()"
   ]
  },
  {
   "cell_type": "code",
   "execution_count": 186,
   "metadata": {
    "execution": {
     "iopub.execute_input": "2020-12-26T22:57:22.120920Z",
     "iopub.status.busy": "2020-12-26T22:57:22.120569Z",
     "iopub.status.idle": "2020-12-26T22:57:22.221018Z",
     "shell.execute_reply": "2020-12-26T22:57:22.218833Z",
     "shell.execute_reply.started": "2020-12-26T22:57:22.120888Z"
    }
   },
   "outputs": [
    {
     "data": {
      "text/html": [
       "\n",
       "<div id=\"altair-viz-999d2fe05b524e7683134439f1b4d39e\"></div>\n",
       "<script type=\"text/javascript\">\n",
       "  (function(spec, embedOpt){\n",
       "    const outputDiv = document.getElementById(\"altair-viz-999d2fe05b524e7683134439f1b4d39e\");\n",
       "    const paths = {\n",
       "      \"vega\": \"https://cdn.jsdelivr.net/npm//vega@5?noext\",\n",
       "      \"vega-lib\": \"https://cdn.jsdelivr.net/npm//vega-lib?noext\",\n",
       "      \"vega-lite\": \"https://cdn.jsdelivr.net/npm//vega-lite@4.0.2?noext\",\n",
       "      \"vega-embed\": \"https://cdn.jsdelivr.net/npm//vega-embed@6?noext\",\n",
       "    };\n",
       "\n",
       "    function loadScript(lib) {\n",
       "      return new Promise(function(resolve, reject) {\n",
       "        var s = document.createElement('script');\n",
       "        s.src = paths[lib];\n",
       "        s.async = true;\n",
       "        s.onload = () => resolve(paths[lib]);\n",
       "        s.onerror = () => reject(`Error loading script: ${paths[lib]}`);\n",
       "        document.getElementsByTagName(\"head\")[0].appendChild(s);\n",
       "      });\n",
       "    }\n",
       "\n",
       "    function showError(err) {\n",
       "      outputDiv.innerHTML = `<div class=\"error\" style=\"color:red;\">${err}</div>`;\n",
       "      throw err;\n",
       "    }\n",
       "\n",
       "    function displayChart(vegaEmbed) {\n",
       "      vegaEmbed(outputDiv, spec, embedOpt)\n",
       "        .catch(err => showError(`Javascript Error: ${err.message}<br>This usually means there's a typo in your chart specification. See the javascript console for the full traceback.`));\n",
       "    }\n",
       "\n",
       "    if(typeof define === \"function\" && define.amd) {\n",
       "      requirejs.config({paths});\n",
       "      require([\"vega-embed\"], displayChart, err => showError(`Error loading script: ${err.message}`));\n",
       "    } else if (typeof vegaEmbed === \"function\") {\n",
       "      displayChart(vegaEmbed);\n",
       "    } else {\n",
       "      loadScript(\"vega\")\n",
       "        .then(() => loadScript(\"vega-lite\"))\n",
       "        .then(() => loadScript(\"vega-embed\"))\n",
       "        .catch(showError)\n",
       "        .then(() => displayChart(vegaEmbed));\n",
       "    }\n",
       "  })({\"config\": {\"view\": {\"continuousWidth\": 400, \"continuousHeight\": 300}, \"axis\": {\"labelFontSize\": 15, \"titleFontSize\": 20}}, \"layer\": [{\"mark\": \"bar\", \"encoding\": {\"color\": {\"condition\": {\"value\": \"orange\", \"test\": \"(datum.Wins === 136)\"}, \"value\": \"steelblue\"}, \"opacity\": {\"condition\": {\"value\": 1, \"selection\": \"selector047\"}, \"value\": 0.7}, \"tooltip\": [{\"type\": \"quantitative\", \"field\": \"Wins\"}], \"x\": {\"type\": \"ordinal\", \"field\": \"Country\"}, \"y\": {\"type\": \"quantitative\", \"field\": \"Wins\"}}, \"selection\": {\"selector047\": {\"type\": \"interval\", \"encodings\": [\"x\"]}}}, {\"mark\": {\"type\": \"rule\", \"color\": \"red\"}, \"encoding\": {\"size\": {\"value\": 4}, \"y\": {\"type\": \"quantitative\", \"aggregate\": \"mean\", \"field\": \"Wins\"}}, \"transform\": [{\"filter\": {\"selection\": \"selector047\"}}]}], \"data\": {\"name\": \"data-cd66408d90ffc37a9ac46d659f216ada\"}, \"height\": 500, \"width\": 850, \"$schema\": \"https://vega.github.io/schema/vega-lite/v4.0.2.json\", \"datasets\": {\"data-cd66408d90ffc37a9ac46d659f216ada\": [{\"Country\": \"Australia\", \"Wins\": 3}, {\"Country\": \"Belgium\", \"Wins\": 5}, {\"Country\": \"Brazil\", \"Wins\": 7}, {\"Country\": \"Canada\", \"Wins\": 17}, {\"Country\": \"China\", \"Wins\": 1}, {\"Country\": \"Colombia\", \"Wins\": 2}, {\"Country\": \"Denmark\", \"Wins\": 2}, {\"Country\": \"Eritrea\", \"Wins\": 1}, {\"Country\": \"Ethiopia\", \"Wins\": 51}, {\"Country\": \"Finland\", \"Wins\": 10}, {\"Country\": \"Germany\", \"Wins\": 36}, {\"Country\": \"Greece\", \"Wins\": 2}, {\"Country\": \"Guatemala\", \"Wins\": 1}, {\"Country\": \"Hungary\", \"Wins\": 1}, {\"Country\": \"Ireland\", \"Wins\": 3}, {\"Country\": \"Italy\", \"Wins\": 6}, {\"Country\": \"Japan\", \"Wins\": 22}, {\"Country\": \"Kenya\", \"Wins\": 136}, {\"Country\": \"Latvia\", \"Wins\": 2}, {\"Country\": \"Mexico\", \"Wins\": 10}, {\"Country\": \"Morocco\", \"Wins\": 5}, {\"Country\": \"New Zealand\", \"Wins\": 5}, {\"Country\": \"Norway\", \"Wins\": 20}, {\"Country\": \"Poland\", \"Wins\": 8}, {\"Country\": \"Portugal\", \"Wins\": 11}, {\"Country\": \"Romania\", \"Wins\": 2}, {\"Country\": \"Russia\", \"Wins\": 8}, {\"Country\": \"South Africa\", \"Wins\": 5}, {\"Country\": \"South Korea\", \"Wins\": 3}, {\"Country\": \"Soviet Union\", \"Wins\": 1}, {\"Country\": \"Spain\", \"Wins\": 2}, {\"Country\": \"Sweden\", \"Wins\": 2}, {\"Country\": \"Switzerland\", \"Wins\": 2}, {\"Country\": \"Tanzania\", \"Wins\": 4}, {\"Country\": \"United Kingdom\", \"Wins\": 35}, {\"Country\": \"United States\", \"Wins\": 104}, {\"Country\": \"Yugoslavia\", \"Wins\": 1}]}}, {\"mode\": \"vega-lite\"});\n",
       "</script>"
      ],
      "text/plain": [
       "alt.LayerChart(...)"
      ]
     },
     "execution_count": 186,
     "metadata": {},
     "output_type": "execute_result"
    }
   ],
   "source": [
    "max_wins = country_counts.Wins.max()\n",
    "\n",
    "brush = alt.selection(type='interval', encodings=['x'])\n",
    "\n",
    "bar_counts = alt.Chart().mark_bar().encode(\n",
    "    x='Country:O',\n",
    "    y='Wins:Q',\n",
    "    opacity=alt.condition(brush, alt.OpacityValue(1), alt.OpacityValue(0.7)),\n",
    "    tooltip=['Wins'],\n",
    "    color=alt.condition(\n",
    "        alt.datum.Wins == max_wins,\n",
    "        alt.value('orange'),\n",
    "        alt.value('steelblue')\n",
    "    )\n",
    ").add_selection(\n",
    "    brush\n",
    ")\n",
    "\n",
    "mean_line = alt.Chart().mark_rule(\n",
    "    color='red',    \n",
    ").encode(\n",
    "    y='mean(Wins):Q',\n",
    "    size=alt.SizeValue(4)\n",
    ").transform_filter(\n",
    "    brush\n",
    ")\n",
    "\n",
    "final = alt.layer(bar_counts, mean_line, data=country_counts)\n",
    "final.properties(\n",
    "    width=850,\n",
    "    height=500\n",
    ").configure_axis(\n",
    "    labelFontSize=15,\n",
    "    titleFontSize=20\n",
    ")"
   ]
  },
  {
   "cell_type": "markdown",
   "metadata": {},
   "source": [
    "### Overall Female & Male winners ratio"
   ]
  },
  {
   "cell_type": "code",
   "execution_count": 187,
   "metadata": {
    "execution": {
     "iopub.execute_input": "2020-12-26T22:57:27.161574Z",
     "iopub.status.busy": "2020-12-26T22:57:27.161109Z",
     "iopub.status.idle": "2020-12-26T22:57:27.179376Z",
     "shell.execute_reply": "2020-12-26T22:57:27.177799Z",
     "shell.execute_reply.started": "2020-12-26T22:57:27.161531Z"
    }
   },
   "outputs": [
    {
     "data": {
      "text/html": [
       "<div>\n",
       "<style scoped>\n",
       "    .dataframe tbody tr th:only-of-type {\n",
       "        vertical-align: middle;\n",
       "    }\n",
       "\n",
       "    .dataframe tbody tr th {\n",
       "        vertical-align: top;\n",
       "    }\n",
       "\n",
       "    .dataframe thead th {\n",
       "        text-align: right;\n",
       "    }\n",
       "</style>\n",
       "<table border=\"1\" class=\"dataframe\">\n",
       "  <thead>\n",
       "    <tr style=\"text-align: right;\">\n",
       "      <th></th>\n",
       "      <th>Gender</th>\n",
       "      <th>Wins</th>\n",
       "    </tr>\n",
       "  </thead>\n",
       "  <tbody>\n",
       "    <tr>\n",
       "      <th>0</th>\n",
       "      <td>Male</td>\n",
       "      <td>303</td>\n",
       "    </tr>\n",
       "    <tr>\n",
       "      <th>1</th>\n",
       "      <td>Female</td>\n",
       "      <td>233</td>\n",
       "    </tr>\n",
       "  </tbody>\n",
       "</table>\n",
       "</div>"
      ],
      "text/plain": [
       "   Gender  Wins\n",
       "0    Male   303\n",
       "1  Female   233"
      ]
     },
     "execution_count": 187,
     "metadata": {},
     "output_type": "execute_result"
    }
   ],
   "source": [
    "gender_counts = pd.DataFrame(df.gender.value_counts()).reset_index()\n",
    "gender_counts.columns = ['Gender', 'Wins']\n",
    "gender_counts"
   ]
  },
  {
   "cell_type": "code",
   "execution_count": 231,
   "metadata": {
    "execution": {
     "iopub.execute_input": "2020-12-26T23:13:11.819845Z",
     "iopub.status.busy": "2020-12-26T23:13:11.819407Z",
     "iopub.status.idle": "2020-12-26T23:13:11.874356Z",
     "shell.execute_reply": "2020-12-26T23:13:11.872665Z",
     "shell.execute_reply.started": "2020-12-26T23:13:11.819815Z"
    }
   },
   "outputs": [
    {
     "data": {
      "text/html": [
       "\n",
       "<div id=\"altair-viz-fe89302f2b704fb1aaa21bef98703370\"></div>\n",
       "<script type=\"text/javascript\">\n",
       "  (function(spec, embedOpt){\n",
       "    const outputDiv = document.getElementById(\"altair-viz-fe89302f2b704fb1aaa21bef98703370\");\n",
       "    const paths = {\n",
       "      \"vega\": \"https://cdn.jsdelivr.net/npm//vega@5?noext\",\n",
       "      \"vega-lib\": \"https://cdn.jsdelivr.net/npm//vega-lib?noext\",\n",
       "      \"vega-lite\": \"https://cdn.jsdelivr.net/npm//vega-lite@4.0.2?noext\",\n",
       "      \"vega-embed\": \"https://cdn.jsdelivr.net/npm//vega-embed@6?noext\",\n",
       "    };\n",
       "\n",
       "    function loadScript(lib) {\n",
       "      return new Promise(function(resolve, reject) {\n",
       "        var s = document.createElement('script');\n",
       "        s.src = paths[lib];\n",
       "        s.async = true;\n",
       "        s.onload = () => resolve(paths[lib]);\n",
       "        s.onerror = () => reject(`Error loading script: ${paths[lib]}`);\n",
       "        document.getElementsByTagName(\"head\")[0].appendChild(s);\n",
       "      });\n",
       "    }\n",
       "\n",
       "    function showError(err) {\n",
       "      outputDiv.innerHTML = `<div class=\"error\" style=\"color:red;\">${err}</div>`;\n",
       "      throw err;\n",
       "    }\n",
       "\n",
       "    function displayChart(vegaEmbed) {\n",
       "      vegaEmbed(outputDiv, spec, embedOpt)\n",
       "        .catch(err => showError(`Javascript Error: ${err.message}<br>This usually means there's a typo in your chart specification. See the javascript console for the full traceback.`));\n",
       "    }\n",
       "\n",
       "    if(typeof define === \"function\" && define.amd) {\n",
       "      requirejs.config({paths});\n",
       "      require([\"vega-embed\"], displayChart, err => showError(`Error loading script: ${err.message}`));\n",
       "    } else if (typeof vegaEmbed === \"function\") {\n",
       "      displayChart(vegaEmbed);\n",
       "    } else {\n",
       "      loadScript(\"vega\")\n",
       "        .then(() => loadScript(\"vega-lite\"))\n",
       "        .then(() => loadScript(\"vega-embed\"))\n",
       "        .catch(showError)\n",
       "        .then(() => displayChart(vegaEmbed));\n",
       "    }\n",
       "  })({\"config\": {\"view\": {\"continuousWidth\": 400, \"continuousHeight\": 300}, \"axis\": {\"labelAngle\": 0, \"labelFontSize\": 15, \"titleFontSize\": 20}, \"legend\": {\"cornerRadius\": 5, \"labelFontSize\": 15, \"orient\": \"right\", \"padding\": 10, \"strokeColor\": \"gray\"}}, \"data\": {\"name\": \"data-c345515a8f68052a3d31907999686686\"}, \"mark\": \"bar\", \"encoding\": {\"color\": {\"type\": \"nominal\", \"field\": \"Gender\"}, \"tooltip\": [{\"type\": \"quantitative\", \"field\": \"Wins\"}], \"x\": {\"type\": \"ordinal\", \"field\": \"Gender\"}, \"y\": {\"type\": \"quantitative\", \"field\": \"Wins\"}}, \"height\": 350, \"width\": 300, \"$schema\": \"https://vega.github.io/schema/vega-lite/v4.0.2.json\", \"datasets\": {\"data-c345515a8f68052a3d31907999686686\": [{\"Gender\": \"Male\", \"Wins\": 303}, {\"Gender\": \"Female\", \"Wins\": 233}]}}, {\"mode\": \"vega-lite\"});\n",
       "</script>"
      ],
      "text/plain": [
       "alt.Chart(...)"
      ]
     },
     "execution_count": 231,
     "metadata": {},
     "output_type": "execute_result"
    }
   ],
   "source": [
    "alt.Chart(gender_counts).mark_bar().encode(\n",
    "    x='Gender:O',\n",
    "    y='Wins:Q',\n",
    "    tooltip=['Wins'],\n",
    "    color=alt.Color('Gender')\n",
    ").properties(\n",
    "    width=300,\n",
    "    height=350\n",
    ").configure_axis(\n",
    "    labelFontSize=15,\n",
    "    titleFontSize=20,\n",
    "    labelAngle=0\n",
    ").configure_legend(\n",
    "    strokeColor='gray',\n",
    "    labelFontSize=15,\n",
    "    padding=10,\n",
    "    cornerRadius=5,\n",
    "    orient='right'\n",
    ")"
   ]
  },
  {
   "cell_type": "markdown",
   "metadata": {},
   "source": [
    "### Wins by Place and Gender"
   ]
  },
  {
   "cell_type": "code",
   "execution_count": 214,
   "metadata": {
    "execution": {
     "iopub.execute_input": "2020-12-26T23:07:34.979708Z",
     "iopub.status.busy": "2020-12-26T23:07:34.979231Z",
     "iopub.status.idle": "2020-12-26T23:07:35.006291Z",
     "shell.execute_reply": "2020-12-26T23:07:35.004665Z",
     "shell.execute_reply.started": "2020-12-26T23:07:34.979641Z"
    }
   },
   "outputs": [
    {
     "data": {
      "text/html": [
       "<div>\n",
       "<style scoped>\n",
       "    .dataframe tbody tr th:only-of-type {\n",
       "        vertical-align: middle;\n",
       "    }\n",
       "\n",
       "    .dataframe tbody tr th {\n",
       "        vertical-align: top;\n",
       "    }\n",
       "\n",
       "    .dataframe thead th {\n",
       "        text-align: right;\n",
       "    }\n",
       "</style>\n",
       "<table border=\"1\" class=\"dataframe\">\n",
       "  <thead>\n",
       "    <tr style=\"text-align: right;\">\n",
       "      <th></th>\n",
       "      <th>marathon</th>\n",
       "      <th>gender</th>\n",
       "      <th>count</th>\n",
       "    </tr>\n",
       "  </thead>\n",
       "  <tbody>\n",
       "    <tr>\n",
       "      <th>0</th>\n",
       "      <td>Berlin</td>\n",
       "      <td>Female</td>\n",
       "      <td>44</td>\n",
       "    </tr>\n",
       "    <tr>\n",
       "      <th>1</th>\n",
       "      <td>Berlin</td>\n",
       "      <td>Male</td>\n",
       "      <td>44</td>\n",
       "    </tr>\n",
       "    <tr>\n",
       "      <th>2</th>\n",
       "      <td>Boston</td>\n",
       "      <td>Female</td>\n",
       "      <td>54</td>\n",
       "    </tr>\n",
       "    <tr>\n",
       "      <th>3</th>\n",
       "      <td>Boston</td>\n",
       "      <td>Male</td>\n",
       "      <td>121</td>\n",
       "    </tr>\n",
       "    <tr>\n",
       "      <th>4</th>\n",
       "      <td>Chicago</td>\n",
       "      <td>Female</td>\n",
       "      <td>40</td>\n",
       "    </tr>\n",
       "    <tr>\n",
       "      <th>5</th>\n",
       "      <td>Chicago</td>\n",
       "      <td>Male</td>\n",
       "      <td>40</td>\n",
       "    </tr>\n",
       "    <tr>\n",
       "      <th>6</th>\n",
       "      <td>London</td>\n",
       "      <td>Female</td>\n",
       "      <td>38</td>\n",
       "    </tr>\n",
       "    <tr>\n",
       "      <th>7</th>\n",
       "      <td>London</td>\n",
       "      <td>Male</td>\n",
       "      <td>39</td>\n",
       "    </tr>\n",
       "    <tr>\n",
       "      <th>8</th>\n",
       "      <td>NYC</td>\n",
       "      <td>Female</td>\n",
       "      <td>45</td>\n",
       "    </tr>\n",
       "    <tr>\n",
       "      <th>9</th>\n",
       "      <td>NYC</td>\n",
       "      <td>Male</td>\n",
       "      <td>47</td>\n",
       "    </tr>\n",
       "    <tr>\n",
       "      <th>10</th>\n",
       "      <td>Tokyo</td>\n",
       "      <td>Female</td>\n",
       "      <td>12</td>\n",
       "    </tr>\n",
       "    <tr>\n",
       "      <th>11</th>\n",
       "      <td>Tokyo</td>\n",
       "      <td>Male</td>\n",
       "      <td>12</td>\n",
       "    </tr>\n",
       "  </tbody>\n",
       "</table>\n",
       "</div>"
      ],
      "text/plain": [
       "   marathon  gender  count\n",
       "0    Berlin  Female     44\n",
       "1    Berlin    Male     44\n",
       "2    Boston  Female     54\n",
       "3    Boston    Male    121\n",
       "4   Chicago  Female     40\n",
       "5   Chicago    Male     40\n",
       "6    London  Female     38\n",
       "7    London    Male     39\n",
       "8       NYC  Female     45\n",
       "9       NYC    Male     47\n",
       "10    Tokyo  Female     12\n",
       "11    Tokyo    Male     12"
      ]
     },
     "execution_count": 214,
     "metadata": {},
     "output_type": "execute_result"
    }
   ],
   "source": [
    "place_gender_counts = df.groupby(['marathon', 'gender'])['year'].agg(['count']).reset_index()\n",
    "place_gender_counts"
   ]
  },
  {
   "cell_type": "code",
   "execution_count": 241,
   "metadata": {
    "execution": {
     "iopub.execute_input": "2020-12-26T23:17:25.030116Z",
     "iopub.status.busy": "2020-12-26T23:17:25.029590Z",
     "iopub.status.idle": "2020-12-26T23:17:25.115583Z",
     "shell.execute_reply": "2020-12-26T23:17:25.110716Z",
     "shell.execute_reply.started": "2020-12-26T23:17:25.030077Z"
    }
   },
   "outputs": [
    {
     "data": {
      "text/html": [
       "\n",
       "<div id=\"altair-viz-ac193d2665b2468f895b3756175c1f09\"></div>\n",
       "<script type=\"text/javascript\">\n",
       "  (function(spec, embedOpt){\n",
       "    const outputDiv = document.getElementById(\"altair-viz-ac193d2665b2468f895b3756175c1f09\");\n",
       "    const paths = {\n",
       "      \"vega\": \"https://cdn.jsdelivr.net/npm//vega@5?noext\",\n",
       "      \"vega-lib\": \"https://cdn.jsdelivr.net/npm//vega-lib?noext\",\n",
       "      \"vega-lite\": \"https://cdn.jsdelivr.net/npm//vega-lite@4.0.2?noext\",\n",
       "      \"vega-embed\": \"https://cdn.jsdelivr.net/npm//vega-embed@6?noext\",\n",
       "    };\n",
       "\n",
       "    function loadScript(lib) {\n",
       "      return new Promise(function(resolve, reject) {\n",
       "        var s = document.createElement('script');\n",
       "        s.src = paths[lib];\n",
       "        s.async = true;\n",
       "        s.onload = () => resolve(paths[lib]);\n",
       "        s.onerror = () => reject(`Error loading script: ${paths[lib]}`);\n",
       "        document.getElementsByTagName(\"head\")[0].appendChild(s);\n",
       "      });\n",
       "    }\n",
       "\n",
       "    function showError(err) {\n",
       "      outputDiv.innerHTML = `<div class=\"error\" style=\"color:red;\">${err}</div>`;\n",
       "      throw err;\n",
       "    }\n",
       "\n",
       "    function displayChart(vegaEmbed) {\n",
       "      vegaEmbed(outputDiv, spec, embedOpt)\n",
       "        .catch(err => showError(`Javascript Error: ${err.message}<br>This usually means there's a typo in your chart specification. See the javascript console for the full traceback.`));\n",
       "    }\n",
       "\n",
       "    if(typeof define === \"function\" && define.amd) {\n",
       "      requirejs.config({paths});\n",
       "      require([\"vega-embed\"], displayChart, err => showError(`Error loading script: ${err.message}`));\n",
       "    } else if (typeof vegaEmbed === \"function\") {\n",
       "      displayChart(vegaEmbed);\n",
       "    } else {\n",
       "      loadScript(\"vega\")\n",
       "        .then(() => loadScript(\"vega-lite\"))\n",
       "        .then(() => loadScript(\"vega-embed\"))\n",
       "        .catch(showError)\n",
       "        .then(() => displayChart(vegaEmbed));\n",
       "    }\n",
       "  })({\"config\": {\"view\": {\"continuousWidth\": 400, \"continuousHeight\": 300}, \"axis\": {\"labelAngle\": 0, \"labelFontSize\": 15, \"titleFontSize\": 15}, \"legend\": {\"cornerRadius\": 5, \"labelFontSize\": 15, \"orient\": \"right\", \"padding\": 10, \"strokeColor\": \"gray\"}, \"title\": {\"anchor\": \"middle\", \"fontSize\": 20, \"offset\": 10, \"orient\": \"top\"}}, \"data\": {\"name\": \"data-1199000a7884273d6228f2c25ce0614f\"}, \"mark\": \"bar\", \"encoding\": {\"color\": {\"type\": \"nominal\", \"field\": \"gender\"}, \"column\": {\"type\": \"ordinal\", \"field\": \"marathon\"}, \"tooltip\": [{\"type\": \"quantitative\", \"field\": \"count\"}], \"x\": {\"type\": \"ordinal\", \"field\": \"gender\"}, \"y\": {\"type\": \"quantitative\", \"field\": \"count\"}}, \"height\": 250, \"title\": \"Total number of wins by gender grouped by marathon city\", \"width\": 150, \"$schema\": \"https://vega.github.io/schema/vega-lite/v4.0.2.json\", \"datasets\": {\"data-1199000a7884273d6228f2c25ce0614f\": [{\"marathon\": \"Berlin\", \"gender\": \"Female\", \"count\": 44}, {\"marathon\": \"Berlin\", \"gender\": \"Male\", \"count\": 44}, {\"marathon\": \"Boston\", \"gender\": \"Female\", \"count\": 54}, {\"marathon\": \"Boston\", \"gender\": \"Male\", \"count\": 121}, {\"marathon\": \"Chicago\", \"gender\": \"Female\", \"count\": 40}, {\"marathon\": \"Chicago\", \"gender\": \"Male\", \"count\": 40}, {\"marathon\": \"London\", \"gender\": \"Female\", \"count\": 38}, {\"marathon\": \"London\", \"gender\": \"Male\", \"count\": 39}, {\"marathon\": \"NYC\", \"gender\": \"Female\", \"count\": 45}, {\"marathon\": \"NYC\", \"gender\": \"Male\", \"count\": 47}, {\"marathon\": \"Tokyo\", \"gender\": \"Female\", \"count\": 12}, {\"marathon\": \"Tokyo\", \"gender\": \"Male\", \"count\": 12}]}}, {\"mode\": \"vega-lite\"});\n",
       "</script>"
      ],
      "text/plain": [
       "alt.Chart(...)"
      ]
     },
     "execution_count": 241,
     "metadata": {},
     "output_type": "execute_result"
    }
   ],
   "source": [
    "alt.Chart(\n",
    "    place_gender_counts,\n",
    "    title='Total number of wins by gender grouped by marathon city',\n",
    ").mark_bar().encode(\n",
    "    x='gender:O',\n",
    "    y='count:Q',\n",
    "    tooltip=['count:Q'],\n",
    "    color='gender:N',\n",
    "    column='marathon:O',\n",
    ").properties(\n",
    "    width=150,\n",
    "    height=250\n",
    ").configure_axis(\n",
    "    labelFontSize=15,\n",
    "    titleFontSize=15,\n",
    "    labelAngle=0    \n",
    ").configure_legend(\n",
    "    strokeColor='gray',\n",
    "    labelFontSize=15,\n",
    "    padding=10,\n",
    "    cornerRadius=5,\n",
    "    orient='right'\n",
    ").configure_title(\n",
    "    fontSize=20,\n",
    "    offset=10,\n",
    "    orient='top',\n",
    "    anchor='middle'\n",
    ")"
   ]
  },
  {
   "cell_type": "code",
   "execution_count": null,
   "metadata": {},
   "outputs": [],
   "source": []
  },
  {
   "cell_type": "code",
   "execution_count": null,
   "metadata": {},
   "outputs": [],
   "source": []
  },
  {
   "cell_type": "code",
   "execution_count": null,
   "metadata": {},
   "outputs": [],
   "source": []
  },
  {
   "cell_type": "code",
   "execution_count": null,
   "metadata": {},
   "outputs": [],
   "source": []
  },
  {
   "cell_type": "code",
   "execution_count": null,
   "metadata": {},
   "outputs": [],
   "source": []
  },
  {
   "cell_type": "code",
   "execution_count": null,
   "metadata": {},
   "outputs": [],
   "source": []
  },
  {
   "cell_type": "code",
   "execution_count": null,
   "metadata": {},
   "outputs": [],
   "source": []
  }
 ],
 "metadata": {
  "kernelspec": {
   "display_name": "Python 3",
   "language": "python",
   "name": "python3"
  },
  "language_info": {
   "codemirror_mode": {
    "name": "ipython",
    "version": 3
   },
   "file_extension": ".py",
   "mimetype": "text/x-python",
   "name": "python",
   "nbconvert_exporter": "python",
   "pygments_lexer": "ipython3",
   "version": "3.7.7"
  }
 },
 "nbformat": 4,
 "nbformat_minor": 4
}
