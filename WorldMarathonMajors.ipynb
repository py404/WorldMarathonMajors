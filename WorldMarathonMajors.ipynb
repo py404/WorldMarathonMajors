{
 "cells": [
  {
   "cell_type": "markdown",
   "metadata": {
    "execution": {
     "iopub.execute_input": "2020-12-26T21:19:44.014647Z",
     "iopub.status.busy": "2020-12-26T21:19:44.014338Z",
     "iopub.status.idle": "2020-12-26T21:19:44.019680Z",
     "shell.execute_reply": "2020-12-26T21:19:44.018307Z",
     "shell.execute_reply.started": "2020-12-26T21:19:44.014619Z"
    }
   },
   "source": [
    "# Introduction\n",
    "\n",
    "This jupyter notebook has exploratory data analysis on the Kaggle dataset (https://www.kaggle.com/emmanuelleai/world-marathons-majors)"
   ]
  },
  {
   "cell_type": "markdown",
   "metadata": {},
   "source": [
    "## Import libraries"
   ]
  },
  {
   "cell_type": "code",
   "execution_count": 177,
   "metadata": {
    "execution": {
     "iopub.execute_input": "2020-12-26T22:56:54.465784Z",
     "iopub.status.busy": "2020-12-26T22:56:54.465205Z",
     "iopub.status.idle": "2020-12-26T22:56:54.471997Z",
     "shell.execute_reply": "2020-12-26T22:56:54.470379Z",
     "shell.execute_reply.started": "2020-12-26T22:56:54.465734Z"
    }
   },
   "outputs": [],
   "source": [
    "!pip install pandas\n",
    "!pip install altair\n",
    "\n",
    "from datetime import datetime\n",
    "import pandas as pd\n",
    "import altair as alt"
   ]
  },
  {
   "cell_type": "markdown",
   "metadata": {},
   "source": [
    "## Load data"
   ]
  },
  {
   "cell_type": "code",
   "execution_count": 178,
   "metadata": {
    "execution": {
     "iopub.execute_input": "2020-12-26T22:56:55.805841Z",
     "iopub.status.busy": "2020-12-26T22:56:55.805487Z",
     "iopub.status.idle": "2020-12-26T22:56:55.834926Z",
     "shell.execute_reply": "2020-12-26T22:56:55.833637Z",
     "shell.execute_reply.started": "2020-12-26T22:56:55.805815Z"
    }
   },
   "outputs": [
    {
     "data": {
      "text/html": [
       "<div>\n",
       "<style scoped>\n",
       "    .dataframe tbody tr th:only-of-type {\n",
       "        vertical-align: middle;\n",
       "    }\n",
       "\n",
       "    .dataframe tbody tr th {\n",
       "        vertical-align: top;\n",
       "    }\n",
       "\n",
       "    .dataframe thead th {\n",
       "        text-align: right;\n",
       "    }\n",
       "</style>\n",
       "<table border=\"1\" class=\"dataframe\">\n",
       "  <thead>\n",
       "    <tr style=\"text-align: right;\">\n",
       "      <th></th>\n",
       "      <th>year</th>\n",
       "      <th>winner</th>\n",
       "      <th>gender</th>\n",
       "      <th>country</th>\n",
       "      <th>time</th>\n",
       "      <th>marathon</th>\n",
       "    </tr>\n",
       "  </thead>\n",
       "  <tbody>\n",
       "    <tr>\n",
       "      <th>0</th>\n",
       "      <td>2018</td>\n",
       "      <td>Dickson Chumba</td>\n",
       "      <td>Male</td>\n",
       "      <td>Kenya</td>\n",
       "      <td>02:05:30</td>\n",
       "      <td>Tokyo</td>\n",
       "    </tr>\n",
       "    <tr>\n",
       "      <th>1</th>\n",
       "      <td>2018</td>\n",
       "      <td>Birhane Dibaba</td>\n",
       "      <td>Female</td>\n",
       "      <td>Ethiopia</td>\n",
       "      <td>02:19:51</td>\n",
       "      <td>Tokyo</td>\n",
       "    </tr>\n",
       "    <tr>\n",
       "      <th>2</th>\n",
       "      <td>2017</td>\n",
       "      <td>Wilson Kipsang</td>\n",
       "      <td>Male</td>\n",
       "      <td>Kenya</td>\n",
       "      <td>02:03:58</td>\n",
       "      <td>Tokyo</td>\n",
       "    </tr>\n",
       "    <tr>\n",
       "      <th>3</th>\n",
       "      <td>2017</td>\n",
       "      <td>Sarah Chepchirchir</td>\n",
       "      <td>Female</td>\n",
       "      <td>Kenya</td>\n",
       "      <td>02:19:47</td>\n",
       "      <td>Tokyo</td>\n",
       "    </tr>\n",
       "    <tr>\n",
       "      <th>4</th>\n",
       "      <td>2016</td>\n",
       "      <td>Feyisa Lilesa</td>\n",
       "      <td>Male</td>\n",
       "      <td>Ethiopia</td>\n",
       "      <td>02:06:56</td>\n",
       "      <td>Tokyo</td>\n",
       "    </tr>\n",
       "  </tbody>\n",
       "</table>\n",
       "</div>"
      ],
      "text/plain": [
       "   year              winner  gender   country      time marathon\n",
       "0  2018      Dickson Chumba    Male     Kenya  02:05:30    Tokyo\n",
       "1  2018      Birhane Dibaba  Female  Ethiopia  02:19:51    Tokyo\n",
       "2  2017      Wilson Kipsang    Male     Kenya  02:03:58    Tokyo\n",
       "3  2017  Sarah Chepchirchir  Female     Kenya  02:19:47    Tokyo\n",
       "4  2016       Feyisa Lilesa    Male  Ethiopia  02:06:56    Tokyo"
      ]
     },
     "execution_count": 178,
     "metadata": {},
     "output_type": "execute_result"
    }
   ],
   "source": [
    "df = pd.read_csv('world_marathon_majors.csv', encoding='ISO-8859-1')\n",
    "df.head()"
   ]
  },
  {
   "cell_type": "markdown",
   "metadata": {},
   "source": [
    "## Dataframe size"
   ]
  },
  {
   "cell_type": "code",
   "execution_count": 179,
   "metadata": {
    "execution": {
     "iopub.execute_input": "2020-12-26T22:56:58.225040Z",
     "iopub.status.busy": "2020-12-26T22:56:58.224652Z",
     "iopub.status.idle": "2020-12-26T22:56:58.231568Z",
     "shell.execute_reply": "2020-12-26T22:56:58.230376Z",
     "shell.execute_reply.started": "2020-12-26T22:56:58.225013Z"
    }
   },
   "outputs": [
    {
     "data": {
      "text/plain": [
       "(536, 6)"
      ]
     },
     "execution_count": 179,
     "metadata": {},
     "output_type": "execute_result"
    }
   ],
   "source": [
    "df.shape"
   ]
  },
  {
   "cell_type": "markdown",
   "metadata": {},
   "source": [
    "## Datatype checks"
   ]
  },
  {
   "cell_type": "code",
   "execution_count": 180,
   "metadata": {
    "execution": {
     "iopub.execute_input": "2020-12-26T22:57:00.422266Z",
     "iopub.status.busy": "2020-12-26T22:57:00.421819Z",
     "iopub.status.idle": "2020-12-26T22:57:00.434135Z",
     "shell.execute_reply": "2020-12-26T22:57:00.432614Z",
     "shell.execute_reply.started": "2020-12-26T22:57:00.422225Z"
    }
   },
   "outputs": [
    {
     "name": "stdout",
     "output_type": "stream",
     "text": [
      "<class 'pandas.core.frame.DataFrame'>\n",
      "RangeIndex: 536 entries, 0 to 535\n",
      "Data columns (total 6 columns):\n",
      " #   Column    Non-Null Count  Dtype \n",
      "---  ------    --------------  ----- \n",
      " 0   year      536 non-null    int64 \n",
      " 1   winner    536 non-null    object\n",
      " 2   gender    536 non-null    object\n",
      " 3   country   536 non-null    object\n",
      " 4   time      536 non-null    object\n",
      " 5   marathon  536 non-null    object\n",
      "dtypes: int64(1), object(5)\n",
      "memory usage: 25.2+ KB\n"
     ]
    }
   ],
   "source": [
    "df.info()"
   ]
  },
  {
   "cell_type": "markdown",
   "metadata": {},
   "source": [
    "## NA checks"
   ]
  },
  {
   "cell_type": "code",
   "execution_count": 181,
   "metadata": {
    "execution": {
     "iopub.execute_input": "2020-12-26T22:57:02.367931Z",
     "iopub.status.busy": "2020-12-26T22:57:02.367593Z",
     "iopub.status.idle": "2020-12-26T22:57:02.379053Z",
     "shell.execute_reply": "2020-12-26T22:57:02.377749Z",
     "shell.execute_reply.started": "2020-12-26T22:57:02.367887Z"
    }
   },
   "outputs": [
    {
     "data": {
      "text/plain": [
       "year        0\n",
       "winner      0\n",
       "gender      0\n",
       "country     0\n",
       "time        0\n",
       "marathon    0\n",
       "dtype: int64"
      ]
     },
     "execution_count": 181,
     "metadata": {},
     "output_type": "execute_result"
    }
   ],
   "source": [
    "df.isna().sum()"
   ]
  },
  {
   "cell_type": "markdown",
   "metadata": {
    "execution": {
     "iopub.execute_input": "2020-12-26T21:28:07.774380Z",
     "iopub.status.busy": "2020-12-26T21:28:07.773992Z",
     "iopub.status.idle": "2020-12-26T21:28:07.785288Z",
     "shell.execute_reply": "2020-12-26T21:28:07.783619Z",
     "shell.execute_reply.started": "2020-12-26T21:28:07.774337Z"
    }
   },
   "source": [
    "## Converting total time from hours to minutes (object => float)"
   ]
  },
  {
   "cell_type": "code",
   "execution_count": 182,
   "metadata": {
    "execution": {
     "iopub.execute_input": "2020-12-26T22:57:06.864577Z",
     "iopub.status.busy": "2020-12-26T22:57:06.864167Z",
     "iopub.status.idle": "2020-12-26T22:57:06.875574Z",
     "shell.execute_reply": "2020-12-26T22:57:06.874370Z",
     "shell.execute_reply.started": "2020-12-26T22:57:06.864539Z"
    }
   },
   "outputs": [
    {
     "data": {
      "text/plain": [
       "125.5"
      ]
     },
     "execution_count": 182,
     "metadata": {},
     "output_type": "execute_result"
    }
   ],
   "source": [
    "def str_to_time(x):\n",
    "    \"\"\"\n",
    "    hh:mm:ss => total minutes\n",
    "    e.g. 2:05:30 => 125.5\n",
    "    \"\"\"\n",
    "    t = datetime.strptime(x, \"%H:%M:%S\")\n",
    "    return t.hour * 60 + t.minute + (t.second / 60)\n",
    "    \n",
    "# test\n",
    "str_to_time(\"02:05:30\")"
   ]
  },
  {
   "cell_type": "code",
   "execution_count": 183,
   "metadata": {
    "execution": {
     "iopub.execute_input": "2020-12-26T22:57:07.494328Z",
     "iopub.status.busy": "2020-12-26T22:57:07.493659Z",
     "iopub.status.idle": "2020-12-26T22:57:07.539629Z",
     "shell.execute_reply": "2020-12-26T22:57:07.537750Z",
     "shell.execute_reply.started": "2020-12-26T22:57:07.494258Z"
    }
   },
   "outputs": [
    {
     "data": {
      "text/html": [
       "<div>\n",
       "<style scoped>\n",
       "    .dataframe tbody tr th:only-of-type {\n",
       "        vertical-align: middle;\n",
       "    }\n",
       "\n",
       "    .dataframe tbody tr th {\n",
       "        vertical-align: top;\n",
       "    }\n",
       "\n",
       "    .dataframe thead th {\n",
       "        text-align: right;\n",
       "    }\n",
       "</style>\n",
       "<table border=\"1\" class=\"dataframe\">\n",
       "  <thead>\n",
       "    <tr style=\"text-align: right;\">\n",
       "      <th></th>\n",
       "      <th>year</th>\n",
       "      <th>winner</th>\n",
       "      <th>gender</th>\n",
       "      <th>country</th>\n",
       "      <th>time</th>\n",
       "      <th>marathon</th>\n",
       "      <th>total_minutes</th>\n",
       "    </tr>\n",
       "  </thead>\n",
       "  <tbody>\n",
       "    <tr>\n",
       "      <th>0</th>\n",
       "      <td>2018</td>\n",
       "      <td>Dickson Chumba</td>\n",
       "      <td>Male</td>\n",
       "      <td>Kenya</td>\n",
       "      <td>02:05:30</td>\n",
       "      <td>Tokyo</td>\n",
       "      <td>125.500000</td>\n",
       "    </tr>\n",
       "    <tr>\n",
       "      <th>1</th>\n",
       "      <td>2018</td>\n",
       "      <td>Birhane Dibaba</td>\n",
       "      <td>Female</td>\n",
       "      <td>Ethiopia</td>\n",
       "      <td>02:19:51</td>\n",
       "      <td>Tokyo</td>\n",
       "      <td>139.850000</td>\n",
       "    </tr>\n",
       "    <tr>\n",
       "      <th>2</th>\n",
       "      <td>2017</td>\n",
       "      <td>Wilson Kipsang</td>\n",
       "      <td>Male</td>\n",
       "      <td>Kenya</td>\n",
       "      <td>02:03:58</td>\n",
       "      <td>Tokyo</td>\n",
       "      <td>123.966667</td>\n",
       "    </tr>\n",
       "    <tr>\n",
       "      <th>3</th>\n",
       "      <td>2017</td>\n",
       "      <td>Sarah Chepchirchir</td>\n",
       "      <td>Female</td>\n",
       "      <td>Kenya</td>\n",
       "      <td>02:19:47</td>\n",
       "      <td>Tokyo</td>\n",
       "      <td>139.783333</td>\n",
       "    </tr>\n",
       "    <tr>\n",
       "      <th>4</th>\n",
       "      <td>2016</td>\n",
       "      <td>Feyisa Lilesa</td>\n",
       "      <td>Male</td>\n",
       "      <td>Ethiopia</td>\n",
       "      <td>02:06:56</td>\n",
       "      <td>Tokyo</td>\n",
       "      <td>126.933333</td>\n",
       "    </tr>\n",
       "  </tbody>\n",
       "</table>\n",
       "</div>"
      ],
      "text/plain": [
       "   year              winner  gender   country      time marathon  \\\n",
       "0  2018      Dickson Chumba    Male     Kenya  02:05:30    Tokyo   \n",
       "1  2018      Birhane Dibaba  Female  Ethiopia  02:19:51    Tokyo   \n",
       "2  2017      Wilson Kipsang    Male     Kenya  02:03:58    Tokyo   \n",
       "3  2017  Sarah Chepchirchir  Female     Kenya  02:19:47    Tokyo   \n",
       "4  2016       Feyisa Lilesa    Male  Ethiopia  02:06:56    Tokyo   \n",
       "\n",
       "   total_minutes  \n",
       "0     125.500000  \n",
       "1     139.850000  \n",
       "2     123.966667  \n",
       "3     139.783333  \n",
       "4     126.933333  "
      ]
     },
     "execution_count": 183,
     "metadata": {},
     "output_type": "execute_result"
    }
   ],
   "source": [
    "df['total_minutes'] = df['time'].apply(lambda x: str_to_time(x))\n",
    "df.head()"
   ]
  },
  {
   "cell_type": "code",
   "execution_count": 184,
   "metadata": {
    "execution": {
     "iopub.execute_input": "2020-12-26T22:57:08.252540Z",
     "iopub.status.busy": "2020-12-26T22:57:08.251699Z",
     "iopub.status.idle": "2020-12-26T22:57:08.265628Z",
     "shell.execute_reply": "2020-12-26T22:57:08.263763Z",
     "shell.execute_reply.started": "2020-12-26T22:57:08.252483Z"
    }
   },
   "outputs": [
    {
     "data": {
      "text/plain": [
       "dtype('float64')"
      ]
     },
     "execution_count": 184,
     "metadata": {},
     "output_type": "execute_result"
    }
   ],
   "source": [
    "df.total_minutes.dtype"
   ]
  },
  {
   "cell_type": "markdown",
   "metadata": {},
   "source": [
    "## EDA (Exploratory Data Analysis) and Visualizations"
   ]
  },
  {
   "cell_type": "markdown",
   "metadata": {},
   "source": [
    "### Total wins by Country"
   ]
  },
  {
   "cell_type": "code",
   "execution_count": 185,
   "metadata": {
    "execution": {
     "iopub.execute_input": "2020-12-26T22:57:21.605813Z",
     "iopub.status.busy": "2020-12-26T22:57:21.605451Z",
     "iopub.status.idle": "2020-12-26T22:57:21.624317Z",
     "shell.execute_reply": "2020-12-26T22:57:21.622859Z",
     "shell.execute_reply.started": "2020-12-26T22:57:21.605774Z"
    }
   },
   "outputs": [
    {
     "data": {
      "text/html": [
       "<div>\n",
       "<style scoped>\n",
       "    .dataframe tbody tr th:only-of-type {\n",
       "        vertical-align: middle;\n",
       "    }\n",
       "\n",
       "    .dataframe tbody tr th {\n",
       "        vertical-align: top;\n",
       "    }\n",
       "\n",
       "    .dataframe thead th {\n",
       "        text-align: right;\n",
       "    }\n",
       "</style>\n",
       "<table border=\"1\" class=\"dataframe\">\n",
       "  <thead>\n",
       "    <tr style=\"text-align: right;\">\n",
       "      <th></th>\n",
       "      <th>Country</th>\n",
       "      <th>Wins</th>\n",
       "    </tr>\n",
       "  </thead>\n",
       "  <tbody>\n",
       "    <tr>\n",
       "      <th>0</th>\n",
       "      <td>Australia</td>\n",
       "      <td>3</td>\n",
       "    </tr>\n",
       "    <tr>\n",
       "      <th>1</th>\n",
       "      <td>Belgium</td>\n",
       "      <td>5</td>\n",
       "    </tr>\n",
       "    <tr>\n",
       "      <th>2</th>\n",
       "      <td>Brazil</td>\n",
       "      <td>7</td>\n",
       "    </tr>\n",
       "    <tr>\n",
       "      <th>3</th>\n",
       "      <td>Canada</td>\n",
       "      <td>17</td>\n",
       "    </tr>\n",
       "    <tr>\n",
       "      <th>4</th>\n",
       "      <td>China</td>\n",
       "      <td>1</td>\n",
       "    </tr>\n",
       "  </tbody>\n",
       "</table>\n",
       "</div>"
      ],
      "text/plain": [
       "     Country  Wins\n",
       "0  Australia     3\n",
       "1    Belgium     5\n",
       "2     Brazil     7\n",
       "3     Canada    17\n",
       "4      China     1"
      ]
     },
     "execution_count": 185,
     "metadata": {},
     "output_type": "execute_result"
    }
   ],
   "source": [
    "country_counts = pd.DataFrame(df.groupby('country')['year'].agg('count')).reset_index()\n",
    "country_counts.columns = ['Country', 'Wins']\n",
    "country_counts.head()"
   ]
  },
  {
   "cell_type": "code",
   "execution_count": 186,
   "metadata": {
    "execution": {
     "iopub.execute_input": "2020-12-26T22:57:22.120920Z",
     "iopub.status.busy": "2020-12-26T22:57:22.120569Z",
     "iopub.status.idle": "2020-12-26T22:57:22.221018Z",
     "shell.execute_reply": "2020-12-26T22:57:22.218833Z",
     "shell.execute_reply.started": "2020-12-26T22:57:22.120888Z"
    }
   },
   "outputs": [
    {
     "data": {
      "text/html": [
       "\n",
       "<div id=\"altair-viz-999d2fe05b524e7683134439f1b4d39e\"></div>\n",
       "<script type=\"text/javascript\">\n",
       "  (function(spec, embedOpt){\n",
       "    const outputDiv = document.getElementById(\"altair-viz-999d2fe05b524e7683134439f1b4d39e\");\n",
       "    const paths = {\n",
       "      \"vega\": \"https://cdn.jsdelivr.net/npm//vega@5?noext\",\n",
       "      \"vega-lib\": \"https://cdn.jsdelivr.net/npm//vega-lib?noext\",\n",
       "      \"vega-lite\": \"https://cdn.jsdelivr.net/npm//vega-lite@4.0.2?noext\",\n",
       "      \"vega-embed\": \"https://cdn.jsdelivr.net/npm//vega-embed@6?noext\",\n",
       "    };\n",
       "\n",
       "    function loadScript(lib) {\n",
       "      return new Promise(function(resolve, reject) {\n",
       "        var s = document.createElement('script');\n",
       "        s.src = paths[lib];\n",
       "        s.async = true;\n",
       "        s.onload = () => resolve(paths[lib]);\n",
       "        s.onerror = () => reject(`Error loading script: ${paths[lib]}`);\n",
       "        document.getElementsByTagName(\"head\")[0].appendChild(s);\n",
       "      });\n",
       "    }\n",
       "\n",
       "    function showError(err) {\n",
       "      outputDiv.innerHTML = `<div class=\"error\" style=\"color:red;\">${err}</div>`;\n",
       "      throw err;\n",
       "    }\n",
       "\n",
       "    function displayChart(vegaEmbed) {\n",
       "      vegaEmbed(outputDiv, spec, embedOpt)\n",
       "        .catch(err => showError(`Javascript Error: ${err.message}<br>This usually means there's a typo in your chart specification. See the javascript console for the full traceback.`));\n",
       "    }\n",
       "\n",
       "    if(typeof define === \"function\" && define.amd) {\n",
       "      requirejs.config({paths});\n",
       "      require([\"vega-embed\"], displayChart, err => showError(`Error loading script: ${err.message}`));\n",
       "    } else if (typeof vegaEmbed === \"function\") {\n",
       "      displayChart(vegaEmbed);\n",
       "    } else {\n",
       "      loadScript(\"vega\")\n",
       "        .then(() => loadScript(\"vega-lite\"))\n",
       "        .then(() => loadScript(\"vega-embed\"))\n",
       "        .catch(showError)\n",
       "        .then(() => displayChart(vegaEmbed));\n",
       "    }\n",
       "  })({\"config\": {\"view\": {\"continuousWidth\": 400, \"continuousHeight\": 300}, \"axis\": {\"labelFontSize\": 15, \"titleFontSize\": 20}}, \"layer\": [{\"mark\": \"bar\", \"encoding\": {\"color\": {\"condition\": {\"value\": \"orange\", \"test\": \"(datum.Wins === 136)\"}, \"value\": \"steelblue\"}, \"opacity\": {\"condition\": {\"value\": 1, \"selection\": \"selector047\"}, \"value\": 0.7}, \"tooltip\": [{\"type\": \"quantitative\", \"field\": \"Wins\"}], \"x\": {\"type\": \"ordinal\", \"field\": \"Country\"}, \"y\": {\"type\": \"quantitative\", \"field\": \"Wins\"}}, \"selection\": {\"selector047\": {\"type\": \"interval\", \"encodings\": [\"x\"]}}}, {\"mark\": {\"type\": \"rule\", \"color\": \"red\"}, \"encoding\": {\"size\": {\"value\": 4}, \"y\": {\"type\": \"quantitative\", \"aggregate\": \"mean\", \"field\": \"Wins\"}}, \"transform\": [{\"filter\": {\"selection\": \"selector047\"}}]}], \"data\": {\"name\": \"data-cd66408d90ffc37a9ac46d659f216ada\"}, \"height\": 500, \"width\": 850, \"$schema\": \"https://vega.github.io/schema/vega-lite/v4.0.2.json\", \"datasets\": {\"data-cd66408d90ffc37a9ac46d659f216ada\": [{\"Country\": \"Australia\", \"Wins\": 3}, {\"Country\": \"Belgium\", \"Wins\": 5}, {\"Country\": \"Brazil\", \"Wins\": 7}, {\"Country\": \"Canada\", \"Wins\": 17}, {\"Country\": \"China\", \"Wins\": 1}, {\"Country\": \"Colombia\", \"Wins\": 2}, {\"Country\": \"Denmark\", \"Wins\": 2}, {\"Country\": \"Eritrea\", \"Wins\": 1}, {\"Country\": \"Ethiopia\", \"Wins\": 51}, {\"Country\": \"Finland\", \"Wins\": 10}, {\"Country\": \"Germany\", \"Wins\": 36}, {\"Country\": \"Greece\", \"Wins\": 2}, {\"Country\": \"Guatemala\", \"Wins\": 1}, {\"Country\": \"Hungary\", \"Wins\": 1}, {\"Country\": \"Ireland\", \"Wins\": 3}, {\"Country\": \"Italy\", \"Wins\": 6}, {\"Country\": \"Japan\", \"Wins\": 22}, {\"Country\": \"Kenya\", \"Wins\": 136}, {\"Country\": \"Latvia\", \"Wins\": 2}, {\"Country\": \"Mexico\", \"Wins\": 10}, {\"Country\": \"Morocco\", \"Wins\": 5}, {\"Country\": \"New Zealand\", \"Wins\": 5}, {\"Country\": \"Norway\", \"Wins\": 20}, {\"Country\": \"Poland\", \"Wins\": 8}, {\"Country\": \"Portugal\", \"Wins\": 11}, {\"Country\": \"Romania\", \"Wins\": 2}, {\"Country\": \"Russia\", \"Wins\": 8}, {\"Country\": \"South Africa\", \"Wins\": 5}, {\"Country\": \"South Korea\", \"Wins\": 3}, {\"Country\": \"Soviet Union\", \"Wins\": 1}, {\"Country\": \"Spain\", \"Wins\": 2}, {\"Country\": \"Sweden\", \"Wins\": 2}, {\"Country\": \"Switzerland\", \"Wins\": 2}, {\"Country\": \"Tanzania\", \"Wins\": 4}, {\"Country\": \"United Kingdom\", \"Wins\": 35}, {\"Country\": \"United States\", \"Wins\": 104}, {\"Country\": \"Yugoslavia\", \"Wins\": 1}]}}, {\"mode\": \"vega-lite\"});\n",
       "</script>"
      ],
      "text/plain": [
       "alt.LayerChart(...)"
      ]
     },
     "execution_count": 186,
     "metadata": {},
     "output_type": "execute_result"
    }
   ],
   "source": [
    "max_wins = country_counts.Wins.max()\n",
    "\n",
    "brush = alt.selection(type='interval', encodings=['x'])\n",
    "\n",
    "bar_counts = alt.Chart().mark_bar().encode(\n",
    "    x='Country:O',\n",
    "    y='Wins:Q',\n",
    "    opacity=alt.condition(brush, alt.OpacityValue(1), alt.OpacityValue(0.7)),\n",
    "    tooltip=['Wins'],\n",
    "    color=alt.condition(\n",
    "        alt.datum.Wins == max_wins,\n",
    "        alt.value('orange'),\n",
    "        alt.value('steelblue')\n",
    "    )\n",
    ").add_selection(\n",
    "    brush\n",
    ")\n",
    "\n",
    "mean_line = alt.Chart().mark_rule(\n",
    "    color='red',    \n",
    ").encode(\n",
    "    y='mean(Wins):Q',\n",
    "    size=alt.SizeValue(4)\n",
    ").transform_filter(\n",
    "    brush\n",
    ")\n",
    "\n",
    "final = alt.layer(bar_counts, mean_line, data=country_counts)\n",
    "final.properties(\n",
    "    width=850,\n",
    "    height=500\n",
    ").configure_axis(\n",
    "    labelFontSize=15,\n",
    "    titleFontSize=20\n",
    ")"
   ]
  },
  {
   "cell_type": "markdown",
   "metadata": {},
   "source": [
    "### Overall Female & Male winners ratio"
   ]
  },
  {
   "cell_type": "code",
   "execution_count": 187,
   "metadata": {
    "execution": {
     "iopub.execute_input": "2020-12-26T22:57:27.161574Z",
     "iopub.status.busy": "2020-12-26T22:57:27.161109Z",
     "iopub.status.idle": "2020-12-26T22:57:27.179376Z",
     "shell.execute_reply": "2020-12-26T22:57:27.177799Z",
     "shell.execute_reply.started": "2020-12-26T22:57:27.161531Z"
    }
   },
   "outputs": [
    {
     "data": {
      "text/html": [
       "<div>\n",
       "<style scoped>\n",
       "    .dataframe tbody tr th:only-of-type {\n",
       "        vertical-align: middle;\n",
       "    }\n",
       "\n",
       "    .dataframe tbody tr th {\n",
       "        vertical-align: top;\n",
       "    }\n",
       "\n",
       "    .dataframe thead th {\n",
       "        text-align: right;\n",
       "    }\n",
       "</style>\n",
       "<table border=\"1\" class=\"dataframe\">\n",
       "  <thead>\n",
       "    <tr style=\"text-align: right;\">\n",
       "      <th></th>\n",
       "      <th>Gender</th>\n",
       "      <th>Wins</th>\n",
       "    </tr>\n",
       "  </thead>\n",
       "  <tbody>\n",
       "    <tr>\n",
       "      <th>0</th>\n",
       "      <td>Male</td>\n",
       "      <td>303</td>\n",
       "    </tr>\n",
       "    <tr>\n",
       "      <th>1</th>\n",
       "      <td>Female</td>\n",
       "      <td>233</td>\n",
       "    </tr>\n",
       "  </tbody>\n",
       "</table>\n",
       "</div>"
      ],
      "text/plain": [
       "   Gender  Wins\n",
       "0    Male   303\n",
       "1  Female   233"
      ]
     },
     "execution_count": 187,
     "metadata": {},
     "output_type": "execute_result"
    }
   ],
   "source": [
    "gender_counts = pd.DataFrame(df.gender.value_counts()).reset_index()\n",
    "gender_counts.columns = ['Gender', 'Wins']\n",
    "gender_counts"
   ]
  },
  {
   "cell_type": "code",
   "execution_count": 231,
   "metadata": {
    "execution": {
     "iopub.execute_input": "2020-12-26T23:13:11.819845Z",
     "iopub.status.busy": "2020-12-26T23:13:11.819407Z",
     "iopub.status.idle": "2020-12-26T23:13:11.874356Z",
     "shell.execute_reply": "2020-12-26T23:13:11.872665Z",
     "shell.execute_reply.started": "2020-12-26T23:13:11.819815Z"
    }
   },
   "outputs": [
    {
     "data": {
      "text/html": [
       "\n",
       "<div id=\"altair-viz-fe89302f2b704fb1aaa21bef98703370\"></div>\n",
       "<script type=\"text/javascript\">\n",
       "  (function(spec, embedOpt){\n",
       "    const outputDiv = document.getElementById(\"altair-viz-fe89302f2b704fb1aaa21bef98703370\");\n",
       "    const paths = {\n",
       "      \"vega\": \"https://cdn.jsdelivr.net/npm//vega@5?noext\",\n",
       "      \"vega-lib\": \"https://cdn.jsdelivr.net/npm//vega-lib?noext\",\n",
       "      \"vega-lite\": \"https://cdn.jsdelivr.net/npm//vega-lite@4.0.2?noext\",\n",
       "      \"vega-embed\": \"https://cdn.jsdelivr.net/npm//vega-embed@6?noext\",\n",
       "    };\n",
       "\n",
       "    function loadScript(lib) {\n",
       "      return new Promise(function(resolve, reject) {\n",
       "        var s = document.createElement('script');\n",
       "        s.src = paths[lib];\n",
       "        s.async = true;\n",
       "        s.onload = () => resolve(paths[lib]);\n",
       "        s.onerror = () => reject(`Error loading script: ${paths[lib]}`);\n",
       "        document.getElementsByTagName(\"head\")[0].appendChild(s);\n",
       "      });\n",
       "    }\n",
       "\n",
       "    function showError(err) {\n",
       "      outputDiv.innerHTML = `<div class=\"error\" style=\"color:red;\">${err}</div>`;\n",
       "      throw err;\n",
       "    }\n",
       "\n",
       "    function displayChart(vegaEmbed) {\n",
       "      vegaEmbed(outputDiv, spec, embedOpt)\n",
       "        .catch(err => showError(`Javascript Error: ${err.message}<br>This usually means there's a typo in your chart specification. See the javascript console for the full traceback.`));\n",
       "    }\n",
       "\n",
       "    if(typeof define === \"function\" && define.amd) {\n",
       "      requirejs.config({paths});\n",
       "      require([\"vega-embed\"], displayChart, err => showError(`Error loading script: ${err.message}`));\n",
       "    } else if (typeof vegaEmbed === \"function\") {\n",
       "      displayChart(vegaEmbed);\n",
       "    } else {\n",
       "      loadScript(\"vega\")\n",
       "        .then(() => loadScript(\"vega-lite\"))\n",
       "        .then(() => loadScript(\"vega-embed\"))\n",
       "        .catch(showError)\n",
       "        .then(() => displayChart(vegaEmbed));\n",
       "    }\n",
       "  })({\"config\": {\"view\": {\"continuousWidth\": 400, \"continuousHeight\": 300}, \"axis\": {\"labelAngle\": 0, \"labelFontSize\": 15, \"titleFontSize\": 20}, \"legend\": {\"cornerRadius\": 5, \"labelFontSize\": 15, \"orient\": \"right\", \"padding\": 10, \"strokeColor\": \"gray\"}}, \"data\": {\"name\": \"data-c345515a8f68052a3d31907999686686\"}, \"mark\": \"bar\", \"encoding\": {\"color\": {\"type\": \"nominal\", \"field\": \"Gender\"}, \"tooltip\": [{\"type\": \"quantitative\", \"field\": \"Wins\"}], \"x\": {\"type\": \"ordinal\", \"field\": \"Gender\"}, \"y\": {\"type\": \"quantitative\", \"field\": \"Wins\"}}, \"height\": 350, \"width\": 300, \"$schema\": \"https://vega.github.io/schema/vega-lite/v4.0.2.json\", \"datasets\": {\"data-c345515a8f68052a3d31907999686686\": [{\"Gender\": \"Male\", \"Wins\": 303}, {\"Gender\": \"Female\", \"Wins\": 233}]}}, {\"mode\": \"vega-lite\"});\n",
       "</script>"
      ],
      "text/plain": [
       "alt.Chart(...)"
      ]
     },
     "execution_count": 231,
     "metadata": {},
     "output_type": "execute_result"
    }
   ],
   "source": [
    "alt.Chart(gender_counts).mark_bar().encode(\n",
    "    x='Gender:O',\n",
    "    y='Wins:Q',\n",
    "    tooltip=['Wins'],\n",
    "    color=alt.Color('Gender')\n",
    ").properties(\n",
    "    width=300,\n",
    "    height=350\n",
    ").configure_axis(\n",
    "    labelFontSize=15,\n",
    "    titleFontSize=20,\n",
    "    labelAngle=0\n",
    ").configure_legend(\n",
    "    strokeColor='gray',\n",
    "    labelFontSize=15,\n",
    "    padding=10,\n",
    "    cornerRadius=5,\n",
    "    orient='right'\n",
    ")"
   ]
  },
  {
   "cell_type": "markdown",
   "metadata": {},
   "source": [
    "### Wins by Place and Gender"
   ]
  },
  {
   "cell_type": "code",
   "execution_count": 214,
   "metadata": {
    "execution": {
     "iopub.execute_input": "2020-12-26T23:07:34.979708Z",
     "iopub.status.busy": "2020-12-26T23:07:34.979231Z",
     "iopub.status.idle": "2020-12-26T23:07:35.006291Z",
     "shell.execute_reply": "2020-12-26T23:07:35.004665Z",
     "shell.execute_reply.started": "2020-12-26T23:07:34.979641Z"
    }
   },
   "outputs": [
    {
     "data": {
      "text/html": [
       "<div>\n",
       "<style scoped>\n",
       "    .dataframe tbody tr th:only-of-type {\n",
       "        vertical-align: middle;\n",
       "    }\n",
       "\n",
       "    .dataframe tbody tr th {\n",
       "        vertical-align: top;\n",
       "    }\n",
       "\n",
       "    .dataframe thead th {\n",
       "        text-align: right;\n",
       "    }\n",
       "</style>\n",
       "<table border=\"1\" class=\"dataframe\">\n",
       "  <thead>\n",
       "    <tr style=\"text-align: right;\">\n",
       "      <th></th>\n",
       "      <th>marathon</th>\n",
       "      <th>gender</th>\n",
       "      <th>count</th>\n",
       "    </tr>\n",
       "  </thead>\n",
       "  <tbody>\n",
       "    <tr>\n",
       "      <th>0</th>\n",
       "      <td>Berlin</td>\n",
       "      <td>Female</td>\n",
       "      <td>44</td>\n",
       "    </tr>\n",
       "    <tr>\n",
       "      <th>1</th>\n",
       "      <td>Berlin</td>\n",
       "      <td>Male</td>\n",
       "      <td>44</td>\n",
       "    </tr>\n",
       "    <tr>\n",
       "      <th>2</th>\n",
       "      <td>Boston</td>\n",
       "      <td>Female</td>\n",
       "      <td>54</td>\n",
       "    </tr>\n",
       "    <tr>\n",
       "      <th>3</th>\n",
       "      <td>Boston</td>\n",
       "      <td>Male</td>\n",
       "      <td>121</td>\n",
       "    </tr>\n",
       "    <tr>\n",
       "      <th>4</th>\n",
       "      <td>Chicago</td>\n",
       "      <td>Female</td>\n",
       "      <td>40</td>\n",
       "    </tr>\n",
       "    <tr>\n",
       "      <th>5</th>\n",
       "      <td>Chicago</td>\n",
       "      <td>Male</td>\n",
       "      <td>40</td>\n",
       "    </tr>\n",
       "    <tr>\n",
       "      <th>6</th>\n",
       "      <td>London</td>\n",
       "      <td>Female</td>\n",
       "      <td>38</td>\n",
       "    </tr>\n",
       "    <tr>\n",
       "      <th>7</th>\n",
       "      <td>London</td>\n",
       "      <td>Male</td>\n",
       "      <td>39</td>\n",
       "    </tr>\n",
       "    <tr>\n",
       "      <th>8</th>\n",
       "      <td>NYC</td>\n",
       "      <td>Female</td>\n",
       "      <td>45</td>\n",
       "    </tr>\n",
       "    <tr>\n",
       "      <th>9</th>\n",
       "      <td>NYC</td>\n",
       "      <td>Male</td>\n",
       "      <td>47</td>\n",
       "    </tr>\n",
       "    <tr>\n",
       "      <th>10</th>\n",
       "      <td>Tokyo</td>\n",
       "      <td>Female</td>\n",
       "      <td>12</td>\n",
       "    </tr>\n",
       "    <tr>\n",
       "      <th>11</th>\n",
       "      <td>Tokyo</td>\n",
       "      <td>Male</td>\n",
       "      <td>12</td>\n",
       "    </tr>\n",
       "  </tbody>\n",
       "</table>\n",
       "</div>"
      ],
      "text/plain": [
       "   marathon  gender  count\n",
       "0    Berlin  Female     44\n",
       "1    Berlin    Male     44\n",
       "2    Boston  Female     54\n",
       "3    Boston    Male    121\n",
       "4   Chicago  Female     40\n",
       "5   Chicago    Male     40\n",
       "6    London  Female     38\n",
       "7    London    Male     39\n",
       "8       NYC  Female     45\n",
       "9       NYC    Male     47\n",
       "10    Tokyo  Female     12\n",
       "11    Tokyo    Male     12"
      ]
     },
     "execution_count": 214,
     "metadata": {},
     "output_type": "execute_result"
    }
   ],
   "source": [
    "place_gender_counts = df.groupby(['marathon', 'gender'])['year'].agg(['count']).reset_index()\n",
    "place_gender_counts"
   ]
  },
  {
   "cell_type": "code",
   "execution_count": 261,
   "metadata": {
    "execution": {
     "iopub.execute_input": "2020-12-26T23:35:13.546461Z",
     "iopub.status.busy": "2020-12-26T23:35:13.545751Z",
     "iopub.status.idle": "2020-12-26T23:35:13.650544Z",
     "shell.execute_reply": "2020-12-26T23:35:13.645707Z",
     "shell.execute_reply.started": "2020-12-26T23:35:13.546402Z"
    }
   },
   "outputs": [
    {
     "data": {
      "text/html": [
       "\n",
       "<div id=\"altair-viz-a7c7ceb266ee4dc78322d25787ec1770\"></div>\n",
       "<script type=\"text/javascript\">\n",
       "  (function(spec, embedOpt){\n",
       "    const outputDiv = document.getElementById(\"altair-viz-a7c7ceb266ee4dc78322d25787ec1770\");\n",
       "    const paths = {\n",
       "      \"vega\": \"https://cdn.jsdelivr.net/npm//vega@5?noext\",\n",
       "      \"vega-lib\": \"https://cdn.jsdelivr.net/npm//vega-lib?noext\",\n",
       "      \"vega-lite\": \"https://cdn.jsdelivr.net/npm//vega-lite@4.0.2?noext\",\n",
       "      \"vega-embed\": \"https://cdn.jsdelivr.net/npm//vega-embed@6?noext\",\n",
       "    };\n",
       "\n",
       "    function loadScript(lib) {\n",
       "      return new Promise(function(resolve, reject) {\n",
       "        var s = document.createElement('script');\n",
       "        s.src = paths[lib];\n",
       "        s.async = true;\n",
       "        s.onload = () => resolve(paths[lib]);\n",
       "        s.onerror = () => reject(`Error loading script: ${paths[lib]}`);\n",
       "        document.getElementsByTagName(\"head\")[0].appendChild(s);\n",
       "      });\n",
       "    }\n",
       "\n",
       "    function showError(err) {\n",
       "      outputDiv.innerHTML = `<div class=\"error\" style=\"color:red;\">${err}</div>`;\n",
       "      throw err;\n",
       "    }\n",
       "\n",
       "    function displayChart(vegaEmbed) {\n",
       "      vegaEmbed(outputDiv, spec, embedOpt)\n",
       "        .catch(err => showError(`Javascript Error: ${err.message}<br>This usually means there's a typo in your chart specification. See the javascript console for the full traceback.`));\n",
       "    }\n",
       "\n",
       "    if(typeof define === \"function\" && define.amd) {\n",
       "      requirejs.config({paths});\n",
       "      require([\"vega-embed\"], displayChart, err => showError(`Error loading script: ${err.message}`));\n",
       "    } else if (typeof vegaEmbed === \"function\") {\n",
       "      displayChart(vegaEmbed);\n",
       "    } else {\n",
       "      loadScript(\"vega\")\n",
       "        .then(() => loadScript(\"vega-lite\"))\n",
       "        .then(() => loadScript(\"vega-embed\"))\n",
       "        .catch(showError)\n",
       "        .then(() => displayChart(vegaEmbed));\n",
       "    }\n",
       "  })({\"config\": {\"view\": {\"continuousWidth\": 400, \"continuousHeight\": 300}, \"axis\": {\"labelAngle\": 0, \"labelFontSize\": 15}, \"header\": {\"labelFontSize\": 18}, \"legend\": {\"cornerRadius\": 5, \"labelFontSize\": 15, \"orient\": \"right\", \"padding\": 10, \"strokeColor\": \"gray\"}, \"title\": {\"anchor\": \"middle\", \"fontSize\": 20, \"offset\": 10, \"orient\": \"top\"}}, \"data\": {\"name\": \"data-1199000a7884273d6228f2c25ce0614f\"}, \"mark\": \"bar\", \"encoding\": {\"color\": {\"type\": \"nominal\", \"field\": \"gender\"}, \"column\": {\"type\": \"ordinal\", \"field\": \"marathon\"}, \"tooltip\": [{\"type\": \"quantitative\", \"field\": \"count\"}], \"x\": {\"type\": \"ordinal\", \"field\": \"gender\"}, \"y\": {\"type\": \"quantitative\", \"field\": \"count\"}}, \"height\": 250, \"title\": \"Total number of wins by gender grouped by marathon city\", \"width\": 150, \"$schema\": \"https://vega.github.io/schema/vega-lite/v4.0.2.json\", \"datasets\": {\"data-1199000a7884273d6228f2c25ce0614f\": [{\"marathon\": \"Berlin\", \"gender\": \"Female\", \"count\": 44}, {\"marathon\": \"Berlin\", \"gender\": \"Male\", \"count\": 44}, {\"marathon\": \"Boston\", \"gender\": \"Female\", \"count\": 54}, {\"marathon\": \"Boston\", \"gender\": \"Male\", \"count\": 121}, {\"marathon\": \"Chicago\", \"gender\": \"Female\", \"count\": 40}, {\"marathon\": \"Chicago\", \"gender\": \"Male\", \"count\": 40}, {\"marathon\": \"London\", \"gender\": \"Female\", \"count\": 38}, {\"marathon\": \"London\", \"gender\": \"Male\", \"count\": 39}, {\"marathon\": \"NYC\", \"gender\": \"Female\", \"count\": 45}, {\"marathon\": \"NYC\", \"gender\": \"Male\", \"count\": 47}, {\"marathon\": \"Tokyo\", \"gender\": \"Female\", \"count\": 12}, {\"marathon\": \"Tokyo\", \"gender\": \"Male\", \"count\": 12}]}}, {\"mode\": \"vega-lite\"});\n",
       "</script>"
      ],
      "text/plain": [
       "alt.Chart(...)"
      ]
     },
     "execution_count": 261,
     "metadata": {},
     "output_type": "execute_result"
    }
   ],
   "source": [
    "alt.Chart(\n",
    "    place_gender_counts,\n",
    "    title='Total number of wins by gender grouped by marathon city',\n",
    ").mark_bar().encode(\n",
    "    x='gender:O',\n",
    "    y='count:Q',\n",
    "    tooltip=['count:Q'],\n",
    "    color='gender:N',\n",
    "    column='marathon:O',\n",
    ").properties(\n",
    "    width=150,\n",
    "    height=250\n",
    ").configure_axis(\n",
    "    labelFontSize=15,\n",
    "    labelAngle=0    \n",
    ").configure_legend(\n",
    "    strokeColor='gray',\n",
    "    labelFontSize=15,\n",
    "    padding=10,\n",
    "    cornerRadius=5,\n",
    "    orient='right'\n",
    ").configure_title(\n",
    "    fontSize=20,\n",
    "    offset=10,\n",
    "    orient='top',\n",
    "    anchor='middle'\n",
    ").configure_header(\n",
    "    labelFontSize=18\n",
    ")"
   ]
  },
  {
   "cell_type": "markdown",
   "metadata": {},
   "source": [
    "### Histogram of marathon competitions"
   ]
  },
  {
   "cell_type": "code",
   "execution_count": 290,
   "metadata": {
    "execution": {
     "iopub.execute_input": "2020-12-27T00:00:02.482923Z",
     "iopub.status.busy": "2020-12-27T00:00:02.482595Z",
     "iopub.status.idle": "2020-12-27T00:00:02.582677Z",
     "shell.execute_reply": "2020-12-27T00:00:02.580797Z",
     "shell.execute_reply.started": "2020-12-27T00:00:02.482894Z"
    }
   },
   "outputs": [
    {
     "data": {
      "text/html": [
       "\n",
       "<div id=\"altair-viz-c799784b962c46719aa311aa9a6cd4fc\"></div>\n",
       "<script type=\"text/javascript\">\n",
       "  (function(spec, embedOpt){\n",
       "    const outputDiv = document.getElementById(\"altair-viz-c799784b962c46719aa311aa9a6cd4fc\");\n",
       "    const paths = {\n",
       "      \"vega\": \"https://cdn.jsdelivr.net/npm//vega@5?noext\",\n",
       "      \"vega-lib\": \"https://cdn.jsdelivr.net/npm//vega-lib?noext\",\n",
       "      \"vega-lite\": \"https://cdn.jsdelivr.net/npm//vega-lite@4.0.2?noext\",\n",
       "      \"vega-embed\": \"https://cdn.jsdelivr.net/npm//vega-embed@6?noext\",\n",
       "    };\n",
       "\n",
       "    function loadScript(lib) {\n",
       "      return new Promise(function(resolve, reject) {\n",
       "        var s = document.createElement('script');\n",
       "        s.src = paths[lib];\n",
       "        s.async = true;\n",
       "        s.onload = () => resolve(paths[lib]);\n",
       "        s.onerror = () => reject(`Error loading script: ${paths[lib]}`);\n",
       "        document.getElementsByTagName(\"head\")[0].appendChild(s);\n",
       "      });\n",
       "    }\n",
       "\n",
       "    function showError(err) {\n",
       "      outputDiv.innerHTML = `<div class=\"error\" style=\"color:red;\">${err}</div>`;\n",
       "      throw err;\n",
       "    }\n",
       "\n",
       "    function displayChart(vegaEmbed) {\n",
       "      vegaEmbed(outputDiv, spec, embedOpt)\n",
       "        .catch(err => showError(`Javascript Error: ${err.message}<br>This usually means there's a typo in your chart specification. See the javascript console for the full traceback.`));\n",
       "    }\n",
       "\n",
       "    if(typeof define === \"function\" && define.amd) {\n",
       "      requirejs.config({paths});\n",
       "      require([\"vega-embed\"], displayChart, err => showError(`Error loading script: ${err.message}`));\n",
       "    } else if (typeof vegaEmbed === \"function\") {\n",
       "      displayChart(vegaEmbed);\n",
       "    } else {\n",
       "      loadScript(\"vega\")\n",
       "        .then(() => loadScript(\"vega-lite\"))\n",
       "        .then(() => loadScript(\"vega-embed\"))\n",
       "        .catch(showError)\n",
       "        .then(() => displayChart(vegaEmbed));\n",
       "    }\n",
       "  })({\"config\": {\"view\": {\"continuousWidth\": 400, \"continuousHeight\": 300}, \"legend\": {\"cornerRadius\": 5, \"labelFontSize\": 15, \"orient\": \"right\", \"padding\": 10, \"strokeColor\": \"gray\"}}, \"layer\": [{\"mark\": \"bar\", \"encoding\": {\"color\": {\"type\": \"nominal\", \"field\": \"gender\"}, \"tooltip\": [{\"type\": \"quantitative\", \"aggregate\": \"count\"}], \"x\": {\"type\": \"quantitative\", \"axis\": null, \"bin\": true, \"field\": \"year\"}, \"y\": {\"type\": \"quantitative\", \"aggregate\": \"count\"}}}, {\"mark\": {\"type\": \"rule\", \"color\": \"red\"}, \"encoding\": {\"size\": {\"value\": 5}, \"x\": {\"type\": \"quantitative\", \"aggregate\": \"mean\", \"field\": \"year\"}}}], \"data\": {\"name\": \"data-6eb0b7841c51813c7c7dbe091c652974\"}, \"$schema\": \"https://vega.github.io/schema/vega-lite/v4.0.2.json\", \"datasets\": {\"data-6eb0b7841c51813c7c7dbe091c652974\": [{\"year\": 2018, \"winner\": \"Dickson Chumba\", \"gender\": \"Male\", \"country\": \"Kenya\", \"time\": \"02:05:30\", \"marathon\": \"Tokyo\", \"total_minutes\": 125.5}, {\"year\": 2018, \"winner\": \"Birhane Dibaba\", \"gender\": \"Female\", \"country\": \"Ethiopia\", \"time\": \"02:19:51\", \"marathon\": \"Tokyo\", \"total_minutes\": 139.85}, {\"year\": 2017, \"winner\": \"Wilson Kipsang\", \"gender\": \"Male\", \"country\": \"Kenya\", \"time\": \"02:03:58\", \"marathon\": \"Tokyo\", \"total_minutes\": 123.96666666666667}, {\"year\": 2017, \"winner\": \"Sarah Chepchirchir\", \"gender\": \"Female\", \"country\": \"Kenya\", \"time\": \"02:19:47\", \"marathon\": \"Tokyo\", \"total_minutes\": 139.78333333333333}, {\"year\": 2016, \"winner\": \"Feyisa Lilesa\", \"gender\": \"Male\", \"country\": \"Ethiopia\", \"time\": \"02:06:56\", \"marathon\": \"Tokyo\", \"total_minutes\": 126.93333333333334}, {\"year\": 2016, \"winner\": \"Helah Kiprop\", \"gender\": \"Female\", \"country\": \"Kenya\", \"time\": \"02:21:27\", \"marathon\": \"Tokyo\", \"total_minutes\": 141.45}, {\"year\": 2015, \"winner\": \"Endeshaw Negesse\", \"gender\": \"Male\", \"country\": \"Ethiopia\", \"time\": \"02:06:00\", \"marathon\": \"Tokyo\", \"total_minutes\": 126.0}, {\"year\": 2015, \"winner\": \"Birhane Dibaba\", \"gender\": \"Female\", \"country\": \"Ethiopia\", \"time\": \"02:23:15\", \"marathon\": \"Tokyo\", \"total_minutes\": 143.25}, {\"year\": 2014, \"winner\": \"Dickson Chumba\", \"gender\": \"Male\", \"country\": \"Kenya\", \"time\": \"02:05:42\", \"marathon\": \"Tokyo\", \"total_minutes\": 125.7}, {\"year\": 2014, \"winner\": \"Tirfi Tsegaye\", \"gender\": \"Female\", \"country\": \"Ethiopia\", \"time\": \"02:22:23\", \"marathon\": \"Tokyo\", \"total_minutes\": 142.38333333333333}, {\"year\": 2013, \"winner\": \"Dennis Kimetto\", \"gender\": \"Male\", \"country\": \"Kenya\", \"time\": \"02:06:50\", \"marathon\": \"Tokyo\", \"total_minutes\": 126.83333333333333}, {\"year\": 2013, \"winner\": \"Aberu Kebede\", \"gender\": \"Female\", \"country\": \"Ethiopia\", \"time\": \"02:25:34\", \"marathon\": \"Tokyo\", \"total_minutes\": 145.56666666666666}, {\"year\": 2012, \"winner\": \"Michael Kipyego\", \"gender\": \"Male\", \"country\": \"Kenya\", \"time\": \"02:07:37\", \"marathon\": \"Tokyo\", \"total_minutes\": 127.61666666666666}, {\"year\": 2012, \"winner\": \"Atsede Habtamu\", \"gender\": \"Female\", \"country\": \"Ethiopia\", \"time\": \"02:25:28\", \"marathon\": \"Tokyo\", \"total_minutes\": 145.46666666666667}, {\"year\": 2011, \"winner\": \"Hailu Mekonnen\", \"gender\": \"Male\", \"country\": \"Ethiopia\", \"time\": \"02:07:35\", \"marathon\": \"Tokyo\", \"total_minutes\": 127.58333333333333}, {\"year\": 2011, \"winner\": \"Noriko Higuchi\", \"gender\": \"Female\", \"country\": \"Japan\", \"time\": \"02:28:49\", \"marathon\": \"Tokyo\", \"total_minutes\": 148.81666666666666}, {\"year\": 2010, \"winner\": \"Masakazu Fujiwara\", \"gender\": \"Male\", \"country\": \"Japan\", \"time\": \"02:12:19\", \"marathon\": \"Tokyo\", \"total_minutes\": 132.31666666666666}, {\"year\": 2010, \"winner\": \"Alevtina Biktimirova\", \"gender\": \"Female\", \"country\": \"Russia\", \"time\": \"02:34:39\", \"marathon\": \"Tokyo\", \"total_minutes\": 154.65}, {\"year\": 2009, \"winner\": \"Salim Kipsang\", \"gender\": \"Male\", \"country\": \"Kenya\", \"time\": \"02:10:27\", \"marathon\": \"Tokyo\", \"total_minutes\": 130.45}, {\"year\": 2009, \"winner\": \"Mizuho Nasukawa\", \"gender\": \"Female\", \"country\": \"Japan\", \"time\": \"02:25:38\", \"marathon\": \"Tokyo\", \"total_minutes\": 145.63333333333333}, {\"year\": 2008, \"winner\": \"Viktor R\\u00f6thlin\", \"gender\": \"Male\", \"country\": \"Switzerland\", \"time\": \"02:07:23\", \"marathon\": \"Tokyo\", \"total_minutes\": 127.38333333333334}, {\"year\": 2008, \"winner\": \"Claudia Dreher\", \"gender\": \"Female\", \"country\": \"Germany\", \"time\": \"02:35:35\", \"marathon\": \"Tokyo\", \"total_minutes\": 155.58333333333334}, {\"year\": 2007, \"winner\": \"Daniel Njenga\", \"gender\": \"Male\", \"country\": \"Kenya\", \"time\": \"02:09:45\", \"marathon\": \"Tokyo\", \"total_minutes\": 129.75}, {\"year\": 2007, \"winner\": \"Hitomi Niiya\", \"gender\": \"Female\", \"country\": \"Japan\", \"time\": \"02:31:02\", \"marathon\": \"Tokyo\", \"total_minutes\": 151.03333333333333}, {\"year\": 2017, \"winner\": \"Eliud Kipchoge\", \"gender\": \"Male\", \"country\": \"Kenya\", \"time\": \"02:03:32\", \"marathon\": \"Berlin\", \"total_minutes\": 123.53333333333333}, {\"year\": 2017, \"winner\": \"Gladys Cherono\", \"gender\": \"Female\", \"country\": \"Kenya\", \"time\": \"02:20:23\", \"marathon\": \"Berlin\", \"total_minutes\": 140.38333333333333}, {\"year\": 2016, \"winner\": \"Kenenisa Bekele\", \"gender\": \"Male\", \"country\": \"Ethiopia\", \"time\": \"02:03:03\", \"marathon\": \"Berlin\", \"total_minutes\": 123.05}, {\"year\": 2016, \"winner\": \"Aberu Kebede\", \"gender\": \"Female\", \"country\": \"Ethiopia\", \"time\": \"02:20:45\", \"marathon\": \"Berlin\", \"total_minutes\": 140.75}, {\"year\": 2015, \"winner\": \"Eliud Kipchoge\", \"gender\": \"Male\", \"country\": \"Kenya\", \"time\": \"02:04:00\", \"marathon\": \"Berlin\", \"total_minutes\": 124.0}, {\"year\": 2015, \"winner\": \"Gladys Cherono\", \"gender\": \"Female\", \"country\": \"Kenya\", \"time\": \"02:19:25\", \"marathon\": \"Berlin\", \"total_minutes\": 139.41666666666666}, {\"year\": 2014, \"winner\": \"Dennis Kimetto\", \"gender\": \"Male\", \"country\": \"Kenya\", \"time\": \"02:02:57\", \"marathon\": \"Berlin\", \"total_minutes\": 122.95}, {\"year\": 2014, \"winner\": \"Tirfi Tsegaye\", \"gender\": \"Female\", \"country\": \"Ethiopia\", \"time\": \"02:20:18\", \"marathon\": \"Berlin\", \"total_minutes\": 140.3}, {\"year\": 2013, \"winner\": \"Wilson Kipsang\", \"gender\": \"Male\", \"country\": \"Kenya\", \"time\": \"02:03:23\", \"marathon\": \"Berlin\", \"total_minutes\": 123.38333333333334}, {\"year\": 2013, \"winner\": \"Florence Kiplagat\", \"gender\": \"Female\", \"country\": \"Kenya\", \"time\": \"02:21:13\", \"marathon\": \"Berlin\", \"total_minutes\": 141.21666666666667}, {\"year\": 2012, \"winner\": \"Geoffrey Mutai\", \"gender\": \"Male\", \"country\": \"Kenya\", \"time\": \"02:04:15\", \"marathon\": \"Berlin\", \"total_minutes\": 124.25}, {\"year\": 2012, \"winner\": \"Aberu Kebede\", \"gender\": \"Female\", \"country\": \"Ethiopia\", \"time\": \"02:20:30\", \"marathon\": \"Berlin\", \"total_minutes\": 140.5}, {\"year\": 2011, \"winner\": \"Patrick Musyoki\", \"gender\": \"Male\", \"country\": \"Kenya\", \"time\": \"02:03:38\", \"marathon\": \"Berlin\", \"total_minutes\": 123.63333333333334}, {\"year\": 2011, \"winner\": \"Florence Kiplagat\", \"gender\": \"Female\", \"country\": \"Kenya\", \"time\": \"02:19:44\", \"marathon\": \"Berlin\", \"total_minutes\": 139.73333333333332}, {\"year\": 2010, \"winner\": \"Patrick Musyoki\", \"gender\": \"Male\", \"country\": \"Kenya\", \"time\": \"02:05:08\", \"marathon\": \"Berlin\", \"total_minutes\": 125.13333333333334}, {\"year\": 2010, \"winner\": \"Aberu Kebede\", \"gender\": \"Female\", \"country\": \"Ethiopia\", \"time\": \"02:23:58\", \"marathon\": \"Berlin\", \"total_minutes\": 143.96666666666667}, {\"year\": 2009, \"winner\": \"Haile Gebrselassie\", \"gender\": \"Male\", \"country\": \"Ethiopia\", \"time\": \"02:06:08\", \"marathon\": \"Berlin\", \"total_minutes\": 126.13333333333334}, {\"year\": 2009, \"winner\": \"Atsede Habtamu\", \"gender\": \"Female\", \"country\": \"Ethiopia\", \"time\": \"02:24:47\", \"marathon\": \"Berlin\", \"total_minutes\": 144.78333333333333}, {\"year\": 2008, \"winner\": \"Haile Gebrselassie\", \"gender\": \"Male\", \"country\": \"Ethiopia\", \"time\": \"02:03:59\", \"marathon\": \"Berlin\", \"total_minutes\": 123.98333333333333}, {\"year\": 2008, \"winner\": \"Irina Mikitenko\", \"gender\": \"Female\", \"country\": \"Germany\", \"time\": \"02:19:19\", \"marathon\": \"Berlin\", \"total_minutes\": 139.31666666666666}, {\"year\": 2007, \"winner\": \"Haile Gebrselassie\", \"gender\": \"Male\", \"country\": \"Ethiopia\", \"time\": \"02:04:26\", \"marathon\": \"Berlin\", \"total_minutes\": 124.43333333333334}, {\"year\": 2007, \"winner\": \"Gete Wami\", \"gender\": \"Female\", \"country\": \"Ethiopia\", \"time\": \"02:23:17\", \"marathon\": \"Berlin\", \"total_minutes\": 143.28333333333333}, {\"year\": 2006, \"winner\": \"Haile Gebrselassie\", \"gender\": \"Male\", \"country\": \"Ethiopia\", \"time\": \"02:05:56\", \"marathon\": \"Berlin\", \"total_minutes\": 125.93333333333334}, {\"year\": 2006, \"winner\": \"Gete Wami\", \"gender\": \"Female\", \"country\": \"Ethiopia\", \"time\": \"02:21:34\", \"marathon\": \"Berlin\", \"total_minutes\": 141.56666666666666}, {\"year\": 2005, \"winner\": \"Philip Manyim\", \"gender\": \"Male\", \"country\": \"Kenya\", \"time\": \"02:07:41\", \"marathon\": \"Berlin\", \"total_minutes\": 127.68333333333334}, {\"year\": 2005, \"winner\": \"Noguchi\", \"gender\": \"Female\", \"country\": \"Japan\", \"time\": \"02:19:12\", \"marathon\": \"Berlin\", \"total_minutes\": 139.2}, {\"year\": 2004, \"winner\": \"Felix Limo\", \"gender\": \"Male\", \"country\": \"Kenya\", \"time\": \"02:06:44\", \"marathon\": \"Berlin\", \"total_minutes\": 126.73333333333333}, {\"year\": 2004, \"winner\": \"Yoko Shibui\", \"gender\": \"Female\", \"country\": \"Japan\", \"time\": \"02:19:41\", \"marathon\": \"Berlin\", \"total_minutes\": 139.68333333333334}, {\"year\": 2003, \"winner\": \"Paul Tergat\", \"gender\": \"Male\", \"country\": \"Kenya\", \"time\": \"02:04:55\", \"marathon\": \"Berlin\", \"total_minutes\": 124.91666666666667}, {\"year\": 2003, \"winner\": \"Yasuko Hashimoto\", \"gender\": \"Female\", \"country\": \"Japan\", \"time\": \"02:26:32\", \"marathon\": \"Berlin\", \"total_minutes\": 146.53333333333333}, {\"year\": 2002, \"winner\": \"Raymond Kipkoech\", \"gender\": \"Male\", \"country\": \"Kenya\", \"time\": \"02:06:47\", \"marathon\": \"Berlin\", \"total_minutes\": 126.78333333333333}, {\"year\": 2002, \"winner\": \"Naoko Takahashi\", \"gender\": \"Female\", \"country\": \"Japan\", \"time\": \"02:21:49\", \"marathon\": \"Berlin\", \"total_minutes\": 141.81666666666666}, {\"year\": 2001, \"winner\": \"Joseph Ngolepus\", \"gender\": \"Male\", \"country\": \"Kenya\", \"time\": \"02:08:47\", \"marathon\": \"Berlin\", \"total_minutes\": 128.78333333333333}, {\"year\": 2001, \"winner\": \"Naoko Takahashi\", \"gender\": \"Female\", \"country\": \"Japan\", \"time\": \"02:19:46\", \"marathon\": \"Berlin\", \"total_minutes\": 139.76666666666668}, {\"year\": 2000, \"winner\": \"Simon Biwott\", \"gender\": \"Male\", \"country\": \"Kenya\", \"time\": \"02:07:42\", \"marathon\": \"Berlin\", \"total_minutes\": 127.7}, {\"year\": 2000, \"winner\": \"Kazumi Matsuo\", \"gender\": \"Female\", \"country\": \"Japan\", \"time\": \"02:26:15\", \"marathon\": \"Berlin\", \"total_minutes\": 146.25}, {\"year\": 1999, \"winner\": \"Josephat Kiprono\", \"gender\": \"Male\", \"country\": \"Kenya\", \"time\": \"02:06:44\", \"marathon\": \"Berlin\", \"total_minutes\": 126.73333333333333}, {\"year\": 1999, \"winner\": \"Tegla Loroupe\", \"gender\": \"Female\", \"country\": \"Kenya\", \"time\": \"02:20:43\", \"marathon\": \"Berlin\", \"total_minutes\": 140.71666666666667}, {\"year\": 1998, \"winner\": \"Ronaldo da Costa\", \"gender\": \"Male\", \"country\": \"Brazil\", \"time\": \"02:06:05\", \"marathon\": \"Berlin\", \"total_minutes\": 126.08333333333333}, {\"year\": 1998, \"winner\": \"Marleen Renders\", \"gender\": \"Female\", \"country\": \"Belgium\", \"time\": \"02:25:22\", \"marathon\": \"Berlin\", \"total_minutes\": 145.36666666666667}, {\"year\": 1997, \"winner\": \"Elijah Lagat\", \"gender\": \"Male\", \"country\": \"Kenya\", \"time\": \"02:07:41\", \"marathon\": \"Berlin\", \"total_minutes\": 127.68333333333334}, {\"year\": 1997, \"winner\": \"Catherina McKiernan\", \"gender\": \"Female\", \"country\": \"Ireland\", \"time\": \"02:23:44\", \"marathon\": \"Berlin\", \"total_minutes\": 143.73333333333332}, {\"year\": 1996, \"winner\": \"Abel Ant\\u00f3n\", \"gender\": \"Male\", \"country\": \"Spain\", \"time\": \"02:09:15\", \"marathon\": \"Berlin\", \"total_minutes\": 129.25}, {\"year\": 1996, \"winner\": \"Colleen De Reuck\", \"gender\": \"Female\", \"country\": \"South Africa\", \"time\": \"02:26:35\", \"marathon\": \"Berlin\", \"total_minutes\": 146.58333333333334}, {\"year\": 1995, \"winner\": \"Sammy Lelei\", \"gender\": \"Male\", \"country\": \"Kenya\", \"time\": \"02:07:02\", \"marathon\": \"Berlin\", \"total_minutes\": 127.03333333333333}, {\"year\": 1995, \"winner\": \"Uta Pippig\", \"gender\": \"Female\", \"country\": \"Germany\", \"time\": \"02:25:37\", \"marathon\": \"Berlin\", \"total_minutes\": 145.61666666666667}, {\"year\": 1994, \"winner\": \"Ant\\u00f3nio Pinto\", \"gender\": \"Male\", \"country\": \"Portugal\", \"time\": \"02:08:31\", \"marathon\": \"Berlin\", \"total_minutes\": 128.51666666666668}, {\"year\": 1994, \"winner\": \"Katrin D\\u00f6rre-Heinig\", \"gender\": \"Female\", \"country\": \"Germany\", \"time\": \"02:25:15\", \"marathon\": \"Berlin\", \"total_minutes\": 145.25}, {\"year\": 1993, \"winner\": \"Xolile Yawa\", \"gender\": \"Male\", \"country\": \"South Africa\", \"time\": \"02:10:57\", \"marathon\": \"Berlin\", \"total_minutes\": 130.95}, {\"year\": 1993, \"winner\": \"Renata Kokowska\", \"gender\": \"Female\", \"country\": \"Poland\", \"time\": \"02:26:20\", \"marathon\": \"Berlin\", \"total_minutes\": 146.33333333333334}, {\"year\": 1992, \"winner\": \"David Tsebe\", \"gender\": \"Male\", \"country\": \"South Africa\", \"time\": \"02:08:07\", \"marathon\": \"Berlin\", \"total_minutes\": 128.11666666666667}, {\"year\": 1992, \"winner\": \"Uta Pippig\", \"gender\": \"Female\", \"country\": \"Germany\", \"time\": \"02:30:22\", \"marathon\": \"Berlin\", \"total_minutes\": 150.36666666666667}, {\"year\": 1991, \"winner\": \"Steve Brace\", \"gender\": \"Male\", \"country\": \"United Kingdom\", \"time\": \"02:10:57\", \"marathon\": \"Berlin\", \"total_minutes\": 130.95}, {\"year\": 1991, \"winner\": \"Renata Kokowska\", \"gender\": \"Female\", \"country\": \"Poland\", \"time\": \"02:27:36\", \"marathon\": \"Berlin\", \"total_minutes\": 147.6}, {\"year\": 1990, \"winner\": \"Steve Moneghetti\", \"gender\": \"Male\", \"country\": \"Australia\", \"time\": \"02:08:16\", \"marathon\": \"Berlin\", \"total_minutes\": 128.26666666666668}, {\"year\": 1990, \"winner\": \"Uta Pippig\", \"gender\": \"Female\", \"country\": \"Germany\", \"time\": \"02:28:37\", \"marathon\": \"Berlin\", \"total_minutes\": 148.61666666666667}, {\"year\": 1989, \"winner\": \"Alfredo Shahanga\", \"gender\": \"Male\", \"country\": \"Tanzania\", \"time\": \"02:10:11\", \"marathon\": \"Berlin\", \"total_minutes\": 130.18333333333334}, {\"year\": 1989, \"winner\": \"P\\u00e4ivi Tikkanen\", \"gender\": \"Female\", \"country\": \"Finland\", \"time\": \"02:28:45\", \"marathon\": \"Berlin\", \"total_minutes\": 148.75}, {\"year\": 1988, \"winner\": \"Suleiman Nyambui\", \"gender\": \"Male\", \"country\": \"Tanzania\", \"time\": \"02:11:45\", \"marathon\": \"Berlin\", \"total_minutes\": 131.75}, {\"year\": 1988, \"winner\": \"Renata Kokowska\", \"gender\": \"Female\", \"country\": \"Poland\", \"time\": \"02:29:16\", \"marathon\": \"Berlin\", \"total_minutes\": 149.26666666666668}, {\"year\": 1987, \"winner\": \"Suleiman Nyambui\", \"gender\": \"Male\", \"country\": \"Tanzania\", \"time\": \"02:11:11\", \"marathon\": \"Berlin\", \"total_minutes\": 131.18333333333334}, {\"year\": 1987, \"winner\": \"Kerstin Pre\\u00dfler\", \"gender\": \"Female\", \"country\": \"Germany\", \"time\": \"02:31:22\", \"marathon\": \"Berlin\", \"total_minutes\": 151.36666666666667}, {\"year\": 1986, \"winner\": \"Boguslaw Psujek\", \"gender\": \"Male\", \"country\": \"Poland\", \"time\": \"02:11:03\", \"marathon\": \"Berlin\", \"total_minutes\": 131.05}, {\"year\": 1986, \"winner\": \"Charlotte Teske\", \"gender\": \"Female\", \"country\": \"Germany\", \"time\": \"02:32:10\", \"marathon\": \"Berlin\", \"total_minutes\": 152.16666666666666}, {\"year\": 1985, \"winner\": \"Jimmy Ashworth\", \"gender\": \"Male\", \"country\": \"United Kingdom\", \"time\": \"02:11:43\", \"marathon\": \"Berlin\", \"total_minutes\": 131.71666666666667}, {\"year\": 1985, \"winner\": \"Magda Ilands\", \"gender\": \"Female\", \"country\": \"Belgium\", \"time\": \"02:34:10\", \"marathon\": \"Berlin\", \"total_minutes\": 154.16666666666666}, {\"year\": 1984, \"winner\": \"John Skovbjerg\", \"gender\": \"Male\", \"country\": \"Denmark\", \"time\": \"02:13:35\", \"marathon\": \"Berlin\", \"total_minutes\": 133.58333333333334}, {\"year\": 1984, \"winner\": \"\\u00c1gnes Sipka\", \"gender\": \"Female\", \"country\": \"Hungary\", \"time\": \"02:39:32\", \"marathon\": \"Berlin\", \"total_minutes\": 159.53333333333333}, {\"year\": 1983, \"winner\": \"Karel Lismont\", \"gender\": \"Male\", \"country\": \"Belgium\", \"time\": \"02:13:37\", \"marathon\": \"Berlin\", \"total_minutes\": 133.61666666666667}, {\"year\": 1983, \"winner\": \"Karen Holdsworth\", \"gender\": \"Female\", \"country\": \"United Kingdom\", \"time\": \"02:40:32\", \"marathon\": \"Berlin\", \"total_minutes\": 160.53333333333333}, {\"year\": 1982, \"winner\": \"Domingo Tibaduiza\", \"gender\": \"Male\", \"country\": \"Colombia\", \"time\": \"02:14:47\", \"marathon\": \"Berlin\", \"total_minutes\": 134.78333333333333}, {\"year\": 1982, \"winner\": \"Jean Lochhead\", \"gender\": \"Female\", \"country\": \"United Kingdom\", \"time\": \"02:47:05\", \"marathon\": \"Berlin\", \"total_minutes\": 167.08333333333334}, {\"year\": 1981, \"winner\": \"Ian Ray\", \"gender\": \"Male\", \"country\": \"United Kingdom\", \"time\": \"02:15:42\", \"marathon\": \"Berlin\", \"total_minutes\": 135.7}, {\"year\": 1981, \"winner\": \"Angelika Stephan\", \"gender\": \"Female\", \"country\": \"Germany\", \"time\": \"02:47:24\", \"marathon\": \"Berlin\", \"total_minutes\": 167.4}, {\"year\": 1980, \"winner\": \"Ingo Sensburg\", \"gender\": \"Male\", \"country\": \"Germany\", \"time\": \"02:16:48\", \"marathon\": \"Berlin\", \"total_minutes\": 136.8}, {\"year\": 1980, \"winner\": \"Gerlinde P\\u00fcttmann\", \"gender\": \"Female\", \"country\": \"Germany\", \"time\": \"02:47:18\", \"marathon\": \"Berlin\", \"total_minutes\": 167.3}, {\"year\": 1979, \"winner\": \"Ingo Sensburg\", \"gender\": \"Male\", \"country\": \"Germany\", \"time\": \"02:21:09\", \"marathon\": \"Berlin\", \"total_minutes\": 141.15}, {\"year\": 1979, \"winner\": \"Jutta von Haase\", \"gender\": \"Female\", \"country\": \"Germany\", \"time\": \"03:07:07\", \"marathon\": \"Berlin\", \"total_minutes\": 187.11666666666667}, {\"year\": 1978, \"winner\": \"Michael Sp\\u00f6ttel\", \"gender\": \"Male\", \"country\": \"Germany\", \"time\": \"02:20:03\", \"marathon\": \"Berlin\", \"total_minutes\": 140.05}, {\"year\": 1978, \"winner\": \"Ursula Blaschke\", \"gender\": \"Female\", \"country\": \"Germany\", \"time\": \"02:57:09\", \"marathon\": \"Berlin\", \"total_minutes\": 177.15}, {\"year\": 1977, \"winner\": \"G\\u00fcnter Mielke\", \"gender\": \"Male\", \"country\": \"Germany\", \"time\": \"02:15:19\", \"marathon\": \"Berlin\", \"total_minutes\": 135.31666666666666}, {\"year\": 1977, \"winner\": \"Christa Vahlensieck\", \"gender\": \"Female\", \"country\": \"Germany\", \"time\": \"02:34:48\", \"marathon\": \"Berlin\", \"total_minutes\": 154.8}, {\"year\": 1976, \"winner\": \"Ingo Sensburg\", \"gender\": \"Male\", \"country\": \"Germany\", \"time\": \"02:23:08\", \"marathon\": \"Berlin\", \"total_minutes\": 143.13333333333333}, {\"year\": 1976, \"winner\": \"Jutta von Haase\", \"gender\": \"Female\", \"country\": \"Germany\", \"time\": \"03:05:19\", \"marathon\": \"Berlin\", \"total_minutes\": 185.31666666666666}, {\"year\": 1975, \"winner\": \"Ralf Bochr\\u00f6der\", \"gender\": \"Male\", \"country\": \"Germany\", \"time\": \"02:47:08\", \"marathon\": \"Berlin\", \"total_minutes\": 167.13333333333333}, {\"year\": 1975, \"winner\": \"Christin Bochr\\u00f6der\", \"gender\": \"Female\", \"country\": \"Germany\", \"time\": \"02:59:15\", \"marathon\": \"Berlin\", \"total_minutes\": 179.25}, {\"year\": 1974, \"winner\": \"G\\u00fcnter Hallas\", \"gender\": \"Male\", \"country\": \"Germany\", \"time\": \"02:44:53\", \"marathon\": \"Berlin\", \"total_minutes\": 164.88333333333333}, {\"year\": 1974, \"winner\": \"Jutta von Haase\", \"gender\": \"Female\", \"country\": \"Germany\", \"time\": \"03:22:01\", \"marathon\": \"Berlin\", \"total_minutes\": 202.01666666666668}, {\"year\": 2018, \"winner\": \"Yuki Kawauchi\", \"gender\": \"Male\", \"country\": \"Japan\", \"time\": \"02:15:58\", \"marathon\": \"Boston\", \"total_minutes\": 135.96666666666667}, {\"year\": 2018, \"winner\": \"Desi Linden\", \"gender\": \"Female\", \"country\": \"United States\", \"time\": \"02:39:54\", \"marathon\": \"Boston\", \"total_minutes\": 159.9}, {\"year\": 2017, \"winner\": \"Geoffrey Kirui\", \"gender\": \"Male\", \"country\": \"Kenya\", \"time\": \"02:09:37\", \"marathon\": \"Boston\", \"total_minutes\": 129.61666666666667}, {\"year\": 2017, \"winner\": \"Edna Kiplagat\", \"gender\": \"Female\", \"country\": \"Kenya\", \"time\": \"02:21:52\", \"marathon\": \"Boston\", \"total_minutes\": 141.86666666666667}, {\"year\": 2016, \"winner\": \"Lemi Berhanu Hayle\", \"gender\": \"Male\", \"country\": \"Ethiopia\", \"time\": \"02:12:45\", \"marathon\": \"Boston\", \"total_minutes\": 132.75}, {\"year\": 2016, \"winner\": \"Atsede Baysa\", \"gender\": \"Female\", \"country\": \"Ethiopia\", \"time\": \"02:29:19\", \"marathon\": \"Boston\", \"total_minutes\": 149.31666666666666}, {\"year\": 2015, \"winner\": \"Lelisa Desisa Benti\", \"gender\": \"Male\", \"country\": \"Ethiopia\", \"time\": \"02:09:17\", \"marathon\": \"Boston\", \"total_minutes\": 129.28333333333333}, {\"year\": 2015, \"winner\": \"Caroline Rotich\", \"gender\": \"Female\", \"country\": \"Kenya\", \"time\": \"02:24:55\", \"marathon\": \"Boston\", \"total_minutes\": 144.91666666666666}, {\"year\": 2014, \"winner\": \"Meb Keflezighi\", \"gender\": \"Male\", \"country\": \"United States\", \"time\": \"02:08:37\", \"marathon\": \"Boston\", \"total_minutes\": 128.61666666666667}, {\"year\": 2014, \"winner\": \"Rita Jeptoo\", \"gender\": \"Female\", \"country\": \"Kenya\", \"time\": \"02:18:57\", \"marathon\": \"Boston\", \"total_minutes\": 138.95}, {\"year\": 2014, \"winner\": \"Bizunesh Deba\", \"gender\": \"Female\", \"country\": \"Ethiopia\", \"time\": \"02:19:59\", \"marathon\": \"Boston\", \"total_minutes\": 139.98333333333332}, {\"year\": 2013, \"winner\": \"Lelisa Desisa Benti\", \"gender\": \"Male\", \"country\": \"Ethiopia\", \"time\": \"02:10:22\", \"marathon\": \"Boston\", \"total_minutes\": 130.36666666666667}, {\"year\": 2013, \"winner\": \"Rita Jeptoo\", \"gender\": \"Female\", \"country\": \"Kenya\", \"time\": \"02:26:25\", \"marathon\": \"Boston\", \"total_minutes\": 146.41666666666666}, {\"year\": 2012, \"winner\": \"Wesley Korir\", \"gender\": \"Male\", \"country\": \"Kenya\", \"time\": \"02:12:40\", \"marathon\": \"Boston\", \"total_minutes\": 132.66666666666666}, {\"year\": 2012, \"winner\": \"Sharon Cherop\", \"gender\": \"Female\", \"country\": \"Kenya\", \"time\": \"02:31:50\", \"marathon\": \"Boston\", \"total_minutes\": 151.83333333333334}, {\"year\": 2011, \"winner\": \"Geoffrey Mutai\", \"gender\": \"Male\", \"country\": \"Kenya\", \"time\": \"02:03:02\", \"marathon\": \"Boston\", \"total_minutes\": 123.03333333333333}, {\"year\": 2011, \"winner\": \"Caroline Kilel\", \"gender\": \"Female\", \"country\": \"Kenya\", \"time\": \"02:22:36\", \"marathon\": \"Boston\", \"total_minutes\": 142.6}, {\"year\": 2010, \"winner\": \"Robert Kiprono Cheruiyot\", \"gender\": \"Male\", \"country\": \"Kenya\", \"time\": \"02:05:52\", \"marathon\": \"Boston\", \"total_minutes\": 125.86666666666666}, {\"year\": 2010, \"winner\": \"Teyba Erkesso\", \"gender\": \"Female\", \"country\": \"Ethiopia\", \"time\": \"02:26:11\", \"marathon\": \"Boston\", \"total_minutes\": 146.18333333333334}, {\"year\": 2009, \"winner\": \"Deriba Merga\", \"gender\": \"Male\", \"country\": \"Ethiopia\", \"time\": \"02:08:42\", \"marathon\": \"Boston\", \"total_minutes\": 128.7}, {\"year\": 2009, \"winner\": \"Salina Kosgei\", \"gender\": \"Female\", \"country\": \"Kenya\", \"time\": \"02:32:16\", \"marathon\": \"Boston\", \"total_minutes\": 152.26666666666668}, {\"year\": 2008, \"winner\": \"Robert Kipkoech Cheruiyot\", \"gender\": \"Male\", \"country\": \"Kenya\", \"time\": \"02:07:45\", \"marathon\": \"Boston\", \"total_minutes\": 127.75}, {\"year\": 2008, \"winner\": \"Dire Tune\", \"gender\": \"Female\", \"country\": \"Ethiopia\", \"time\": \"02:25:25\", \"marathon\": \"Boston\", \"total_minutes\": 145.41666666666666}, {\"year\": 2007, \"winner\": \"Robert Kipkoech Cheruiyot\", \"gender\": \"Male\", \"country\": \"Kenya\", \"time\": \"02:14:13\", \"marathon\": \"Boston\", \"total_minutes\": 134.21666666666667}, {\"year\": 2007, \"winner\": \"Lidiya Grigoryeva\", \"gender\": \"Female\", \"country\": \"Russia\", \"time\": \"02:29:18\", \"marathon\": \"Boston\", \"total_minutes\": 149.3}, {\"year\": 2006, \"winner\": \"Robert Kipkoech Cheruiyot\", \"gender\": \"Male\", \"country\": \"Kenya\", \"time\": \"02:07:14\", \"marathon\": \"Boston\", \"total_minutes\": 127.23333333333333}, {\"year\": 2006, \"winner\": \"Rita Jeptoo\", \"gender\": \"Female\", \"country\": \"Kenya\", \"time\": \"02:23:38\", \"marathon\": \"Boston\", \"total_minutes\": 143.63333333333333}, {\"year\": 2005, \"winner\": \"Hailu Negussie\", \"gender\": \"Male\", \"country\": \"Ethiopia\", \"time\": \"02:11:44\", \"marathon\": \"Boston\", \"total_minutes\": 131.73333333333332}, {\"year\": 2005, \"winner\": \"Catherine Ndereba\", \"gender\": \"Female\", \"country\": \"Kenya\", \"time\": \"02:25:12\", \"marathon\": \"Boston\", \"total_minutes\": 145.2}, {\"year\": 2004, \"winner\": \"Timothy Cherigat\", \"gender\": \"Male\", \"country\": \"Kenya\", \"time\": \"02:10:37\", \"marathon\": \"Boston\", \"total_minutes\": 130.61666666666667}, {\"year\": 2004, \"winner\": \"Catherine Ndereba\", \"gender\": \"Female\", \"country\": \"Kenya\", \"time\": \"02:24:27\", \"marathon\": \"Boston\", \"total_minutes\": 144.45}, {\"year\": 2003, \"winner\": \"Robert Kipkoech Cheruiyot\", \"gender\": \"Male\", \"country\": \"Kenya\", \"time\": \"02:10:11\", \"marathon\": \"Boston\", \"total_minutes\": 130.18333333333334}, {\"year\": 2003, \"winner\": \"Svetlana Zakharova\", \"gender\": \"Female\", \"country\": \"Russia\", \"time\": \"02:25:19\", \"marathon\": \"Boston\", \"total_minutes\": 145.31666666666666}, {\"year\": 2002, \"winner\": \"Rodgers Rop\", \"gender\": \"Male\", \"country\": \"Kenya\", \"time\": \"02:09:02\", \"marathon\": \"Boston\", \"total_minutes\": 129.03333333333333}, {\"year\": 2002, \"winner\": \"Margaret Okayo\", \"gender\": \"Female\", \"country\": \"Kenya\", \"time\": \"02:20:43\", \"marathon\": \"Boston\", \"total_minutes\": 140.71666666666667}, {\"year\": 2001, \"winner\": \"Lee Bong-Ju\", \"gender\": \"Male\", \"country\": \"South Korea\", \"time\": \"02:09:43\", \"marathon\": \"Boston\", \"total_minutes\": 129.71666666666667}, {\"year\": 2001, \"winner\": \"Catherine Ndereba\", \"gender\": \"Female\", \"country\": \"Kenya\", \"time\": \"02:23:53\", \"marathon\": \"Boston\", \"total_minutes\": 143.88333333333333}, {\"year\": 2000, \"winner\": \"Elijah Lagat\", \"gender\": \"Male\", \"country\": \"Kenya\", \"time\": \"02:09:47\", \"marathon\": \"Boston\", \"total_minutes\": 129.78333333333333}, {\"year\": 2000, \"winner\": \"Catherine Ndereba\", \"gender\": \"Female\", \"country\": \"Kenya\", \"time\": \"02:26:11\", \"marathon\": \"Boston\", \"total_minutes\": 146.18333333333334}, {\"year\": 1999, \"winner\": \"Joseph Chebet\", \"gender\": \"Male\", \"country\": \"Kenya\", \"time\": \"02:09:52\", \"marathon\": \"Boston\", \"total_minutes\": 129.86666666666667}, {\"year\": 1999, \"winner\": \"Fatuma Roba\", \"gender\": \"Female\", \"country\": \"Ethiopia\", \"time\": \"02:23:25\", \"marathon\": \"Boston\", \"total_minutes\": 143.41666666666666}, {\"year\": 1998, \"winner\": \"Moses Tanui\", \"gender\": \"Male\", \"country\": \"Kenya\", \"time\": \"02:07:34\", \"marathon\": \"Boston\", \"total_minutes\": 127.56666666666666}, {\"year\": 1998, \"winner\": \"Fatuma Roba\", \"gender\": \"Female\", \"country\": \"Ethiopia\", \"time\": \"02:23:21\", \"marathon\": \"Boston\", \"total_minutes\": 143.35}, {\"year\": 1997, \"winner\": \"Lameck Aguta\", \"gender\": \"Male\", \"country\": \"Kenya\", \"time\": \"02:10:34\", \"marathon\": \"Boston\", \"total_minutes\": 130.56666666666666}, {\"year\": 1997, \"winner\": \"Fatuma Roba\", \"gender\": \"Female\", \"country\": \"Ethiopia\", \"time\": \"02:26:23\", \"marathon\": \"Boston\", \"total_minutes\": 146.38333333333333}, {\"year\": 1996, \"winner\": \"Moses Tanui\", \"gender\": \"Male\", \"country\": \"Kenya\", \"time\": \"02:09:15\", \"marathon\": \"Boston\", \"total_minutes\": 129.25}, {\"year\": 1996, \"winner\": \"Uta Pippig\", \"gender\": \"Female\", \"country\": \"Germany\", \"time\": \"02:27:12\", \"marathon\": \"Boston\", \"total_minutes\": 147.2}, {\"year\": 1995, \"winner\": \"Cosmas Ndeti\", \"gender\": \"Male\", \"country\": \"Kenya\", \"time\": \"02:09:22\", \"marathon\": \"Boston\", \"total_minutes\": 129.36666666666667}, {\"year\": 1995, \"winner\": \"Uta Pippig\", \"gender\": \"Female\", \"country\": \"Germany\", \"time\": \"02:25:11\", \"marathon\": \"Boston\", \"total_minutes\": 145.18333333333334}, {\"year\": 1994, \"winner\": \"Cosmas Ndeti\", \"gender\": \"Male\", \"country\": \"Kenya\", \"time\": \"02:07:15\", \"marathon\": \"Boston\", \"total_minutes\": 127.25}, {\"year\": 1994, \"winner\": \"Uta Pippig\", \"gender\": \"Female\", \"country\": \"Germany\", \"time\": \"02:21:45\", \"marathon\": \"Boston\", \"total_minutes\": 141.75}, {\"year\": 1993, \"winner\": \"Cosmas Ndeti\", \"gender\": \"Male\", \"country\": \"Kenya\", \"time\": \"02:09:33\", \"marathon\": \"Boston\", \"total_minutes\": 129.55}, {\"year\": 1993, \"winner\": \"Olga Markova\", \"gender\": \"Female\", \"country\": \"Russia\", \"time\": \"02:25:27\", \"marathon\": \"Boston\", \"total_minutes\": 145.45}, {\"year\": 1992, \"winner\": \"Ibrahim Hussein\", \"gender\": \"Male\", \"country\": \"Kenya\", \"time\": \"02:08:14\", \"marathon\": \"Boston\", \"total_minutes\": 128.23333333333332}, {\"year\": 1992, \"winner\": \"Olga Markova\", \"gender\": \"Female\", \"country\": \"Russia\", \"time\": \"02:23:43\", \"marathon\": \"Boston\", \"total_minutes\": 143.71666666666667}, {\"year\": 1991, \"winner\": \"Ibrahim Hussein\", \"gender\": \"Male\", \"country\": \"Kenya\", \"time\": \"02:11:06\", \"marathon\": \"Boston\", \"total_minutes\": 131.1}, {\"year\": 1991, \"winner\": \"Wanda Panfil\", \"gender\": \"Female\", \"country\": \"Poland\", \"time\": \"02:24:18\", \"marathon\": \"Boston\", \"total_minutes\": 144.3}, {\"year\": 1990, \"winner\": \"Gelindo Bordin\", \"gender\": \"Male\", \"country\": \"Italy\", \"time\": \"02:08:19\", \"marathon\": \"Boston\", \"total_minutes\": 128.31666666666666}, {\"year\": 1990, \"winner\": \"Rosa Mota\", \"gender\": \"Female\", \"country\": \"Portugal\", \"time\": \"02:25:24\", \"marathon\": \"Boston\", \"total_minutes\": 145.4}, {\"year\": 1989, \"winner\": \"Abebe Mekonnen\", \"gender\": \"Male\", \"country\": \"Ethiopia\", \"time\": \"02:09:06\", \"marathon\": \"Boston\", \"total_minutes\": 129.1}, {\"year\": 1989, \"winner\": \"Ingrid Kristiansen\", \"gender\": \"Female\", \"country\": \"Norway\", \"time\": \"02:24:33\", \"marathon\": \"Boston\", \"total_minutes\": 144.55}, {\"year\": 1988, \"winner\": \"Ibrahim Hussein\", \"gender\": \"Male\", \"country\": \"Kenya\", \"time\": \"02:08:43\", \"marathon\": \"Boston\", \"total_minutes\": 128.71666666666667}, {\"year\": 1988, \"winner\": \"Rosa Mota\", \"gender\": \"Female\", \"country\": \"Portugal\", \"time\": \"02:24:30\", \"marathon\": \"Boston\", \"total_minutes\": 144.5}, {\"year\": 1987, \"winner\": \"Toshihiko Seko\", \"gender\": \"Male\", \"country\": \"Japan\", \"time\": \"02:11:50\", \"marathon\": \"Boston\", \"total_minutes\": 131.83333333333334}, {\"year\": 1987, \"winner\": \"Rosa Mota\", \"gender\": \"Female\", \"country\": \"Portugal\", \"time\": \"02:25:21\", \"marathon\": \"Boston\", \"total_minutes\": 145.35}, {\"year\": 1986, \"winner\": \"Robert de Castella\", \"gender\": \"Male\", \"country\": \"Australia\", \"time\": \"02:07:51\", \"marathon\": \"Boston\", \"total_minutes\": 127.85}, {\"year\": 1986, \"winner\": \"Ingrid Kristiansen\", \"gender\": \"Female\", \"country\": \"Norway\", \"time\": \"02:24:55\", \"marathon\": \"Boston\", \"total_minutes\": 144.91666666666666}, {\"year\": 1985, \"winner\": \"Geoff Smith\", \"gender\": \"Male\", \"country\": \"United Kingdom\", \"time\": \"02:14:05\", \"marathon\": \"Boston\", \"total_minutes\": 134.08333333333334}, {\"year\": 1985, \"winner\": \"Lisa Larsen Weidenbach\", \"gender\": \"Female\", \"country\": \"United States\", \"time\": \"02:34:06\", \"marathon\": \"Boston\", \"total_minutes\": 154.1}, {\"year\": 1984, \"winner\": \"Geoff Smith\", \"gender\": \"Male\", \"country\": \"United Kingdom\", \"time\": \"02:10:34\", \"marathon\": \"Boston\", \"total_minutes\": 130.56666666666666}, {\"year\": 1984, \"winner\": \"Lorraine Moller\", \"gender\": \"Female\", \"country\": \"New Zealand\", \"time\": \"02:29:28\", \"marathon\": \"Boston\", \"total_minutes\": 149.46666666666667}, {\"year\": 1983, \"winner\": \"Greg Meyer\", \"gender\": \"Male\", \"country\": \"United States\", \"time\": \"02:09:00\", \"marathon\": \"Boston\", \"total_minutes\": 129.0}, {\"year\": 1983, \"winner\": \"Joan Benoit\", \"gender\": \"Female\", \"country\": \"United States\", \"time\": \"02:22:43\", \"marathon\": \"Boston\", \"total_minutes\": 142.71666666666667}, {\"year\": 1982, \"winner\": \"Alberto Salazar\", \"gender\": \"Male\", \"country\": \"United States\", \"time\": \"02:08:52\", \"marathon\": \"Boston\", \"total_minutes\": 128.86666666666667}, {\"year\": 1982, \"winner\": \"Charlotte Teske\", \"gender\": \"Female\", \"country\": \"Germany\", \"time\": \"02:29:33\", \"marathon\": \"Boston\", \"total_minutes\": 149.55}, {\"year\": 1981, \"winner\": \"Toshihiko Seko\", \"gender\": \"Male\", \"country\": \"Japan\", \"time\": \"02:09:26\", \"marathon\": \"Boston\", \"total_minutes\": 129.43333333333334}, {\"year\": 1981, \"winner\": \"Allison Roe\", \"gender\": \"Female\", \"country\": \"New Zealand\", \"time\": \"02:26:46\", \"marathon\": \"Boston\", \"total_minutes\": 146.76666666666668}, {\"year\": 1980, \"winner\": \"Bill Rodgers\", \"gender\": \"Male\", \"country\": \"United States\", \"time\": \"02:12:11\", \"marathon\": \"Boston\", \"total_minutes\": 132.18333333333334}, {\"year\": 1980, \"winner\": \"Jacqueline Gareau\", \"gender\": \"Female\", \"country\": \"Canada\", \"time\": \"02:34:28\", \"marathon\": \"Boston\", \"total_minutes\": 154.46666666666667}, {\"year\": 1979, \"winner\": \"Bill Rodgers\", \"gender\": \"Male\", \"country\": \"United States\", \"time\": \"02:09:27\", \"marathon\": \"Boston\", \"total_minutes\": 129.45}, {\"year\": 1979, \"winner\": \"Joan Benoit\", \"gender\": \"Female\", \"country\": \"United States\", \"time\": \"02:35:15\", \"marathon\": \"Boston\", \"total_minutes\": 155.25}, {\"year\": 1978, \"winner\": \"Bill Rodgers\", \"gender\": \"Male\", \"country\": \"United States\", \"time\": \"02:10:13\", \"marathon\": \"Boston\", \"total_minutes\": 130.21666666666667}, {\"year\": 1978, \"winner\": \"Gayle Barron\", \"gender\": \"Female\", \"country\": \"United States\", \"time\": \"02:44:52\", \"marathon\": \"Boston\", \"total_minutes\": 164.86666666666667}, {\"year\": 1977, \"winner\": \"Jerome Drayton\", \"gender\": \"Male\", \"country\": \"Canada\", \"time\": \"02:14:46\", \"marathon\": \"Boston\", \"total_minutes\": 134.76666666666668}, {\"year\": 1977, \"winner\": \"Miki Gorman\", \"gender\": \"Female\", \"country\": \"United States\", \"time\": \"02:48:33\", \"marathon\": \"Boston\", \"total_minutes\": 168.55}, {\"year\": 1976, \"winner\": \"Jack Fultz\", \"gender\": \"Male\", \"country\": \"United States\", \"time\": \"02:20:19\", \"marathon\": \"Boston\", \"total_minutes\": 140.31666666666666}, {\"year\": 1976, \"winner\": \"Kim Merritt\", \"gender\": \"Female\", \"country\": \"United States\", \"time\": \"02:47:10\", \"marathon\": \"Boston\", \"total_minutes\": 167.16666666666666}, {\"year\": 1975, \"winner\": \"Bill Rodgers\", \"gender\": \"Male\", \"country\": \"United States\", \"time\": \"02:09:55\", \"marathon\": \"Boston\", \"total_minutes\": 129.91666666666666}, {\"year\": 1975, \"winner\": \"Liane Winter\", \"gender\": \"Female\", \"country\": \"Germany\", \"time\": \"02:42:24\", \"marathon\": \"Boston\", \"total_minutes\": 162.4}, {\"year\": 1974, \"winner\": \"Neil Cusack\", \"gender\": \"Male\", \"country\": \"Ireland\", \"time\": \"02:13:39\", \"marathon\": \"Boston\", \"total_minutes\": 133.65}, {\"year\": 1974, \"winner\": \"Miki Gorman\", \"gender\": \"Female\", \"country\": \"United States\", \"time\": \"02:47:11\", \"marathon\": \"Boston\", \"total_minutes\": 167.18333333333334}, {\"year\": 1973, \"winner\": \"Jon Anderson\", \"gender\": \"Male\", \"country\": \"United States\", \"time\": \"02:16:03\", \"marathon\": \"Boston\", \"total_minutes\": 136.05}, {\"year\": 1973, \"winner\": \"Jacqueline Hansen\", \"gender\": \"Female\", \"country\": \"United States\", \"time\": \"03:05:59\", \"marathon\": \"Boston\", \"total_minutes\": 185.98333333333332}, {\"year\": 1972, \"winner\": \"Olavi Suomalainen\", \"gender\": \"Male\", \"country\": \"Finland\", \"time\": \"02:15:39\", \"marathon\": \"Boston\", \"total_minutes\": 135.65}, {\"year\": 1972, \"winner\": \"Nina Kuscsik\", \"gender\": \"Female\", \"country\": \"United States\", \"time\": \"03:10:26\", \"marathon\": \"Boston\", \"total_minutes\": 190.43333333333334}, {\"year\": 1971, \"winner\": \"\\u00c1lvaro Mej\\u00eda\", \"gender\": \"Male\", \"country\": \"Colombia\", \"time\": \"02:18:45\", \"marathon\": \"Boston\", \"total_minutes\": 138.75}, {\"year\": 1971, \"winner\": \"Sara Mae Berman\", \"gender\": \"Female\", \"country\": \"United States\", \"time\": \"03:08:30\", \"marathon\": \"Boston\", \"total_minutes\": 188.5}, {\"year\": 1970, \"winner\": \"Ron Hill\", \"gender\": \"Male\", \"country\": \"United Kingdom\", \"time\": \"02:10:30\", \"marathon\": \"Boston\", \"total_minutes\": 130.5}, {\"year\": 1970, \"winner\": \"Sara Mae Berman\", \"gender\": \"Female\", \"country\": \"United States\", \"time\": \"03:05:07\", \"marathon\": \"Boston\", \"total_minutes\": 185.11666666666667}, {\"year\": 1969, \"winner\": \"Yoshiaki Unetani\", \"gender\": \"Male\", \"country\": \"Japan\", \"time\": \"02:13:49\", \"marathon\": \"Boston\", \"total_minutes\": 133.81666666666666}, {\"year\": 1969, \"winner\": \"Sara Mae Berman\", \"gender\": \"Female\", \"country\": \"United States\", \"time\": \"03:22:46\", \"marathon\": \"Boston\", \"total_minutes\": 202.76666666666668}, {\"year\": 1968, \"winner\": \"Amby Burfoot\", \"gender\": \"Male\", \"country\": \"United States\", \"time\": \"02:22:17\", \"marathon\": \"Boston\", \"total_minutes\": 142.28333333333333}, {\"year\": 1968, \"winner\": \"Bobbi Gibb\", \"gender\": \"Female\", \"country\": \"United States\", \"time\": \"03:30:00\", \"marathon\": \"Boston\", \"total_minutes\": 210.0}, {\"year\": 1967, \"winner\": \"Dave McKenzie\", \"gender\": \"Male\", \"country\": \"New Zealand\", \"time\": \"02:15:45\", \"marathon\": \"Boston\", \"total_minutes\": 135.75}, {\"year\": 1967, \"winner\": \"Bobbi Gibb\", \"gender\": \"Female\", \"country\": \"United States\", \"time\": \"03:27:17\", \"marathon\": \"Boston\", \"total_minutes\": 207.28333333333333}, {\"year\": 1966, \"winner\": \"Kenji Kimihara\", \"gender\": \"Male\", \"country\": \"Japan\", \"time\": \"02:17:11\", \"marathon\": \"Boston\", \"total_minutes\": 137.18333333333334}, {\"year\": 1966, \"winner\": \"Bobbi Gibb\", \"gender\": \"Female\", \"country\": \"United States\", \"time\": \"03:21:40\", \"marathon\": \"Boston\", \"total_minutes\": 201.66666666666666}, {\"year\": 1965, \"winner\": \"Morio Shigematsu\", \"gender\": \"Male\", \"country\": \"Japan\", \"time\": \"02:16:33\", \"marathon\": \"Boston\", \"total_minutes\": 136.55}, {\"year\": 1964, \"winner\": \"Aur\\u00e8le Vandendriessche\", \"gender\": \"Male\", \"country\": \"Belgium\", \"time\": \"02:19:59\", \"marathon\": \"Boston\", \"total_minutes\": 139.98333333333332}, {\"year\": 1963, \"winner\": \"Aur\\u00e8le Vandendriessche\", \"gender\": \"Male\", \"country\": \"Belgium\", \"time\": \"02:18:58\", \"marathon\": \"Boston\", \"total_minutes\": 138.96666666666667}, {\"year\": 1962, \"winner\": \"Eino Oksanen\", \"gender\": \"Male\", \"country\": \"Finland\", \"time\": \"02:23:48\", \"marathon\": \"Boston\", \"total_minutes\": 143.8}, {\"year\": 1961, \"winner\": \"Eino Oksanen\", \"gender\": \"Male\", \"country\": \"Finland\", \"time\": \"02:23:39\", \"marathon\": \"Boston\", \"total_minutes\": 143.65}, {\"year\": 1960, \"winner\": \"Paavo Kotila\", \"gender\": \"Male\", \"country\": \"Finland\", \"time\": \"02:20:54\", \"marathon\": \"Boston\", \"total_minutes\": 140.9}, {\"year\": 1959, \"winner\": \"Eino Oksanen\", \"gender\": \"Male\", \"country\": \"Finland\", \"time\": \"02:22:42\", \"marathon\": \"Boston\", \"total_minutes\": 142.7}, {\"year\": 1958, \"winner\": \"Franjo Mihalic\", \"gender\": \"Male\", \"country\": \"Yugoslavia\", \"time\": \"02:25:54\", \"marathon\": \"Boston\", \"total_minutes\": 145.9}, {\"year\": 1957, \"winner\": \"John J. Kelley\", \"gender\": \"Male\", \"country\": \"United States\", \"time\": \"02:20:05\", \"marathon\": \"Boston\", \"total_minutes\": 140.08333333333334}, {\"year\": 1956, \"winner\": \"Antti Viskari\", \"gender\": \"Male\", \"country\": \"Finland\", \"time\": \"02:14:14\", \"marathon\": \"Boston\", \"total_minutes\": 134.23333333333332}, {\"year\": 1955, \"winner\": \"Hideo Hamamura\", \"gender\": \"Male\", \"country\": \"Japan\", \"time\": \"02:18:22\", \"marathon\": \"Boston\", \"total_minutes\": 138.36666666666667}, {\"year\": 1954, \"winner\": \"Veikko Karvonen\", \"gender\": \"Male\", \"country\": \"Finland\", \"time\": \"02:20:39\", \"marathon\": \"Boston\", \"total_minutes\": 140.65}, {\"year\": 1953, \"winner\": \"Keizo Yamada\", \"gender\": \"Male\", \"country\": \"Japan\", \"time\": \"02:18:51\", \"marathon\": \"Boston\", \"total_minutes\": 138.85}, {\"year\": 1952, \"winner\": \"Doroteo Flores\", \"gender\": \"Male\", \"country\": \"Guatemala\", \"time\": \"02:31:53\", \"marathon\": \"Boston\", \"total_minutes\": 151.88333333333333}, {\"year\": 1951, \"winner\": \"Shigeki Tanaka\", \"gender\": \"Male\", \"country\": \"Japan\", \"time\": \"02:27:45\", \"marathon\": \"Boston\", \"total_minutes\": 147.75}, {\"year\": 1950, \"winner\": \"Ham Kee-Yong\", \"gender\": \"Male\", \"country\": \"South Korea\", \"time\": \"02:32:39\", \"marathon\": \"Boston\", \"total_minutes\": 152.65}, {\"year\": 1949, \"winner\": \"G\\u00f6sta Leandersson\", \"gender\": \"Male\", \"country\": \"Sweden\", \"time\": \"02:31:50\", \"marathon\": \"Boston\", \"total_minutes\": 151.83333333333334}, {\"year\": 1948, \"winner\": \"G\\u00e9rard C\\u00f4t\\u00e9\", \"gender\": \"Male\", \"country\": \"Canada\", \"time\": \"02:31:02\", \"marathon\": \"Boston\", \"total_minutes\": 151.03333333333333}, {\"year\": 1947, \"winner\": \"Suh Yun-bok\", \"gender\": \"Male\", \"country\": \"South Korea\", \"time\": \"02:25:39\", \"marathon\": \"Boston\", \"total_minutes\": 145.65}, {\"year\": 1946, \"winner\": \"Stylianos Kyriakides\", \"gender\": \"Male\", \"country\": \"Greece\", \"time\": \"02:29:27\", \"marathon\": \"Boston\", \"total_minutes\": 149.45}, {\"year\": 1945, \"winner\": \"John A. Kelley\", \"gender\": \"Male\", \"country\": \"United States\", \"time\": \"02:30:40\", \"marathon\": \"Boston\", \"total_minutes\": 150.66666666666666}, {\"year\": 1944, \"winner\": \"G\\u00e9rard C\\u00f4t\\u00e9\", \"gender\": \"Male\", \"country\": \"Canada\", \"time\": \"02:31:50\", \"marathon\": \"Boston\", \"total_minutes\": 151.83333333333334}, {\"year\": 1943, \"winner\": \"G\\u00e9rard C\\u00f4t\\u00e9\", \"gender\": \"Male\", \"country\": \"Canada\", \"time\": \"02:28:25\", \"marathon\": \"Boston\", \"total_minutes\": 148.41666666666666}, {\"year\": 1942, \"winner\": \"Joe Smith\", \"gender\": \"Male\", \"country\": \"United States\", \"time\": \"02:26:51\", \"marathon\": \"Boston\", \"total_minutes\": 146.85}, {\"year\": 1941, \"winner\": \"Leslie S. Pawson\", \"gender\": \"Male\", \"country\": \"United States\", \"time\": \"02:30:38\", \"marathon\": \"Boston\", \"total_minutes\": 150.63333333333333}, {\"year\": 1940, \"winner\": \"G\\u00e9rard C\\u00f4t\\u00e9\", \"gender\": \"Male\", \"country\": \"Canada\", \"time\": \"02:28:28\", \"marathon\": \"Boston\", \"total_minutes\": 148.46666666666667}, {\"year\": 1939, \"winner\": \"Ellison Brown\", \"gender\": \"Male\", \"country\": \"United States\", \"time\": \"02:28:51\", \"marathon\": \"Boston\", \"total_minutes\": 148.85}, {\"year\": 1938, \"winner\": \"Leslie S. Pawson\", \"gender\": \"Male\", \"country\": \"United States\", \"time\": \"02:35:34\", \"marathon\": \"Boston\", \"total_minutes\": 155.56666666666666}, {\"year\": 1937, \"winner\": \"Walter Young\", \"gender\": \"Male\", \"country\": \"Canada\", \"time\": \"02:33:20\", \"marathon\": \"Boston\", \"total_minutes\": 153.33333333333334}, {\"year\": 1936, \"winner\": \"Ellison Brown\", \"gender\": \"Male\", \"country\": \"United States\", \"time\": \"02:33:40\", \"marathon\": \"Boston\", \"total_minutes\": 153.66666666666666}, {\"year\": 1935, \"winner\": \"John A. Kelley\", \"gender\": \"Male\", \"country\": \"United States\", \"time\": \"02:32:07\", \"marathon\": \"Boston\", \"total_minutes\": 152.11666666666667}, {\"year\": 1934, \"winner\": \"Dave Komonen\", \"gender\": \"Male\", \"country\": \"Canada\", \"time\": \"02:32:53\", \"marathon\": \"Boston\", \"total_minutes\": 152.88333333333333}, {\"year\": 1933, \"winner\": \"Leslie S. Pawson\", \"gender\": \"Male\", \"country\": \"United States\", \"time\": \"02:31:01\", \"marathon\": \"Boston\", \"total_minutes\": 151.01666666666668}, {\"year\": 1932, \"winner\": \"Paul de Bruyn\", \"gender\": \"Male\", \"country\": \"Germany\", \"time\": \"02:33:36\", \"marathon\": \"Boston\", \"total_minutes\": 153.6}, {\"year\": 1931, \"winner\": \"James Henigan\", \"gender\": \"Male\", \"country\": \"United States\", \"time\": \"02:46:45\", \"marathon\": \"Boston\", \"total_minutes\": 166.75}, {\"year\": 1930, \"winner\": \"Clarence DeMar\", \"gender\": \"Male\", \"country\": \"United States\", \"time\": \"02:34:48\", \"marathon\": \"Boston\", \"total_minutes\": 154.8}, {\"year\": 1929, \"winner\": \"Johnny Miles\", \"gender\": \"Male\", \"country\": \"Canada\", \"time\": \"02:33:08\", \"marathon\": \"Boston\", \"total_minutes\": 153.13333333333333}, {\"year\": 1928, \"winner\": \"Clarence DeMar\", \"gender\": \"Male\", \"country\": \"United States\", \"time\": \"02:37:07\", \"marathon\": \"Boston\", \"total_minutes\": 157.11666666666667}, {\"year\": 1927, \"winner\": \"Clarence DeMar\", \"gender\": \"Male\", \"country\": \"United States\", \"time\": \"02:40:22\", \"marathon\": \"Boston\", \"total_minutes\": 160.36666666666667}, {\"year\": 1926, \"winner\": \"Johnny Miles\", \"gender\": \"Male\", \"country\": \"Canada\", \"time\": \"02:25:40\", \"marathon\": \"Boston\", \"total_minutes\": 145.66666666666666}, {\"year\": 1925, \"winner\": \"Charles Mellor\", \"gender\": \"Male\", \"country\": \"United States\", \"time\": \"02:33:00\", \"marathon\": \"Boston\", \"total_minutes\": 153.0}, {\"year\": 1924, \"winner\": \"Clarence DeMar\", \"gender\": \"Male\", \"country\": \"United States\", \"time\": \"02:29:40\", \"marathon\": \"Boston\", \"total_minutes\": 149.66666666666666}, {\"year\": 1923, \"winner\": \"Clarence DeMar\", \"gender\": \"Male\", \"country\": \"United States\", \"time\": \"02:23:47\", \"marathon\": \"Boston\", \"total_minutes\": 143.78333333333333}, {\"year\": 1922, \"winner\": \"Clarence DeMar\", \"gender\": \"Male\", \"country\": \"United States\", \"time\": \"02:18:10\", \"marathon\": \"Boston\", \"total_minutes\": 138.16666666666666}, {\"year\": 1921, \"winner\": \"Frank Zuna\", \"gender\": \"Male\", \"country\": \"United States\", \"time\": \"02:18:57\", \"marathon\": \"Boston\", \"total_minutes\": 138.95}, {\"year\": 1920, \"winner\": \"Peter Trivoulides\", \"gender\": \"Male\", \"country\": \"Greece\", \"time\": \"02:29:31\", \"marathon\": \"Boston\", \"total_minutes\": 149.51666666666668}, {\"year\": 1919, \"winner\": \"Carl Linder\", \"gender\": \"Male\", \"country\": \"United States\", \"time\": \"02:29:13\", \"marathon\": \"Boston\", \"total_minutes\": 149.21666666666667}, {\"year\": 1917, \"winner\": \"Bill Kennedy\", \"gender\": \"Male\", \"country\": \"United States\", \"time\": \"02:28:37\", \"marathon\": \"Boston\", \"total_minutes\": 148.61666666666667}, {\"year\": 1916, \"winner\": \"Arthur Roth\", \"gender\": \"Male\", \"country\": \"United States\", \"time\": \"02:27:16\", \"marathon\": \"Boston\", \"total_minutes\": 147.26666666666668}, {\"year\": 1915, \"winner\": \"\\u00c9douard Fabre\", \"gender\": \"Male\", \"country\": \"Canada\", \"time\": \"02:31:41\", \"marathon\": \"Boston\", \"total_minutes\": 151.68333333333334}, {\"year\": 1914, \"winner\": \"James Duffy\", \"gender\": \"Male\", \"country\": \"Canada\", \"time\": \"02:25:14\", \"marathon\": \"Boston\", \"total_minutes\": 145.23333333333332}, {\"year\": 1913, \"winner\": \"Fritz Carlson\", \"gender\": \"Male\", \"country\": \"United States\", \"time\": \"02:25:14\", \"marathon\": \"Boston\", \"total_minutes\": 145.23333333333332}, {\"year\": 1912, \"winner\": \"Michael J. Ryan\", \"gender\": \"Male\", \"country\": \"United States\", \"time\": \"02:21:18\", \"marathon\": \"Boston\", \"total_minutes\": 141.3}, {\"year\": 1911, \"winner\": \"Clarence DeMar\", \"gender\": \"Male\", \"country\": \"United States\", \"time\": \"02:21:39\", \"marathon\": \"Boston\", \"total_minutes\": 141.65}, {\"year\": 1910, \"winner\": \"Fred Cameron\", \"gender\": \"Male\", \"country\": \"Canada\", \"time\": \"02:28:52\", \"marathon\": \"Boston\", \"total_minutes\": 148.86666666666667}, {\"year\": 1909, \"winner\": \"Henri Renaud\", \"gender\": \"Male\", \"country\": \"United States\", \"time\": \"02:53:36\", \"marathon\": \"Boston\", \"total_minutes\": 173.6}, {\"year\": 1908, \"winner\": \"Thomas Morrissey\", \"gender\": \"Male\", \"country\": \"United States\", \"time\": \"02:25:43\", \"marathon\": \"Boston\", \"total_minutes\": 145.71666666666667}, {\"year\": 1907, \"winner\": \"Thomas Longboat\", \"gender\": \"Male\", \"country\": \"Canada\", \"time\": \"02:24:24\", \"marathon\": \"Boston\", \"total_minutes\": 144.4}, {\"year\": 1906, \"winner\": \"Tim Ford\", \"gender\": \"Male\", \"country\": \"United States\", \"time\": \"02:45:45\", \"marathon\": \"Boston\", \"total_minutes\": 165.75}, {\"year\": 1905, \"winner\": \"Frederick Lorz\", \"gender\": \"Male\", \"country\": \"United States\", \"time\": \"02:38:25\", \"marathon\": \"Boston\", \"total_minutes\": 158.41666666666666}, {\"year\": 1904, \"winner\": \"Michael Spring\", \"gender\": \"Male\", \"country\": \"United States\", \"time\": \"02:38:04\", \"marathon\": \"Boston\", \"total_minutes\": 158.06666666666666}, {\"year\": 1903, \"winner\": \"John Lorden\", \"gender\": \"Male\", \"country\": \"United States\", \"time\": \"02:41:29\", \"marathon\": \"Boston\", \"total_minutes\": 161.48333333333332}, {\"year\": 1902, \"winner\": \"Sammy Mellor\", \"gender\": \"Male\", \"country\": \"United States\", \"time\": \"02:43:12\", \"marathon\": \"Boston\", \"total_minutes\": 163.2}, {\"year\": 1901, \"winner\": \"Jack Caffery\", \"gender\": \"Male\", \"country\": \"Canada\", \"time\": \"02:29:23\", \"marathon\": \"Boston\", \"total_minutes\": 149.38333333333333}, {\"year\": 1900, \"winner\": \"Jack Caffery\", \"gender\": \"Male\", \"country\": \"Canada\", \"time\": \"02:39:44\", \"marathon\": \"Boston\", \"total_minutes\": 159.73333333333332}, {\"year\": 1899, \"winner\": \"Lawrence Brignolia\", \"gender\": \"Male\", \"country\": \"United States\", \"time\": \"02:54:38\", \"marathon\": \"Boston\", \"total_minutes\": 174.63333333333333}, {\"year\": 1898, \"winner\": \"Ronald J. MacDonald\", \"gender\": \"Male\", \"country\": \"Canada\", \"time\": \"02:42:00\", \"marathon\": \"Boston\", \"total_minutes\": 162.0}, {\"year\": 1897, \"winner\": \"John J. McDermott\", \"gender\": \"Male\", \"country\": \"United States\", \"time\": \"02:55:10\", \"marathon\": \"Boston\", \"total_minutes\": 175.16666666666666}, {\"year\": 2017, \"winner\": \"Geoffrey Kamworor\", \"gender\": \"Male\", \"country\": \"Kenya\", \"time\": \"02:10:53\", \"marathon\": \"NYC\", \"total_minutes\": 130.88333333333333}, {\"year\": 2017, \"winner\": \"Shalane Flanagan\", \"gender\": \"Female\", \"country\": \"United States\", \"time\": \"02:26:53\", \"marathon\": \"NYC\", \"total_minutes\": 146.88333333333333}, {\"year\": 2016, \"winner\": \"Ghirmay Ghebreslassie\", \"gender\": \"Male\", \"country\": \"Eritrea\", \"time\": \"02:07:51\", \"marathon\": \"NYC\", \"total_minutes\": 127.85}, {\"year\": 2016, \"winner\": \"Mary Keitany\", \"gender\": \"Female\", \"country\": \"Kenya\", \"time\": \"02:24:26\", \"marathon\": \"NYC\", \"total_minutes\": 144.43333333333334}, {\"year\": 2015, \"winner\": \"Stanley Biwott\", \"gender\": \"Male\", \"country\": \"Kenya\", \"time\": \"02:10:34\", \"marathon\": \"NYC\", \"total_minutes\": 130.56666666666666}, {\"year\": 2015, \"winner\": \"Mary Keitany\", \"gender\": \"Female\", \"country\": \"Kenya\", \"time\": \"02:24:25\", \"marathon\": \"NYC\", \"total_minutes\": 144.41666666666666}, {\"year\": 2014, \"winner\": \"Wilson Kipsang\", \"gender\": \"Male\", \"country\": \"Kenya\", \"time\": \"02:10:59\", \"marathon\": \"NYC\", \"total_minutes\": 130.98333333333332}, {\"year\": 2014, \"winner\": \"Mary Keitany\", \"gender\": \"Female\", \"country\": \"Kenya\", \"time\": \"02:25:07\", \"marathon\": \"NYC\", \"total_minutes\": 145.11666666666667}, {\"year\": 2013, \"winner\": \"Geoffrey Mutai\", \"gender\": \"Male\", \"country\": \"Kenya\", \"time\": \"02:08:24\", \"marathon\": \"NYC\", \"total_minutes\": 128.4}, {\"year\": 2013, \"winner\": \"Priscah Jeptoo\", \"gender\": \"Female\", \"country\": \"Kenya\", \"time\": \"02:25:07\", \"marathon\": \"NYC\", \"total_minutes\": 145.11666666666667}, {\"year\": 2011, \"winner\": \"Geoffrey Mutai\", \"gender\": \"Male\", \"country\": \"Kenya\", \"time\": \"02:05:06\", \"marathon\": \"NYC\", \"total_minutes\": 125.1}, {\"year\": 2011, \"winner\": \"Firehiwot Dado\", \"gender\": \"Female\", \"country\": \"Ethiopia\", \"time\": \"02:23:15\", \"marathon\": \"NYC\", \"total_minutes\": 143.25}, {\"year\": 2010, \"winner\": \"Gebregziabher Gebremariam\", \"gender\": \"Male\", \"country\": \"Ethiopia\", \"time\": \"02:08:14\", \"marathon\": \"NYC\", \"total_minutes\": 128.23333333333332}, {\"year\": 2010, \"winner\": \"Edna Kiplagat\", \"gender\": \"Female\", \"country\": \"Kenya\", \"time\": \"02:28:20\", \"marathon\": \"NYC\", \"total_minutes\": 148.33333333333334}, {\"year\": 2009, \"winner\": \"Meb Keflezighi\", \"gender\": \"Male\", \"country\": \"United States\", \"time\": \"02:09:15\", \"marathon\": \"NYC\", \"total_minutes\": 129.25}, {\"year\": 2009, \"winner\": \"Derartu Tulu\", \"gender\": \"Female\", \"country\": \"Ethiopia\", \"time\": \"02:28:52\", \"marathon\": \"NYC\", \"total_minutes\": 148.86666666666667}, {\"year\": 2008, \"winner\": \"Mar\\u00edlson Gomes dos Santos\", \"gender\": \"Male\", \"country\": \"Brazil\", \"time\": \"02:08:43\", \"marathon\": \"NYC\", \"total_minutes\": 128.71666666666667}, {\"year\": 2008, \"winner\": \"Paula Radcliffe\", \"gender\": \"Female\", \"country\": \"United Kingdom\", \"time\": \"02:23:56\", \"marathon\": \"NYC\", \"total_minutes\": 143.93333333333334}, {\"year\": 2007, \"winner\": \"Martin Lel\", \"gender\": \"Male\", \"country\": \"Kenya\", \"time\": \"02:09:04\", \"marathon\": \"NYC\", \"total_minutes\": 129.06666666666666}, {\"year\": 2007, \"winner\": \"Paula Radcliffe\", \"gender\": \"Female\", \"country\": \"United Kingdom\", \"time\": \"02:23:09\", \"marathon\": \"NYC\", \"total_minutes\": 143.15}, {\"year\": 2006, \"winner\": \"Mar\\u00edlson Gomes dos Santos\", \"gender\": \"Male\", \"country\": \"Brazil\", \"time\": \"02:09:58\", \"marathon\": \"NYC\", \"total_minutes\": 129.96666666666667}, {\"year\": 2006, \"winner\": \"Jelena Prokopcuka\", \"gender\": \"Female\", \"country\": \"Latvia\", \"time\": \"02:25:05\", \"marathon\": \"NYC\", \"total_minutes\": 145.08333333333334}, {\"year\": 2005, \"winner\": \"Paul Tergat\", \"gender\": \"Male\", \"country\": \"Kenya\", \"time\": \"02:09:30\", \"marathon\": \"NYC\", \"total_minutes\": 129.5}, {\"year\": 2005, \"winner\": \"Jelena Prokopcuka\", \"gender\": \"Female\", \"country\": \"Latvia\", \"time\": \"02:24:41\", \"marathon\": \"NYC\", \"total_minutes\": 144.68333333333334}, {\"year\": 2004, \"winner\": \"Hendrick Ramaala\", \"gender\": \"Male\", \"country\": \"South Africa\", \"time\": \"02:09:28\", \"marathon\": \"NYC\", \"total_minutes\": 129.46666666666667}, {\"year\": 2004, \"winner\": \"Paula Radcliffe\", \"gender\": \"Female\", \"country\": \"United Kingdom\", \"time\": \"02:23:10\", \"marathon\": \"NYC\", \"total_minutes\": 143.16666666666666}, {\"year\": 2003, \"winner\": \"Martin Lel\", \"gender\": \"Male\", \"country\": \"Kenya\", \"time\": \"02:10:30\", \"marathon\": \"NYC\", \"total_minutes\": 130.5}, {\"year\": 2003, \"winner\": \"Margaret Okayo\", \"gender\": \"Female\", \"country\": \"Kenya\", \"time\": \"02:22:31\", \"marathon\": \"NYC\", \"total_minutes\": 142.51666666666668}, {\"year\": 2002, \"winner\": \"Rodgers Rop\", \"gender\": \"Male\", \"country\": \"Kenya\", \"time\": \"02:08:07\", \"marathon\": \"NYC\", \"total_minutes\": 128.11666666666667}, {\"year\": 2002, \"winner\": \"Joyce Chepchumba\", \"gender\": \"Female\", \"country\": \"Kenya\", \"time\": \"02:25:56\", \"marathon\": \"NYC\", \"total_minutes\": 145.93333333333334}, {\"year\": 2001, \"winner\": \"Tesfaye Jifar\", \"gender\": \"Male\", \"country\": \"Ethiopia\", \"time\": \"02:07:43\", \"marathon\": \"NYC\", \"total_minutes\": 127.71666666666667}, {\"year\": 2001, \"winner\": \"Margaret Okayo\", \"gender\": \"Female\", \"country\": \"Kenya\", \"time\": \"02:24:21\", \"marathon\": \"NYC\", \"total_minutes\": 144.35}, {\"year\": 2000, \"winner\": \"Abdelkader El Mouaziz\", \"gender\": \"Male\", \"country\": \"Morocco\", \"time\": \"02:10:09\", \"marathon\": \"NYC\", \"total_minutes\": 130.15}, {\"year\": 2000, \"winner\": \"Lyudmila Petrova\", \"gender\": \"Female\", \"country\": \"Russia\", \"time\": \"02:25:45\", \"marathon\": \"NYC\", \"total_minutes\": 145.75}, {\"year\": 1999, \"winner\": \"Joseph Chebet\", \"gender\": \"Male\", \"country\": \"Kenya\", \"time\": \"02:09:14\", \"marathon\": \"NYC\", \"total_minutes\": 129.23333333333332}, {\"year\": 1999, \"winner\": \"Adriana Fernandez\", \"gender\": \"Female\", \"country\": \"Mexico\", \"time\": \"02:25:06\", \"marathon\": \"NYC\", \"total_minutes\": 145.1}, {\"year\": 1998, \"winner\": \"John Kagwe\", \"gender\": \"Male\", \"country\": \"Kenya\", \"time\": \"02:08:45\", \"marathon\": \"NYC\", \"total_minutes\": 128.75}, {\"year\": 1998, \"winner\": \"Franca Fiacconi\", \"gender\": \"Female\", \"country\": \"Italy\", \"time\": \"02:25:17\", \"marathon\": \"NYC\", \"total_minutes\": 145.28333333333333}, {\"year\": 1997, \"winner\": \"John Kagwe\", \"gender\": \"Male\", \"country\": \"Kenya\", \"time\": \"02:08:12\", \"marathon\": \"NYC\", \"total_minutes\": 128.2}, {\"year\": 1997, \"winner\": \"Franziska Rochat-Moser\", \"gender\": \"Female\", \"country\": \"Switzerland\", \"time\": \"02:28:43\", \"marathon\": \"NYC\", \"total_minutes\": 148.71666666666667}, {\"year\": 1996, \"winner\": \"Giacomo Leone\", \"gender\": \"Male\", \"country\": \"Italy\", \"time\": \"02:09:54\", \"marathon\": \"NYC\", \"total_minutes\": 129.9}, {\"year\": 1996, \"winner\": \"Anuta Catuna\", \"gender\": \"Female\", \"country\": \"Romania\", \"time\": \"02:28:18\", \"marathon\": \"NYC\", \"total_minutes\": 148.3}, {\"year\": 1995, \"winner\": \"Germ\\u00e1n Silva\", \"gender\": \"Male\", \"country\": \"Mexico\", \"time\": \"02:11:00\", \"marathon\": \"NYC\", \"total_minutes\": 131.0}, {\"year\": 1995, \"winner\": \"Tegla Loroupe\", \"gender\": \"Female\", \"country\": \"Kenya\", \"time\": \"02:28:06\", \"marathon\": \"NYC\", \"total_minutes\": 148.1}, {\"year\": 1994, \"winner\": \"Germ\\u00e1n Silva\", \"gender\": \"Male\", \"country\": \"Mexico\", \"time\": \"02:11:21\", \"marathon\": \"NYC\", \"total_minutes\": 131.35}, {\"year\": 1994, \"winner\": \"Tegla Loroupe\", \"gender\": \"Female\", \"country\": \"Kenya\", \"time\": \"02:27:37\", \"marathon\": \"NYC\", \"total_minutes\": 147.61666666666667}, {\"year\": 1993, \"winner\": \"Andr\\u00e9s Espinosa\", \"gender\": \"Male\", \"country\": \"Mexico\", \"time\": \"02:10:04\", \"marathon\": \"NYC\", \"total_minutes\": 130.06666666666666}, {\"year\": 1993, \"winner\": \"Uta Pippig\", \"gender\": \"Female\", \"country\": \"Germany\", \"time\": \"02:26:24\", \"marathon\": \"NYC\", \"total_minutes\": 146.4}, {\"year\": 1992, \"winner\": \"Willie Mtolo\", \"gender\": \"Male\", \"country\": \"South Africa\", \"time\": \"02:09:29\", \"marathon\": \"NYC\", \"total_minutes\": 129.48333333333332}, {\"year\": 1992, \"winner\": \"Lisa Ondieki\", \"gender\": \"Female\", \"country\": \"Australia\", \"time\": \"02:24:40\", \"marathon\": \"NYC\", \"total_minutes\": 144.66666666666666}, {\"year\": 1991, \"winner\": \"Salvador Garc\\u00eda\", \"gender\": \"Male\", \"country\": \"Mexico\", \"time\": \"02:09:28\", \"marathon\": \"NYC\", \"total_minutes\": 129.46666666666667}, {\"year\": 1991, \"winner\": \"Liz McColgan\", \"gender\": \"Female\", \"country\": \"United Kingdom\", \"time\": \"02:27:32\", \"marathon\": \"NYC\", \"total_minutes\": 147.53333333333333}, {\"year\": 1990, \"winner\": \"Douglas Wakiihuri\", \"gender\": \"Male\", \"country\": \"Kenya\", \"time\": \"02:12:39\", \"marathon\": \"NYC\", \"total_minutes\": 132.65}, {\"year\": 1990, \"winner\": \"Wanda Panfil\", \"gender\": \"Female\", \"country\": \"Poland\", \"time\": \"02:30:45\", \"marathon\": \"NYC\", \"total_minutes\": 150.75}, {\"year\": 1989, \"winner\": \"Juma Ikangaa\", \"gender\": \"Male\", \"country\": \"Tanzania\", \"time\": \"02:08:01\", \"marathon\": \"NYC\", \"total_minutes\": 128.01666666666668}, {\"year\": 1989, \"winner\": \"Ingrid Kristiansen\", \"gender\": \"Female\", \"country\": \"Norway\", \"time\": \"02:25:30\", \"marathon\": \"NYC\", \"total_minutes\": 145.5}, {\"year\": 1988, \"winner\": \"Steve Jones\", \"gender\": \"Male\", \"country\": \"United Kingdom\", \"time\": \"02:08:20\", \"marathon\": \"NYC\", \"total_minutes\": 128.33333333333334}, {\"year\": 1988, \"winner\": \"Grete Waitz\", \"gender\": \"Female\", \"country\": \"Norway\", \"time\": \"02:28:07\", \"marathon\": \"NYC\", \"total_minutes\": 148.11666666666667}, {\"year\": 1987, \"winner\": \"Ibrahim Hussein\", \"gender\": \"Male\", \"country\": \"Kenya\", \"time\": \"02:11:01\", \"marathon\": \"NYC\", \"total_minutes\": 131.01666666666668}, {\"year\": 1987, \"winner\": \"Priscilla Welch\", \"gender\": \"Female\", \"country\": \"United Kingdom\", \"time\": \"02:30:17\", \"marathon\": \"NYC\", \"total_minutes\": 150.28333333333333}, {\"year\": 1986, \"winner\": \"Gianni Poli\", \"gender\": \"Male\", \"country\": \"Italy\", \"time\": \"02:11:06\", \"marathon\": \"NYC\", \"total_minutes\": 131.1}, {\"year\": 1986, \"winner\": \"Grete Waitz\", \"gender\": \"Female\", \"country\": \"Norway\", \"time\": \"02:28:06\", \"marathon\": \"NYC\", \"total_minutes\": 148.1}, {\"year\": 1985, \"winner\": \"Orlando Pizzolato\", \"gender\": \"Male\", \"country\": \"Italy\", \"time\": \"02:11:34\", \"marathon\": \"NYC\", \"total_minutes\": 131.56666666666666}, {\"year\": 1985, \"winner\": \"Grete Waitz\", \"gender\": \"Female\", \"country\": \"Norway\", \"time\": \"02:28:34\", \"marathon\": \"NYC\", \"total_minutes\": 148.56666666666666}, {\"year\": 1984, \"winner\": \"Orlando Pizzolato\", \"gender\": \"Male\", \"country\": \"Italy\", \"time\": \"02:14:53\", \"marathon\": \"NYC\", \"total_minutes\": 134.88333333333333}, {\"year\": 1984, \"winner\": \"Grete Waitz\", \"gender\": \"Female\", \"country\": \"Norway\", \"time\": \"02:29:30\", \"marathon\": \"NYC\", \"total_minutes\": 149.5}, {\"year\": 1983, \"winner\": \"Rod Dixon\", \"gender\": \"Male\", \"country\": \"New Zealand\", \"time\": \"02:08:59\", \"marathon\": \"NYC\", \"total_minutes\": 128.98333333333332}, {\"year\": 1983, \"winner\": \"Grete Waitz\", \"gender\": \"Female\", \"country\": \"Norway\", \"time\": \"02:27:00\", \"marathon\": \"NYC\", \"total_minutes\": 147.0}, {\"year\": 1982, \"winner\": \"Alberto Salazar\", \"gender\": \"Male\", \"country\": \"United States\", \"time\": \"02:09:29\", \"marathon\": \"NYC\", \"total_minutes\": 129.48333333333332}, {\"year\": 1982, \"winner\": \"Grete Waitz\", \"gender\": \"Female\", \"country\": \"Norway\", \"time\": \"02:27:14\", \"marathon\": \"NYC\", \"total_minutes\": 147.23333333333332}, {\"year\": 1981, \"winner\": \"Alberto Salazar\", \"gender\": \"Male\", \"country\": \"United States\", \"time\": \"02:08:13\", \"marathon\": \"NYC\", \"total_minutes\": 128.21666666666667}, {\"year\": 1981, \"winner\": \"Allison Roe\", \"gender\": \"Female\", \"country\": \"New Zealand\", \"time\": \"02:25:29\", \"marathon\": \"NYC\", \"total_minutes\": 145.48333333333332}, {\"year\": 1980, \"winner\": \"Alberto Salazar\", \"gender\": \"Male\", \"country\": \"United States\", \"time\": \"02:09:41\", \"marathon\": \"NYC\", \"total_minutes\": 129.68333333333334}, {\"year\": 1980, \"winner\": \"Grete Waitz\", \"gender\": \"Female\", \"country\": \"Norway\", \"time\": \"02:25:42\", \"marathon\": \"NYC\", \"total_minutes\": 145.7}, {\"year\": 1979, \"winner\": \"Bill Rodgers\", \"gender\": \"Male\", \"country\": \"United States\", \"time\": \"02:11:42\", \"marathon\": \"NYC\", \"total_minutes\": 131.7}, {\"year\": 1979, \"winner\": \"Grete Waitz\", \"gender\": \"Female\", \"country\": \"Norway\", \"time\": \"02:27:33\", \"marathon\": \"NYC\", \"total_minutes\": 147.55}, {\"year\": 1978, \"winner\": \"Bill Rodgers\", \"gender\": \"Male\", \"country\": \"United States\", \"time\": \"02:12:12\", \"marathon\": \"NYC\", \"total_minutes\": 132.2}, {\"year\": 1978, \"winner\": \"Grete Waitz\", \"gender\": \"Female\", \"country\": \"Norway\", \"time\": \"02:32:30\", \"marathon\": \"NYC\", \"total_minutes\": 152.5}, {\"year\": 1977, \"winner\": \"Bill Rodgers\", \"gender\": \"Male\", \"country\": \"United States\", \"time\": \"02:11:28\", \"marathon\": \"NYC\", \"total_minutes\": 131.46666666666667}, {\"year\": 1977, \"winner\": \"Miki Gorman\", \"gender\": \"Female\", \"country\": \"United States\", \"time\": \"02:43:10\", \"marathon\": \"NYC\", \"total_minutes\": 163.16666666666666}, {\"year\": 1976, \"winner\": \"Bill Rodgers\", \"gender\": \"Male\", \"country\": \"United States\", \"time\": \"02:10:10\", \"marathon\": \"NYC\", \"total_minutes\": 130.16666666666666}, {\"year\": 1976, \"winner\": \"Miki Gorman\", \"gender\": \"Female\", \"country\": \"United States\", \"time\": \"02:39:11\", \"marathon\": \"NYC\", \"total_minutes\": 159.18333333333334}, {\"year\": 1975, \"winner\": \"Tom Fleming\", \"gender\": \"Male\", \"country\": \"United States\", \"time\": \"02:19:27\", \"marathon\": \"NYC\", \"total_minutes\": 139.45}, {\"year\": 1975, \"winner\": \"Kim Merritt\", \"gender\": \"Female\", \"country\": \"United States\", \"time\": \"02:46:14\", \"marathon\": \"NYC\", \"total_minutes\": 166.23333333333332}, {\"year\": 1974, \"winner\": \"Norbert Sander\", \"gender\": \"Male\", \"country\": \"United States\", \"time\": \"02:26:30\", \"marathon\": \"NYC\", \"total_minutes\": 146.5}, {\"year\": 1974, \"winner\": \"Kathrine Switzer\", \"gender\": \"Female\", \"country\": \"United States\", \"time\": \"03:07:29\", \"marathon\": \"NYC\", \"total_minutes\": 187.48333333333332}, {\"year\": 1973, \"winner\": \"Tom Fleming\", \"gender\": \"Male\", \"country\": \"United States\", \"time\": \"02:21:54\", \"marathon\": \"NYC\", \"total_minutes\": 141.9}, {\"year\": 1973, \"winner\": \"Nina Kuscsik\", \"gender\": \"Female\", \"country\": \"United States\", \"time\": \"02:57:07\", \"marathon\": \"NYC\", \"total_minutes\": 177.11666666666667}, {\"year\": 1972, \"winner\": \"Sheldon Karlin\", \"gender\": \"Male\", \"country\": \"United States\", \"time\": \"02:27:52\", \"marathon\": \"NYC\", \"total_minutes\": 147.86666666666667}, {\"year\": 1972, \"winner\": \"Nina Kuscsik\", \"gender\": \"Female\", \"country\": \"United States\", \"time\": \"03:08:41\", \"marathon\": \"NYC\", \"total_minutes\": 188.68333333333334}, {\"year\": 1971, \"winner\": \"Norman Higgins\", \"gender\": \"Male\", \"country\": \"United States\", \"time\": \"02:22:54\", \"marathon\": \"NYC\", \"total_minutes\": 142.9}, {\"year\": 1970, \"winner\": \"Gary Muhrcke\", \"gender\": \"Male\", \"country\": \"United States\", \"time\": \"02:31:38\", \"marathon\": \"NYC\", \"total_minutes\": 151.63333333333333}, {\"year\": 2018, \"winner\": \"Eliud Kipchoge\", \"gender\": \"Male\", \"country\": \"Kenya\", \"time\": \"02:04:17\", \"marathon\": \"London\", \"total_minutes\": 124.28333333333333}, {\"year\": 2017, \"winner\": \"Daniel Wanjiru\", \"gender\": \"Male\", \"country\": \"Kenya\", \"time\": \"02:05:48\", \"marathon\": \"London\", \"total_minutes\": 125.8}, {\"year\": 2017, \"winner\": \"Mary Keitany\", \"gender\": \"Female\", \"country\": \"Kenya\", \"time\": \"02:17:01\", \"marathon\": \"London\", \"total_minutes\": 137.01666666666668}, {\"year\": 2016, \"winner\": \"Eliud Kipchoge\", \"gender\": \"Male\", \"country\": \"Kenya\", \"time\": \"02:03:05\", \"marathon\": \"London\", \"total_minutes\": 123.08333333333333}, {\"year\": 2016, \"winner\": \"Jemima Sumgong\", \"gender\": \"Female\", \"country\": \"Kenya\", \"time\": \"02:22:58\", \"marathon\": \"London\", \"total_minutes\": 142.96666666666667}, {\"year\": 2015, \"winner\": \"Eliud Kipchoge\", \"gender\": \"Male\", \"country\": \"Kenya\", \"time\": \"02:04:42\", \"marathon\": \"London\", \"total_minutes\": 124.7}, {\"year\": 2015, \"winner\": \"Tigist Tufa\", \"gender\": \"Female\", \"country\": \"Ethiopia\", \"time\": \"02:23:21\", \"marathon\": \"London\", \"total_minutes\": 143.35}, {\"year\": 2014, \"winner\": \"Wilson Kipsang\", \"gender\": \"Male\", \"country\": \"Kenya\", \"time\": \"02:04:29\", \"marathon\": \"London\", \"total_minutes\": 124.48333333333333}, {\"year\": 2014, \"winner\": \"Edna Kiplagat\", \"gender\": \"Female\", \"country\": \"Kenya\", \"time\": \"02:20:21\", \"marathon\": \"London\", \"total_minutes\": 140.35}, {\"year\": 2013, \"winner\": \"Tsegaye Kebede\", \"gender\": \"Male\", \"country\": \"Ethiopia\", \"time\": \"02:06:04\", \"marathon\": \"London\", \"total_minutes\": 126.06666666666666}, {\"year\": 2013, \"winner\": \"Priscah Jeptoo\", \"gender\": \"Female\", \"country\": \"Kenya\", \"time\": \"02:20:15\", \"marathon\": \"London\", \"total_minutes\": 140.25}, {\"year\": 2012, \"winner\": \"Wilson Kipsang\", \"gender\": \"Male\", \"country\": \"Kenya\", \"time\": \"02:04:44\", \"marathon\": \"London\", \"total_minutes\": 124.73333333333333}, {\"year\": 2012, \"winner\": \"Mary Keitany\", \"gender\": \"Female\", \"country\": \"Kenya\", \"time\": \"02:18:37\", \"marathon\": \"London\", \"total_minutes\": 138.61666666666667}, {\"year\": 2011, \"winner\": \"Emmanuel Mutai\", \"gender\": \"Male\", \"country\": \"Kenya\", \"time\": \"02:04:40\", \"marathon\": \"London\", \"total_minutes\": 124.66666666666667}, {\"year\": 2011, \"winner\": \"Mary Keitany\", \"gender\": \"Female\", \"country\": \"Kenya\", \"time\": \"02:19:19\", \"marathon\": \"London\", \"total_minutes\": 139.31666666666666}, {\"year\": 2010, \"winner\": \"Tsegaye Kebede\", \"gender\": \"Male\", \"country\": \"Ethiopia\", \"time\": \"02:05:19\", \"marathon\": \"London\", \"total_minutes\": 125.31666666666666}, {\"year\": 2010, \"winner\": \"Aselefech Mergia\", \"gender\": \"Female\", \"country\": \"Ethiopia\", \"time\": \"02:22:38\", \"marathon\": \"London\", \"total_minutes\": 142.63333333333333}, {\"year\": 2009, \"winner\": \"Samuel Wanjiru\", \"gender\": \"Male\", \"country\": \"Kenya\", \"time\": \"02:05:10\", \"marathon\": \"London\", \"total_minutes\": 125.16666666666667}, {\"year\": 2009, \"winner\": \"Irina Mikitenko\", \"gender\": \"Female\", \"country\": \"Germany\", \"time\": \"02:22:11\", \"marathon\": \"London\", \"total_minutes\": 142.18333333333334}, {\"year\": 2008, \"winner\": \"Martin Lel\", \"gender\": \"Male\", \"country\": \"Kenya\", \"time\": \"02:05:15\", \"marathon\": \"London\", \"total_minutes\": 125.25}, {\"year\": 2008, \"winner\": \"Irina Mikitenko\", \"gender\": \"Female\", \"country\": \"Germany\", \"time\": \"02:24:14\", \"marathon\": \"London\", \"total_minutes\": 144.23333333333332}, {\"year\": 2007, \"winner\": \"Martin Lel\", \"gender\": \"Male\", \"country\": \"Kenya\", \"time\": \"02:07:41\", \"marathon\": \"London\", \"total_minutes\": 127.68333333333334}, {\"year\": 2007, \"winner\": \"Zhou Chunxiu\", \"gender\": \"Female\", \"country\": \"China\", \"time\": \"02:20:38\", \"marathon\": \"London\", \"total_minutes\": 140.63333333333333}, {\"year\": 2006, \"winner\": \"Felix Limo\", \"gender\": \"Male\", \"country\": \"Kenya\", \"time\": \"02:06:39\", \"marathon\": \"London\", \"total_minutes\": 126.65}, {\"year\": 2006, \"winner\": \"Deena Kastor\", \"gender\": \"Female\", \"country\": \"United States\", \"time\": \"02:19:35\", \"marathon\": \"London\", \"total_minutes\": 139.58333333333334}, {\"year\": 2005, \"winner\": \"Martin Lel\", \"gender\": \"Male\", \"country\": \"Kenya\", \"time\": \"02:07:35\", \"marathon\": \"London\", \"total_minutes\": 127.58333333333333}, {\"year\": 2005, \"winner\": \"Paula Radcliffe\", \"gender\": \"Female\", \"country\": \"United Kingdom\", \"time\": \"02:17:42\", \"marathon\": \"London\", \"total_minutes\": 137.7}, {\"year\": 2004, \"winner\": \"Evans Rutto\", \"gender\": \"Male\", \"country\": \"Kenya\", \"time\": \"02:06:18\", \"marathon\": \"London\", \"total_minutes\": 126.3}, {\"year\": 2004, \"winner\": \"Margaret Okayo\", \"gender\": \"Female\", \"country\": \"Kenya\", \"time\": \"02:22:35\", \"marathon\": \"London\", \"total_minutes\": 142.58333333333334}, {\"year\": 2003, \"winner\": \"Gezahegne Abera\", \"gender\": \"Male\", \"country\": \"Ethiopia\", \"time\": \"02:07:56\", \"marathon\": \"London\", \"total_minutes\": 127.93333333333334}, {\"year\": 2003, \"winner\": \"Paula Radcliffe\", \"gender\": \"Female\", \"country\": \"United Kingdom\", \"time\": \"02:15:25\", \"marathon\": \"London\", \"total_minutes\": 135.41666666666666}, {\"year\": 2002, \"winner\": \"Khalid Khannouchi\", \"gender\": \"Male\", \"country\": \"United States\", \"time\": \"02:05:38\", \"marathon\": \"London\", \"total_minutes\": 125.63333333333334}, {\"year\": 2002, \"winner\": \"Paula Radcliffe\", \"gender\": \"Female\", \"country\": \"United Kingdom\", \"time\": \"02:18:56\", \"marathon\": \"London\", \"total_minutes\": 138.93333333333334}, {\"year\": 2001, \"winner\": \"Abdelkader El Mouaziz\", \"gender\": \"Male\", \"country\": \"Morocco\", \"time\": \"02:07:09\", \"marathon\": \"London\", \"total_minutes\": 127.15}, {\"year\": 2001, \"winner\": \"Derartu Tulu\", \"gender\": \"Female\", \"country\": \"Ethiopia\", \"time\": \"02:23:57\", \"marathon\": \"London\", \"total_minutes\": 143.95}, {\"year\": 2000, \"winner\": \"Ant\\u00f3nio Pinto\", \"gender\": \"Male\", \"country\": \"Portugal\", \"time\": \"02:06:36\", \"marathon\": \"London\", \"total_minutes\": 126.6}, {\"year\": 2000, \"winner\": \"Tegla Laroupe\", \"gender\": \"Female\", \"country\": \"Kenya\", \"time\": \"02:24:33\", \"marathon\": \"London\", \"total_minutes\": 144.55}, {\"year\": 1999, \"winner\": \"Abdelkader El Mouaziz\", \"gender\": \"Male\", \"country\": \"Morocco\", \"time\": \"02:07:57\", \"marathon\": \"London\", \"total_minutes\": 127.95}, {\"year\": 1999, \"winner\": \"Joyce Chepchumba\", \"gender\": \"Female\", \"country\": \"Kenya\", \"time\": \"02:23:22\", \"marathon\": \"London\", \"total_minutes\": 143.36666666666667}, {\"year\": 1998, \"winner\": \"Abel Ant\\u00f3n\", \"gender\": \"Male\", \"country\": \"Spain\", \"time\": \"02:07:57\", \"marathon\": \"London\", \"total_minutes\": 127.95}, {\"year\": 1998, \"winner\": \"Catherina McKiernan\", \"gender\": \"Female\", \"country\": \"Ireland\", \"time\": \"02:26:26\", \"marathon\": \"London\", \"total_minutes\": 146.43333333333334}, {\"year\": 1997, \"winner\": \"Ant\\u00f3nio Pinto\", \"gender\": \"Male\", \"country\": \"Portugal\", \"time\": \"02:07:55\", \"marathon\": \"London\", \"total_minutes\": 127.91666666666667}, {\"year\": 1997, \"winner\": \"Joyce Chepchumba\", \"gender\": \"Female\", \"country\": \"Kenya\", \"time\": \"02:26:51\", \"marathon\": \"London\", \"total_minutes\": 146.85}, {\"year\": 1996, \"winner\": \"Dionicio Cer\\u00f3n\", \"gender\": \"Male\", \"country\": \"Mexico\", \"time\": \"02:10:00\", \"marathon\": \"London\", \"total_minutes\": 130.0}, {\"year\": 1996, \"winner\": \"Liz McColgan\", \"gender\": \"Female\", \"country\": \"United Kingdom\", \"time\": \"02:27:54\", \"marathon\": \"London\", \"total_minutes\": 147.9}, {\"year\": 1995, \"winner\": \"Dionicio Cer\\u00f3n\", \"gender\": \"Male\", \"country\": \"Mexico\", \"time\": \"02:08:30\", \"marathon\": \"London\", \"total_minutes\": 128.5}, {\"year\": 1995, \"winner\": \"Malgorzata Sobanska\", \"gender\": \"Female\", \"country\": \"Poland\", \"time\": \"02:27:43\", \"marathon\": \"London\", \"total_minutes\": 147.71666666666667}, {\"year\": 1994, \"winner\": \"Dionicio Cer\\u00f3n\", \"gender\": \"Male\", \"country\": \"Mexico\", \"time\": \"02:08:53\", \"marathon\": \"London\", \"total_minutes\": 128.88333333333333}, {\"year\": 1994, \"winner\": \"Katrin D\\u00f6rre-Heinig\", \"gender\": \"Female\", \"country\": \"Germany\", \"time\": \"02:32:34\", \"marathon\": \"London\", \"total_minutes\": 152.56666666666666}, {\"year\": 1993, \"winner\": \"Eamonn Martin\", \"gender\": \"Male\", \"country\": \"United Kingdom\", \"time\": \"02:10:50\", \"marathon\": \"London\", \"total_minutes\": 130.83333333333334}, {\"year\": 1993, \"winner\": \"Katrin D\\u00f6rre-Heinig\", \"gender\": \"Female\", \"country\": \"Germany\", \"time\": \"02:27:09\", \"marathon\": \"London\", \"total_minutes\": 147.15}, {\"year\": 1992, \"winner\": \"Ant\\u00f3nio Pinto\", \"gender\": \"Male\", \"country\": \"Portugal\", \"time\": \"02:10:02\", \"marathon\": \"London\", \"total_minutes\": 130.03333333333333}, {\"year\": 1992, \"winner\": \"Katrin D\\u00f6rre-Heinig\", \"gender\": \"Female\", \"country\": \"Germany\", \"time\": \"02:29:39\", \"marathon\": \"London\", \"total_minutes\": 149.65}, {\"year\": 1991, \"winner\": \"Yakov Tolstikov\", \"gender\": \"Male\", \"country\": \"Soviet Union\", \"time\": \"02:09:17\", \"marathon\": \"London\", \"total_minutes\": 129.28333333333333}, {\"year\": 1991, \"winner\": \"Rosa Mota\", \"gender\": \"Female\", \"country\": \"Portugal\", \"time\": \"02:26:14\", \"marathon\": \"London\", \"total_minutes\": 146.23333333333332}, {\"year\": 1990, \"winner\": \"Allister Hutton\", \"gender\": \"Male\", \"country\": \"United Kingdom\", \"time\": \"02:10:10\", \"marathon\": \"London\", \"total_minutes\": 130.16666666666666}, {\"year\": 1990, \"winner\": \"Wanda Panfil\", \"gender\": \"Female\", \"country\": \"Poland\", \"time\": \"02:26:31\", \"marathon\": \"London\", \"total_minutes\": 146.51666666666668}, {\"year\": 1989, \"winner\": \"Douglas Wakiihuri\", \"gender\": \"Male\", \"country\": \"Kenya\", \"time\": \"02:09:03\", \"marathon\": \"London\", \"total_minutes\": 129.05}, {\"year\": 1989, \"winner\": \"V\\u00e9ronique Marot\", \"gender\": \"Female\", \"country\": \"United Kingdom\", \"time\": \"02:25:56\", \"marathon\": \"London\", \"total_minutes\": 145.93333333333334}, {\"year\": 1988, \"winner\": \"Henrik J\\u00f8rgensen\", \"gender\": \"Male\", \"country\": \"Denmark\", \"time\": \"02:10:20\", \"marathon\": \"London\", \"total_minutes\": 130.33333333333334}, {\"year\": 1988, \"winner\": \"Ingrid Kristiansen\", \"gender\": \"Female\", \"country\": \"Norway\", \"time\": \"02:25:41\", \"marathon\": \"London\", \"total_minutes\": 145.68333333333334}, {\"year\": 1987, \"winner\": \"Hiromi Taniguchi\", \"gender\": \"Male\", \"country\": \"Japan\", \"time\": \"02:09:50\", \"marathon\": \"London\", \"total_minutes\": 129.83333333333334}, {\"year\": 1987, \"winner\": \"Ingrid Kristiansen\", \"gender\": \"Female\", \"country\": \"Norway\", \"time\": \"02:22:48\", \"marathon\": \"London\", \"total_minutes\": 142.8}, {\"year\": 1986, \"winner\": \"Toshihiko Seko\", \"gender\": \"Male\", \"country\": \"Japan\", \"time\": \"02:10:02\", \"marathon\": \"London\", \"total_minutes\": 130.03333333333333}, {\"year\": 1986, \"winner\": \"Grete Waitz\", \"gender\": \"Female\", \"country\": \"Norway\", \"time\": \"02:24:54\", \"marathon\": \"London\", \"total_minutes\": 144.9}, {\"year\": 1985, \"winner\": \"Steve Jones\", \"gender\": \"Male\", \"country\": \"United Kingdom\", \"time\": \"02:08:16\", \"marathon\": \"London\", \"total_minutes\": 128.26666666666668}, {\"year\": 1985, \"winner\": \"Ingrid Kristiansen\", \"gender\": \"Female\", \"country\": \"Norway\", \"time\": \"02:21:06\", \"marathon\": \"London\", \"total_minutes\": 141.1}, {\"year\": 1984, \"winner\": \"Charlie Spedding\", \"gender\": \"Male\", \"country\": \"United Kingdom\", \"time\": \"02:09:57\", \"marathon\": \"London\", \"total_minutes\": 129.95}, {\"year\": 1984, \"winner\": \"Ingrid Kristiansen\", \"gender\": \"Female\", \"country\": \"Norway\", \"time\": \"02:24:26\", \"marathon\": \"London\", \"total_minutes\": 144.43333333333334}, {\"year\": 1983, \"winner\": \"Mike Gratton\", \"gender\": \"Male\", \"country\": \"United Kingdom\", \"time\": \"02:09:43\", \"marathon\": \"London\", \"total_minutes\": 129.71666666666667}, {\"year\": 1983, \"winner\": \"Grete Waitz\", \"gender\": \"Female\", \"country\": \"Norway\", \"time\": \"02:25:29\", \"marathon\": \"London\", \"total_minutes\": 145.48333333333332}, {\"year\": 1982, \"winner\": \"Hugh Jones\", \"gender\": \"Male\", \"country\": \"United Kingdom\", \"time\": \"02:09:24\", \"marathon\": \"London\", \"total_minutes\": 129.4}, {\"year\": 1982, \"winner\": \"Joyce Smith\", \"gender\": \"Female\", \"country\": \"United Kingdom\", \"time\": \"02:29:43\", \"marathon\": \"London\", \"total_minutes\": 149.71666666666667}, {\"year\": 1981, \"winner\": \"Dick Beardsley\", \"gender\": \"Male\", \"country\": \"United States\", \"time\": \"02:11:48\", \"marathon\": \"London\", \"total_minutes\": 131.8}, {\"year\": 1981, \"winner\": \"Inge Simonsen\", \"gender\": \"Male\", \"country\": \"Norway\", \"time\": \"02:11:48\", \"marathon\": \"London\", \"total_minutes\": 131.8}, {\"year\": 1981, \"winner\": \"Joyce Smith\", \"gender\": \"Female\", \"country\": \"United Kingdom\", \"time\": \"02:29:57\", \"marathon\": \"London\", \"total_minutes\": 149.95}, {\"year\": 2017, \"winner\": \"Galen Rupp\", \"gender\": \"Male\", \"country\": \"United States\", \"time\": \"02:09:20\", \"marathon\": \"Chicago\", \"total_minutes\": 129.33333333333334}, {\"year\": 2017, \"winner\": \"Tirunesh Dibaba\", \"gender\": \"Female\", \"country\": \"Ethiopia\", \"time\": \"02:18:31\", \"marathon\": \"Chicago\", \"total_minutes\": 138.51666666666668}, {\"year\": 2016, \"winner\": \"Abel Kirui\", \"gender\": \"Male\", \"country\": \"Kenya\", \"time\": \"02:11:23\", \"marathon\": \"Chicago\", \"total_minutes\": 131.38333333333333}, {\"year\": 2016, \"winner\": \"Florence Kiplagat\", \"gender\": \"Female\", \"country\": \"Kenya\", \"time\": \"02:21:32\", \"marathon\": \"Chicago\", \"total_minutes\": 141.53333333333333}, {\"year\": 2015, \"winner\": \"Dickson Chumba\", \"gender\": \"Male\", \"country\": \"Kenya\", \"time\": \"02:09:25\", \"marathon\": \"Chicago\", \"total_minutes\": 129.41666666666666}, {\"year\": 2015, \"winner\": \"Florence Kiplagat\", \"gender\": \"Female\", \"country\": \"Kenya\", \"time\": \"02:23:33\", \"marathon\": \"Chicago\", \"total_minutes\": 143.55}, {\"year\": 2014, \"winner\": \"Eliud Kipchoge\", \"gender\": \"Male\", \"country\": \"Kenya\", \"time\": \"02:04:11\", \"marathon\": \"Chicago\", \"total_minutes\": 124.18333333333334}, {\"year\": 2014, \"winner\": \"Mare Dibaba\", \"gender\": \"Female\", \"country\": \"Ethiopia\", \"time\": \"02:25:37\", \"marathon\": \"Chicago\", \"total_minutes\": 145.61666666666667}, {\"year\": 2013, \"winner\": \"Dennis Kimetto\", \"gender\": \"Male\", \"country\": \"Kenya\", \"time\": \"02:03:45\", \"marathon\": \"Chicago\", \"total_minutes\": 123.75}, {\"year\": 2013, \"winner\": \"Rita Jeptoo\", \"gender\": \"Female\", \"country\": \"Kenya\", \"time\": \"02:19:57\", \"marathon\": \"Chicago\", \"total_minutes\": 139.95}, {\"year\": 2012, \"winner\": \"Tsegaye Kebede\", \"gender\": \"Male\", \"country\": \"Ethiopia\", \"time\": \"02:04:38\", \"marathon\": \"Chicago\", \"total_minutes\": 124.63333333333334}, {\"year\": 2012, \"winner\": \"Atsede Baysa\", \"gender\": \"Female\", \"country\": \"Ethiopia\", \"time\": \"02:22:03\", \"marathon\": \"Chicago\", \"total_minutes\": 142.05}, {\"year\": 2011, \"winner\": \"Moses Mosop\", \"gender\": \"Male\", \"country\": \"Kenya\", \"time\": \"02:05:37\", \"marathon\": \"Chicago\", \"total_minutes\": 125.61666666666666}, {\"year\": 2011, \"winner\": \"Ejegayehu Dibaba\", \"gender\": \"Female\", \"country\": \"Ethiopia\", \"time\": \"02:22:09\", \"marathon\": \"Chicago\", \"total_minutes\": 142.15}, {\"year\": 2010, \"winner\": \"Samuel Wanjiru\", \"gender\": \"Male\", \"country\": \"Kenya\", \"time\": \"02:06:23\", \"marathon\": \"Chicago\", \"total_minutes\": 126.38333333333334}, {\"year\": 2010, \"winner\": \"Atsede Baysa\", \"gender\": \"Female\", \"country\": \"Ethiopia\", \"time\": \"02:23:40\", \"marathon\": \"Chicago\", \"total_minutes\": 143.66666666666666}, {\"year\": 2009, \"winner\": \"Samuel Wanjiru\", \"gender\": \"Male\", \"country\": \"Kenya\", \"time\": \"02:05:41\", \"marathon\": \"Chicago\", \"total_minutes\": 125.68333333333334}, {\"year\": 2009, \"winner\": \"Irina Mikitenko\", \"gender\": \"Female\", \"country\": \"Germany\", \"time\": \"02:26:31\", \"marathon\": \"Chicago\", \"total_minutes\": 146.51666666666668}, {\"year\": 2008, \"winner\": \"Evans Cheruiyot\", \"gender\": \"Male\", \"country\": \"Kenya\", \"time\": \"02:06:25\", \"marathon\": \"Chicago\", \"total_minutes\": 126.41666666666667}, {\"year\": 2008, \"winner\": \"Lidiya Grigoryeva\", \"gender\": \"Female\", \"country\": \"Russia\", \"time\": \"02:27:17\", \"marathon\": \"Chicago\", \"total_minutes\": 147.28333333333333}, {\"year\": 2007, \"winner\": \"Patrick Ivuti\", \"gender\": \"Male\", \"country\": \"Kenya\", \"time\": \"02:11:11\", \"marathon\": \"Chicago\", \"total_minutes\": 131.18333333333334}, {\"year\": 2007, \"winner\": \"Berhane Adere\", \"gender\": \"Female\", \"country\": \"Ethiopia\", \"time\": \"02:33:49\", \"marathon\": \"Chicago\", \"total_minutes\": 153.81666666666666}, {\"year\": 2006, \"winner\": \"Robert Cheruiyot\", \"gender\": \"Male\", \"country\": \"Kenya\", \"time\": \"02:07:35\", \"marathon\": \"Chicago\", \"total_minutes\": 127.58333333333333}, {\"year\": 2006, \"winner\": \"Berhane Adere\", \"gender\": \"Female\", \"country\": \"Ethiopia\", \"time\": \"02:20:42\", \"marathon\": \"Chicago\", \"total_minutes\": 140.7}, {\"year\": 2005, \"winner\": \"Felix Limo\", \"gender\": \"Male\", \"country\": \"Kenya\", \"time\": \"02:07:02\", \"marathon\": \"Chicago\", \"total_minutes\": 127.03333333333333}, {\"year\": 2005, \"winner\": \"Deena Kastor\", \"gender\": \"Female\", \"country\": \"United States\", \"time\": \"02:21:25\", \"marathon\": \"Chicago\", \"total_minutes\": 141.41666666666666}, {\"year\": 2004, \"winner\": \"Evans Rutto\", \"gender\": \"Male\", \"country\": \"Kenya\", \"time\": \"02:06:16\", \"marathon\": \"Chicago\", \"total_minutes\": 126.26666666666667}, {\"year\": 2004, \"winner\": \"Dita, Constantina\", \"gender\": \"Female\", \"country\": \"Romania\", \"time\": \"02:23:45\", \"marathon\": \"Chicago\", \"total_minutes\": 143.75}, {\"year\": 2003, \"winner\": \"Evans Rutto\", \"gender\": \"Male\", \"country\": \"Kenya\", \"time\": \"02:05:50\", \"marathon\": \"Chicago\", \"total_minutes\": 125.83333333333333}, {\"year\": 2003, \"winner\": \"Svetlana Zakharova\", \"gender\": \"Female\", \"country\": \"Russia\", \"time\": \"02:23:07\", \"marathon\": \"Chicago\", \"total_minutes\": 143.11666666666667}, {\"year\": 2002, \"winner\": \"Khalid Khannouchi\", \"gender\": \"Male\", \"country\": \"United States\", \"time\": \"02:05:56\", \"marathon\": \"Chicago\", \"total_minutes\": 125.93333333333334}, {\"year\": 2002, \"winner\": \"Paula Radcliffe\", \"gender\": \"Female\", \"country\": \"United Kingdom\", \"time\": \"02:17:18\", \"marathon\": \"Chicago\", \"total_minutes\": 137.3}, {\"year\": 2001, \"winner\": \"Ben Kimondiu\", \"gender\": \"Male\", \"country\": \"Kenya\", \"time\": \"02:08:52\", \"marathon\": \"Chicago\", \"total_minutes\": 128.86666666666667}, {\"year\": 2001, \"winner\": \"Catherine Ndereba\", \"gender\": \"Female\", \"country\": \"Kenya\", \"time\": \"02:18:47\", \"marathon\": \"Chicago\", \"total_minutes\": 138.78333333333333}, {\"year\": 2000, \"winner\": \"Khalid Khannouchi\", \"gender\": \"Male\", \"country\": \"United States\", \"time\": \"02:07:01\", \"marathon\": \"Chicago\", \"total_minutes\": 127.01666666666667}, {\"year\": 2000, \"winner\": \"Catherine Ndereba\", \"gender\": \"Female\", \"country\": \"Kenya\", \"time\": \"02:21:33\", \"marathon\": \"Chicago\", \"total_minutes\": 141.55}, {\"year\": 1999, \"winner\": \"Khalid Khannouchi\", \"gender\": \"Male\", \"country\": \"Morocco\", \"time\": \"02:05:42\", \"marathon\": \"Chicago\", \"total_minutes\": 125.7}, {\"year\": 1999, \"winner\": \"Joyce Chepchumba\", \"gender\": \"Female\", \"country\": \"Kenya\", \"time\": \"02:25:59\", \"marathon\": \"Chicago\", \"total_minutes\": 145.98333333333332}, {\"year\": 1998, \"winner\": \"Ondoro Osoro\", \"gender\": \"Male\", \"country\": \"Kenya\", \"time\": \"02:06:54\", \"marathon\": \"Chicago\", \"total_minutes\": 126.9}, {\"year\": 1998, \"winner\": \"Joyce Chepchumba\", \"gender\": \"Female\", \"country\": \"Kenya\", \"time\": \"02:23:57\", \"marathon\": \"Chicago\", \"total_minutes\": 143.95}, {\"year\": 1997, \"winner\": \"Khalid Khannouchi\", \"gender\": \"Male\", \"country\": \"Morocco\", \"time\": \"02:07:10\", \"marathon\": \"Chicago\", \"total_minutes\": 127.16666666666667}, {\"year\": 1997, \"winner\": \"Marian Sutton\", \"gender\": \"Female\", \"country\": \"United Kingdom\", \"time\": \"02:29:03\", \"marathon\": \"Chicago\", \"total_minutes\": 149.05}, {\"year\": 1996, \"winner\": \"Paul Evans\", \"gender\": \"Male\", \"country\": \"United Kingdom\", \"time\": \"02:08:52\", \"marathon\": \"Chicago\", \"total_minutes\": 128.86666666666667}, {\"year\": 1996, \"winner\": \"Marian Sutton\", \"gender\": \"Female\", \"country\": \"United Kingdom\", \"time\": \"02:30:41\", \"marathon\": \"Chicago\", \"total_minutes\": 150.68333333333334}, {\"year\": 1995, \"winner\": \"Eamonn Martin\", \"gender\": \"Male\", \"country\": \"United Kingdom\", \"time\": \"02:11:18\", \"marathon\": \"Chicago\", \"total_minutes\": 131.3}, {\"year\": 1995, \"winner\": \"Ritva Lemettinen\", \"gender\": \"Female\", \"country\": \"Finland\", \"time\": \"02:28:27\", \"marathon\": \"Chicago\", \"total_minutes\": 148.45}, {\"year\": 1994, \"winner\": \"Lu\\u00edz Ant\\u00f4nio\", \"gender\": \"Male\", \"country\": \"Brazil\", \"time\": \"02:11:16\", \"marathon\": \"Chicago\", \"total_minutes\": 131.26666666666668}, {\"year\": 1994, \"winner\": \"Kristy Johnston\", \"gender\": \"Female\", \"country\": \"United States\", \"time\": \"02:31:34\", \"marathon\": \"Chicago\", \"total_minutes\": 151.56666666666666}, {\"year\": 1993, \"winner\": \"Lu\\u00edz Ant\\u00f4nio\", \"gender\": \"Male\", \"country\": \"Brazil\", \"time\": \"02:13:14\", \"marathon\": \"Chicago\", \"total_minutes\": 133.23333333333332}, {\"year\": 1993, \"winner\": \"Ritva Lemettinen\", \"gender\": \"Female\", \"country\": \"Finland\", \"time\": \"02:33:18\", \"marathon\": \"Chicago\", \"total_minutes\": 153.3}, {\"year\": 1992, \"winner\": \"Jos\\u00e9 Cesar de Souza\", \"gender\": \"Male\", \"country\": \"Brazil\", \"time\": \"02:16:14\", \"marathon\": \"Chicago\", \"total_minutes\": 136.23333333333332}, {\"year\": 1992, \"winner\": \"Linda Somers\", \"gender\": \"Female\", \"country\": \"United States\", \"time\": \"02:37:41\", \"marathon\": \"Chicago\", \"total_minutes\": 157.68333333333334}, {\"year\": 1991, \"winner\": \"Joseildo Rocha\", \"gender\": \"Male\", \"country\": \"Brazil\", \"time\": \"02:14:33\", \"marathon\": \"Chicago\", \"total_minutes\": 134.55}, {\"year\": 1991, \"winner\": \"Midde Hamrin\", \"gender\": \"Female\", \"country\": \"Sweden\", \"time\": \"02:36:21\", \"marathon\": \"Chicago\", \"total_minutes\": 156.35}, {\"year\": 1990, \"winner\": \"Mart\\u00edn Pitayo\", \"gender\": \"Male\", \"country\": \"Mexico\", \"time\": \"02:09:41\", \"marathon\": \"Chicago\", \"total_minutes\": 129.68333333333334}, {\"year\": 1990, \"winner\": \"Aurora Cunha\", \"gender\": \"Female\", \"country\": \"Portugal\", \"time\": \"02:30:11\", \"marathon\": \"Chicago\", \"total_minutes\": 150.18333333333334}, {\"year\": 1989, \"winner\": \"Paul Davies-Hale\", \"gender\": \"Male\", \"country\": \"United Kingdom\", \"time\": \"02:11:25\", \"marathon\": \"Chicago\", \"total_minutes\": 131.41666666666666}, {\"year\": 1989, \"winner\": \"Lisa Weidenbach\", \"gender\": \"Female\", \"country\": \"United States\", \"time\": \"02:28:15\", \"marathon\": \"Chicago\", \"total_minutes\": 148.25}, {\"year\": 1988, \"winner\": \"Alejandro Cruz\", \"gender\": \"Male\", \"country\": \"Mexico\", \"time\": \"02:08:57\", \"marathon\": \"Chicago\", \"total_minutes\": 128.95}, {\"year\": 1988, \"winner\": \"Lisa Weidenbach\", \"gender\": \"Female\", \"country\": \"United States\", \"time\": \"02:29:17\", \"marathon\": \"Chicago\", \"total_minutes\": 149.28333333333333}, {\"year\": 1986, \"winner\": \"Toshihiko Seko\", \"gender\": \"Male\", \"country\": \"Japan\", \"time\": \"02:08:27\", \"marathon\": \"Chicago\", \"total_minutes\": 128.45}, {\"year\": 1986, \"winner\": \"Ingrid Kristiansen\", \"gender\": \"Female\", \"country\": \"Norway\", \"time\": \"02:27:08\", \"marathon\": \"Chicago\", \"total_minutes\": 147.13333333333333}, {\"year\": 1985, \"winner\": \"Steve Jones\", \"gender\": \"Male\", \"country\": \"United Kingdom\", \"time\": \"02:07:13\", \"marathon\": \"Chicago\", \"total_minutes\": 127.21666666666667}, {\"year\": 1985, \"winner\": \"Joan Benoit\", \"gender\": \"Female\", \"country\": \"United States\", \"time\": \"02:21:21\", \"marathon\": \"Chicago\", \"total_minutes\": 141.35}, {\"year\": 1984, \"winner\": \"Steve Jones\", \"gender\": \"Male\", \"country\": \"United Kingdom\", \"time\": \"02:08:05\", \"marathon\": \"Chicago\", \"total_minutes\": 128.08333333333334}, {\"year\": 1984, \"winner\": \"Rosa Mota\", \"gender\": \"Female\", \"country\": \"Portugal\", \"time\": \"02:26:01\", \"marathon\": \"Chicago\", \"total_minutes\": 146.01666666666668}, {\"year\": 1983, \"winner\": \"Joseph Nzau\", \"gender\": \"Male\", \"country\": \"Kenya\", \"time\": \"02:09:44\", \"marathon\": \"Chicago\", \"total_minutes\": 129.73333333333332}, {\"year\": 1983, \"winner\": \"Rosa Mota\", \"gender\": \"Female\", \"country\": \"Portugal\", \"time\": \"02:31:12\", \"marathon\": \"Chicago\", \"total_minutes\": 151.2}, {\"year\": 1982, \"winner\": \"Greg Meyer\", \"gender\": \"Male\", \"country\": \"United States\", \"time\": \"02:10:59\", \"marathon\": \"Chicago\", \"total_minutes\": 130.98333333333332}, {\"year\": 1982, \"winner\": \"Nancy Conz\", \"gender\": \"Female\", \"country\": \"United States\", \"time\": \"02:33:23\", \"marathon\": \"Chicago\", \"total_minutes\": 153.38333333333333}, {\"year\": 1981, \"winner\": \"Phil Coppess\", \"gender\": \"Male\", \"country\": \"United States\", \"time\": \"02:16:13\", \"marathon\": \"Chicago\", \"total_minutes\": 136.21666666666667}, {\"year\": 1981, \"winner\": \"Tina Gandy\", \"gender\": \"Female\", \"country\": \"United States\", \"time\": \"02:49:39\", \"marathon\": \"Chicago\", \"total_minutes\": 169.65}, {\"year\": 1980, \"winner\": \"Frank Richardson\", \"gender\": \"Male\", \"country\": \"United States\", \"time\": \"02:14:04\", \"marathon\": \"Chicago\", \"total_minutes\": 134.06666666666666}, {\"year\": 1980, \"winner\": \"Sue Peterson\", \"gender\": \"Female\", \"country\": \"United States\", \"time\": \"02:45:03\", \"marathon\": \"Chicago\", \"total_minutes\": 165.05}, {\"year\": 1979, \"winner\": \"Dan Cloeter\", \"gender\": \"Male\", \"country\": \"United States\", \"time\": \"02:23:20\", \"marathon\": \"Chicago\", \"total_minutes\": 143.33333333333334}, {\"year\": 1979, \"winner\": \"Laura Michalek\", \"gender\": \"Female\", \"country\": \"United States\", \"time\": \"03:15:45\", \"marathon\": \"Chicago\", \"total_minutes\": 195.75}, {\"year\": 1978, \"winner\": \"Mark Stanforth\", \"gender\": \"Male\", \"country\": \"United States\", \"time\": \"02:19:20\", \"marathon\": \"Chicago\", \"total_minutes\": 139.33333333333334}, {\"year\": 1978, \"winner\": \"Lynae Larson\", \"gender\": \"Female\", \"country\": \"United States\", \"time\": \"02:59:25\", \"marathon\": \"Chicago\", \"total_minutes\": 179.41666666666666}, {\"year\": 1977, \"winner\": \"Dan Cloeter\", \"gender\": \"Male\", \"country\": \"United States\", \"time\": \"02:17:52\", \"marathon\": \"Chicago\", \"total_minutes\": 137.86666666666667}, {\"year\": 1977, \"winner\": \"Dorothy Doolittle\", \"gender\": \"Female\", \"country\": \"United States\", \"time\": \"02:50:47\", \"marathon\": \"Chicago\", \"total_minutes\": 170.78333333333333}, {\"year\": 2018, \"winner\": \"Vivian Cheruiyot\", \"gender\": \"Female\", \"country\": \"Kenya\", \"time\": \"02:18:31\", \"marathon\": \"London\", \"total_minutes\": 138.51666666666668}]}}, {\"mode\": \"vega-lite\"});\n",
       "</script>"
      ],
      "text/plain": [
       "alt.LayerChart(...)"
      ]
     },
     "execution_count": 290,
     "metadata": {},
     "output_type": "execute_result"
    }
   ],
   "source": [
    "base_chart = alt.Chart(df)\n",
    "\n",
    "hist_chart = base_chart.mark_bar().encode(\n",
    "    x=alt.X('year:Q', bin=True, axis=None),\n",
    "    y='count()',\n",
    "    color='gender:N',\n",
    "    tooltip=['count()']\n",
    ")\n",
    "\n",
    "mean_line = base_chart.mark_rule(color='red').encode(\n",
    "    x='mean(year):Q',\n",
    "    size=alt.value(5)\n",
    ")\n",
    "\n",
    "(hist_chart + mean_line).configure_legend(\n",
    "    strokeColor='gray',\n",
    "    labelFontSize=15,\n",
    "    padding=10,\n",
    "    cornerRadius=5,\n",
    "    orient='right'\n",
    ")"
   ]
  },
  {
   "cell_type": "markdown",
   "metadata": {
    "execution": {
     "iopub.execute_input": "2020-12-27T00:44:33.753734Z",
     "iopub.status.busy": "2020-12-27T00:44:33.753407Z",
     "iopub.status.idle": "2020-12-27T00:44:33.773062Z",
     "shell.execute_reply": "2020-12-27T00:44:33.771630Z",
     "shell.execute_reply.started": "2020-12-27T00:44:33.753702Z"
    }
   },
   "source": [
    "### Overview of total minutes taken by the marathon winners"
   ]
  },
  {
   "cell_type": "code",
   "execution_count": 331,
   "metadata": {
    "execution": {
     "iopub.execute_input": "2020-12-27T00:59:39.044401Z",
     "iopub.status.busy": "2020-12-27T00:59:39.044081Z",
     "iopub.status.idle": "2020-12-27T00:59:39.061507Z",
     "shell.execute_reply": "2020-12-27T00:59:39.060079Z",
     "shell.execute_reply.started": "2020-12-27T00:59:39.044362Z"
    }
   },
   "outputs": [
    {
     "data": {
      "text/html": [
       "<div>\n",
       "<style scoped>\n",
       "    .dataframe tbody tr th:only-of-type {\n",
       "        vertical-align: middle;\n",
       "    }\n",
       "\n",
       "    .dataframe tbody tr th {\n",
       "        vertical-align: top;\n",
       "    }\n",
       "\n",
       "    .dataframe thead th {\n",
       "        text-align: right;\n",
       "    }\n",
       "</style>\n",
       "<table border=\"1\" class=\"dataframe\">\n",
       "  <thead>\n",
       "    <tr style=\"text-align: right;\">\n",
       "      <th></th>\n",
       "      <th>year</th>\n",
       "      <th>total_minutes</th>\n",
       "    </tr>\n",
       "  </thead>\n",
       "  <tbody>\n",
       "    <tr>\n",
       "      <th>0</th>\n",
       "      <td>1897</td>\n",
       "      <td>175.166667</td>\n",
       "    </tr>\n",
       "    <tr>\n",
       "      <th>1</th>\n",
       "      <td>1898</td>\n",
       "      <td>162.000000</td>\n",
       "    </tr>\n",
       "    <tr>\n",
       "      <th>2</th>\n",
       "      <td>1899</td>\n",
       "      <td>174.633333</td>\n",
       "    </tr>\n",
       "    <tr>\n",
       "      <th>3</th>\n",
       "      <td>1900</td>\n",
       "      <td>159.733333</td>\n",
       "    </tr>\n",
       "    <tr>\n",
       "      <th>4</th>\n",
       "      <td>1901</td>\n",
       "      <td>149.383333</td>\n",
       "    </tr>\n",
       "  </tbody>\n",
       "</table>\n",
       "</div>"
      ],
      "text/plain": [
       "   year  total_minutes\n",
       "0  1897     175.166667\n",
       "1  1898     162.000000\n",
       "2  1899     174.633333\n",
       "3  1900     159.733333\n",
       "4  1901     149.383333"
      ]
     },
     "execution_count": 331,
     "metadata": {},
     "output_type": "execute_result"
    }
   ],
   "source": [
    "year_avg_minutes = df.groupby('year')['total_minutes'].agg('mean').reset_index()\n",
    "year_avg_minutes.head()"
   ]
  },
  {
   "cell_type": "code",
   "execution_count": 407,
   "metadata": {
    "execution": {
     "iopub.execute_input": "2020-12-27T01:27:22.008594Z",
     "iopub.status.busy": "2020-12-27T01:27:22.008088Z",
     "iopub.status.idle": "2020-12-27T01:27:22.152820Z",
     "shell.execute_reply": "2020-12-27T01:27:22.150579Z",
     "shell.execute_reply.started": "2020-12-27T01:27:22.008550Z"
    }
   },
   "outputs": [
    {
     "data": {
      "text/html": [
       "\n",
       "<div id=\"altair-viz-8d4cbe354afe45579f7d5871f1a25c6d\"></div>\n",
       "<script type=\"text/javascript\">\n",
       "  (function(spec, embedOpt){\n",
       "    const outputDiv = document.getElementById(\"altair-viz-8d4cbe354afe45579f7d5871f1a25c6d\");\n",
       "    const paths = {\n",
       "      \"vega\": \"https://cdn.jsdelivr.net/npm//vega@5?noext\",\n",
       "      \"vega-lib\": \"https://cdn.jsdelivr.net/npm//vega-lib?noext\",\n",
       "      \"vega-lite\": \"https://cdn.jsdelivr.net/npm//vega-lite@4.0.2?noext\",\n",
       "      \"vega-embed\": \"https://cdn.jsdelivr.net/npm//vega-embed@6?noext\",\n",
       "    };\n",
       "\n",
       "    function loadScript(lib) {\n",
       "      return new Promise(function(resolve, reject) {\n",
       "        var s = document.createElement('script');\n",
       "        s.src = paths[lib];\n",
       "        s.async = true;\n",
       "        s.onload = () => resolve(paths[lib]);\n",
       "        s.onerror = () => reject(`Error loading script: ${paths[lib]}`);\n",
       "        document.getElementsByTagName(\"head\")[0].appendChild(s);\n",
       "      });\n",
       "    }\n",
       "\n",
       "    function showError(err) {\n",
       "      outputDiv.innerHTML = `<div class=\"error\" style=\"color:red;\">${err}</div>`;\n",
       "      throw err;\n",
       "    }\n",
       "\n",
       "    function displayChart(vegaEmbed) {\n",
       "      vegaEmbed(outputDiv, spec, embedOpt)\n",
       "        .catch(err => showError(`Javascript Error: ${err.message}<br>This usually means there's a typo in your chart specification. See the javascript console for the full traceback.`));\n",
       "    }\n",
       "\n",
       "    if(typeof define === \"function\" && define.amd) {\n",
       "      requirejs.config({paths});\n",
       "      require([\"vega-embed\"], displayChart, err => showError(`Error loading script: ${err.message}`));\n",
       "    } else if (typeof vegaEmbed === \"function\") {\n",
       "      displayChart(vegaEmbed);\n",
       "    } else {\n",
       "      loadScript(\"vega\")\n",
       "        .then(() => loadScript(\"vega-lite\"))\n",
       "        .then(() => loadScript(\"vega-embed\"))\n",
       "        .catch(showError)\n",
       "        .then(() => displayChart(vegaEmbed));\n",
       "    }\n",
       "  })({\"config\": {\"view\": {\"continuousWidth\": 400, \"continuousHeight\": 300}}, \"hconcat\": [{\"mark\": \"area\", \"encoding\": {\"x\": {\"type\": \"quantitative\", \"field\": \"year\"}, \"y\": {\"type\": \"quantitative\", \"field\": \"total_minutes\"}}, \"height\": 120, \"selection\": {\"selector177\": {\"type\": \"interval\", \"mark\": {\"fill\": \"green\"}}, \"selector178\": {\"type\": \"interval\", \"encodings\": [\"x\"]}}, \"width\": 600}, {\"mark\": \"area\", \"encoding\": {\"tooltip\": {\"type\": \"quantitative\", \"field\": \"total_minutes\"}, \"x\": {\"type\": \"temporal\", \"field\": \"year\", \"scale\": {\"domain\": {\"selection\": \"selector178\"}}}, \"y\": {\"type\": \"quantitative\", \"field\": \"total_minutes\"}}, \"height\": 250, \"selection\": {\"selector177\": {\"type\": \"interval\", \"mark\": {\"fill\": \"green\"}}}, \"width\": 600}], \"data\": {\"name\": \"data-902bed1f6a6bdda6da09b2948f9ab399\"}, \"$schema\": \"https://vega.github.io/schema/vega-lite/v4.0.2.json\", \"datasets\": {\"data-902bed1f6a6bdda6da09b2948f9ab399\": [{\"year\": 1897, \"total_minutes\": 175.16666666666666}, {\"year\": 1898, \"total_minutes\": 162.0}, {\"year\": 1899, \"total_minutes\": 174.63333333333333}, {\"year\": 1900, \"total_minutes\": 159.73333333333332}, {\"year\": 1901, \"total_minutes\": 149.38333333333333}, {\"year\": 1902, \"total_minutes\": 163.2}, {\"year\": 1903, \"total_minutes\": 161.48333333333332}, {\"year\": 1904, \"total_minutes\": 158.06666666666666}, {\"year\": 1905, \"total_minutes\": 158.41666666666666}, {\"year\": 1906, \"total_minutes\": 165.75}, {\"year\": 1907, \"total_minutes\": 144.4}, {\"year\": 1908, \"total_minutes\": 145.71666666666667}, {\"year\": 1909, \"total_minutes\": 173.6}, {\"year\": 1910, \"total_minutes\": 148.86666666666667}, {\"year\": 1911, \"total_minutes\": 141.65}, {\"year\": 1912, \"total_minutes\": 141.3}, {\"year\": 1913, \"total_minutes\": 145.23333333333332}, {\"year\": 1914, \"total_minutes\": 145.23333333333332}, {\"year\": 1915, \"total_minutes\": 151.68333333333334}, {\"year\": 1916, \"total_minutes\": 147.26666666666668}, {\"year\": 1917, \"total_minutes\": 148.61666666666667}, {\"year\": 1919, \"total_minutes\": 149.21666666666667}, {\"year\": 1920, \"total_minutes\": 149.51666666666668}, {\"year\": 1921, \"total_minutes\": 138.95}, {\"year\": 1922, \"total_minutes\": 138.16666666666666}, {\"year\": 1923, \"total_minutes\": 143.78333333333333}, {\"year\": 1924, \"total_minutes\": 149.66666666666666}, {\"year\": 1925, \"total_minutes\": 153.0}, {\"year\": 1926, \"total_minutes\": 145.66666666666666}, {\"year\": 1927, \"total_minutes\": 160.36666666666667}, {\"year\": 1928, \"total_minutes\": 157.11666666666667}, {\"year\": 1929, \"total_minutes\": 153.13333333333333}, {\"year\": 1930, \"total_minutes\": 154.8}, {\"year\": 1931, \"total_minutes\": 166.75}, {\"year\": 1932, \"total_minutes\": 153.6}, {\"year\": 1933, \"total_minutes\": 151.01666666666668}, {\"year\": 1934, \"total_minutes\": 152.88333333333333}, {\"year\": 1935, \"total_minutes\": 152.11666666666667}, {\"year\": 1936, \"total_minutes\": 153.66666666666666}, {\"year\": 1937, \"total_minutes\": 153.33333333333334}, {\"year\": 1938, \"total_minutes\": 155.56666666666666}, {\"year\": 1939, \"total_minutes\": 148.85}, {\"year\": 1940, \"total_minutes\": 148.46666666666667}, {\"year\": 1941, \"total_minutes\": 150.63333333333333}, {\"year\": 1942, \"total_minutes\": 146.85}, {\"year\": 1943, \"total_minutes\": 148.41666666666666}, {\"year\": 1944, \"total_minutes\": 151.83333333333334}, {\"year\": 1945, \"total_minutes\": 150.66666666666666}, {\"year\": 1946, \"total_minutes\": 149.45}, {\"year\": 1947, \"total_minutes\": 145.65}, {\"year\": 1948, \"total_minutes\": 151.03333333333333}, {\"year\": 1949, \"total_minutes\": 151.83333333333334}, {\"year\": 1950, \"total_minutes\": 152.65}, {\"year\": 1951, \"total_minutes\": 147.75}, {\"year\": 1952, \"total_minutes\": 151.88333333333333}, {\"year\": 1953, \"total_minutes\": 138.85}, {\"year\": 1954, \"total_minutes\": 140.65}, {\"year\": 1955, \"total_minutes\": 138.36666666666667}, {\"year\": 1956, \"total_minutes\": 134.23333333333332}, {\"year\": 1957, \"total_minutes\": 140.08333333333334}, {\"year\": 1958, \"total_minutes\": 145.9}, {\"year\": 1959, \"total_minutes\": 142.7}, {\"year\": 1960, \"total_minutes\": 140.9}, {\"year\": 1961, \"total_minutes\": 143.65}, {\"year\": 1962, \"total_minutes\": 143.8}, {\"year\": 1963, \"total_minutes\": 138.96666666666667}, {\"year\": 1964, \"total_minutes\": 139.98333333333332}, {\"year\": 1965, \"total_minutes\": 136.55}, {\"year\": 1966, \"total_minutes\": 169.425}, {\"year\": 1967, \"total_minutes\": 171.51666666666665}, {\"year\": 1968, \"total_minutes\": 176.14166666666665}, {\"year\": 1969, \"total_minutes\": 168.29166666666669}, {\"year\": 1970, \"total_minutes\": 155.75}, {\"year\": 1971, \"total_minutes\": 156.71666666666667}, {\"year\": 1972, \"total_minutes\": 165.65833333333336}, {\"year\": 1973, \"total_minutes\": 160.2625}, {\"year\": 1974, \"total_minutes\": 166.95277777777778}, {\"year\": 1975, \"total_minutes\": 157.3972222222222}, {\"year\": 1976, \"total_minutes\": 154.21388888888887}, {\"year\": 1977, \"total_minutes\": 149.58958333333334}, {\"year\": 1978, \"total_minutes\": 151.96666666666667}, {\"year\": 1979, \"total_minutes\": 153.9125}, {\"year\": 1980, \"total_minutes\": 145.65625}, {\"year\": 1981, \"total_minutes\": 142.94696969696972}, {\"year\": 1982, \"total_minutes\": 142.04833333333332}, {\"year\": 1983, \"total_minutes\": 139.79833333333335}, {\"year\": 1984, \"total_minutes\": 140.60166666666666}, {\"year\": 1985, \"total_minutes\": 139.2133333333333}, {\"year\": 1986, \"total_minutes\": 138.57000000000002}, {\"year\": 1987, \"total_minutes\": 139.20833333333334}, {\"year\": 1988, \"total_minutes\": 138.49333333333334}, {\"year\": 1989, \"total_minutes\": 138.075}, {\"year\": 1990, \"total_minutes\": 139.055}, {\"year\": 1991, \"total_minutes\": 139.73666666666665}, {\"year\": 1992, \"total_minutes\": 139.81833333333333}, {\"year\": 1993, \"total_minutes\": 139.32666666666665}, {\"year\": 1994, \"total_minutes\": 138.60166666666666}, {\"year\": 1995, \"total_minutes\": 138.22666666666666}, {\"year\": 1996, \"total_minutes\": 138.79333333333335}, {\"year\": 1997, \"total_minutes\": 137.62666666666667}, {\"year\": 1998, \"total_minutes\": 136.16333333333336}, {\"year\": 1999, \"total_minutes\": 135.80666666666667}, {\"year\": 2000, \"total_minutes\": 136.55333333333334}, {\"year\": 2001, \"total_minutes\": 135.29666666666668}, {\"year\": 2002, \"total_minutes\": 134.02}, {\"year\": 2003, \"total_minutes\": 135.2266666666667}, {\"year\": 2004, \"total_minutes\": 135.30166666666668}, {\"year\": 2005, \"total_minutes\": 135.17333333333335}, {\"year\": 2006, \"total_minutes\": 134.79333333333335}, {\"year\": 2007, \"total_minutes\": 138.1291666666667}, {\"year\": 2008, \"total_minutes\": 136.2722222222222}, {\"year\": 2009, \"total_minutes\": 137.13611111111115}, {\"year\": 2010, \"total_minutes\": 136.89027777777778}, {\"year\": 2011, \"total_minutes\": 133.79166666666666}, {\"year\": 2012, \"total_minutes\": 135.23666666666668}, {\"year\": 2013, \"total_minutes\": 134.77638888888887}, {\"year\": 2014, \"total_minutes\": 134.5858974358974}, {\"year\": 2015, \"total_minutes\": 135.23888888888888}, {\"year\": 2016, \"total_minutes\": 135.45833333333334}, {\"year\": 2017, \"total_minutes\": 133.96527777777774}, {\"year\": 2018, \"total_minutes\": 137.3361111111111}]}}, {\"mode\": \"vega-lite\"});\n",
       "</script>"
      ],
      "text/plain": [
       "alt.HConcatChart(...)"
      ]
     },
     "execution_count": 407,
     "metadata": {},
     "output_type": "execute_result"
    }
   ],
   "source": [
    "interval = alt.selection_interval(\n",
    "    mark=alt.BrushConfig(fill='green')\n",
    ")\n",
    "brush = alt.selection(type='interval', encodings=['x'])\n",
    "\n",
    "base = alt.Chart(year_avg_minutes).mark_area().encode(\n",
    "    x = 'year',\n",
    "    y = 'total_minutes:Q',\n",
    ").properties(\n",
    "    width=600,\n",
    "    height=250,\n",
    "    selection=interval\n",
    ")\n",
    "\n",
    "minutes_chart = base.encode(\n",
    "    alt.X('year:T', scale=alt.Scale(domain=brush)),\n",
    "    tooltip='total_minutes'\n",
    ")\n",
    "\n",
    "chart_selector = base.properties(\n",
    "    width=600,\n",
    "    height=120\n",
    ").add_selection(brush)\n",
    "\n",
    "area_chart = alt.Chart(year_avg_minutes).mark_area(\n",
    "    color='lightblue',\n",
    "    interpolate='step-after',\n",
    "    line=True\n",
    ").encode(\n",
    "    x='year',\n",
    "    y='total_minutes',\n",
    "    tooltip='total_minutes'\n",
    ").properties(\n",
    "    height=430,\n",
    "    width=600\n",
    ")\n",
    "\n",
    "box_chart = alt.Chart(df).mark_boxplot().encode(\n",
    "    x='gender',\n",
    "    y='total_minutes:Q'\n",
    ").properties(\n",
    "    height=430,\n",
    "    width=200\n",
    ")\n",
    "\n",
    "chart_selector | minutes_chart"
   ]
  },
  {
   "cell_type": "code",
   "execution_count": 420,
   "metadata": {
    "execution": {
     "iopub.execute_input": "2020-12-27T01:32:06.327259Z",
     "iopub.status.busy": "2020-12-27T01:32:06.326923Z",
     "iopub.status.idle": "2020-12-27T01:32:06.394185Z",
     "shell.execute_reply": "2020-12-27T01:32:06.392806Z",
     "shell.execute_reply.started": "2020-12-27T01:32:06.327228Z"
    }
   },
   "outputs": [
    {
     "data": {
      "text/html": [
       "\n",
       "<div id=\"altair-viz-9804cf0881c343f39109672a07040a45\"></div>\n",
       "<script type=\"text/javascript\">\n",
       "  (function(spec, embedOpt){\n",
       "    const outputDiv = document.getElementById(\"altair-viz-9804cf0881c343f39109672a07040a45\");\n",
       "    const paths = {\n",
       "      \"vega\": \"https://cdn.jsdelivr.net/npm//vega@5?noext\",\n",
       "      \"vega-lib\": \"https://cdn.jsdelivr.net/npm//vega-lib?noext\",\n",
       "      \"vega-lite\": \"https://cdn.jsdelivr.net/npm//vega-lite@4.0.2?noext\",\n",
       "      \"vega-embed\": \"https://cdn.jsdelivr.net/npm//vega-embed@6?noext\",\n",
       "    };\n",
       "\n",
       "    function loadScript(lib) {\n",
       "      return new Promise(function(resolve, reject) {\n",
       "        var s = document.createElement('script');\n",
       "        s.src = paths[lib];\n",
       "        s.async = true;\n",
       "        s.onload = () => resolve(paths[lib]);\n",
       "        s.onerror = () => reject(`Error loading script: ${paths[lib]}`);\n",
       "        document.getElementsByTagName(\"head\")[0].appendChild(s);\n",
       "      });\n",
       "    }\n",
       "\n",
       "    function showError(err) {\n",
       "      outputDiv.innerHTML = `<div class=\"error\" style=\"color:red;\">${err}</div>`;\n",
       "      throw err;\n",
       "    }\n",
       "\n",
       "    function displayChart(vegaEmbed) {\n",
       "      vegaEmbed(outputDiv, spec, embedOpt)\n",
       "        .catch(err => showError(`Javascript Error: ${err.message}<br>This usually means there's a typo in your chart specification. See the javascript console for the full traceback.`));\n",
       "    }\n",
       "\n",
       "    if(typeof define === \"function\" && define.amd) {\n",
       "      requirejs.config({paths});\n",
       "      require([\"vega-embed\"], displayChart, err => showError(`Error loading script: ${err.message}`));\n",
       "    } else if (typeof vegaEmbed === \"function\") {\n",
       "      displayChart(vegaEmbed);\n",
       "    } else {\n",
       "      loadScript(\"vega\")\n",
       "        .then(() => loadScript(\"vega-lite\"))\n",
       "        .then(() => loadScript(\"vega-embed\"))\n",
       "        .catch(showError)\n",
       "        .then(() => displayChart(vegaEmbed));\n",
       "    }\n",
       "  })({\"config\": {\"view\": {\"continuousWidth\": 400, \"continuousHeight\": 300}, \"axis\": {\"labelAngle\": 0, \"labelFontSize\": 16, \"titleFontSize\": 16}}, \"data\": {\"name\": \"data-6eb0b7841c51813c7c7dbe091c652974\"}, \"mark\": {\"type\": \"boxplot\", \"extent\": 0.5, \"size\": 50}, \"encoding\": {\"color\": {\"type\": \"nominal\", \"field\": \"gender\"}, \"x\": {\"type\": \"nominal\", \"field\": \"gender\"}, \"y\": {\"type\": \"quantitative\", \"field\": \"total_minutes\", \"scale\": {\"zero\": false}}}, \"height\": 300, \"width\": 300, \"$schema\": \"https://vega.github.io/schema/vega-lite/v4.0.2.json\", \"datasets\": {\"data-6eb0b7841c51813c7c7dbe091c652974\": [{\"year\": 2018, \"winner\": \"Dickson Chumba\", \"gender\": \"Male\", \"country\": \"Kenya\", \"time\": \"02:05:30\", \"marathon\": \"Tokyo\", \"total_minutes\": 125.5}, {\"year\": 2018, \"winner\": \"Birhane Dibaba\", \"gender\": \"Female\", \"country\": \"Ethiopia\", \"time\": \"02:19:51\", \"marathon\": \"Tokyo\", \"total_minutes\": 139.85}, {\"year\": 2017, \"winner\": \"Wilson Kipsang\", \"gender\": \"Male\", \"country\": \"Kenya\", \"time\": \"02:03:58\", \"marathon\": \"Tokyo\", \"total_minutes\": 123.96666666666667}, {\"year\": 2017, \"winner\": \"Sarah Chepchirchir\", \"gender\": \"Female\", \"country\": \"Kenya\", \"time\": \"02:19:47\", \"marathon\": \"Tokyo\", \"total_minutes\": 139.78333333333333}, {\"year\": 2016, \"winner\": \"Feyisa Lilesa\", \"gender\": \"Male\", \"country\": \"Ethiopia\", \"time\": \"02:06:56\", \"marathon\": \"Tokyo\", \"total_minutes\": 126.93333333333334}, {\"year\": 2016, \"winner\": \"Helah Kiprop\", \"gender\": \"Female\", \"country\": \"Kenya\", \"time\": \"02:21:27\", \"marathon\": \"Tokyo\", \"total_minutes\": 141.45}, {\"year\": 2015, \"winner\": \"Endeshaw Negesse\", \"gender\": \"Male\", \"country\": \"Ethiopia\", \"time\": \"02:06:00\", \"marathon\": \"Tokyo\", \"total_minutes\": 126.0}, {\"year\": 2015, \"winner\": \"Birhane Dibaba\", \"gender\": \"Female\", \"country\": \"Ethiopia\", \"time\": \"02:23:15\", \"marathon\": \"Tokyo\", \"total_minutes\": 143.25}, {\"year\": 2014, \"winner\": \"Dickson Chumba\", \"gender\": \"Male\", \"country\": \"Kenya\", \"time\": \"02:05:42\", \"marathon\": \"Tokyo\", \"total_minutes\": 125.7}, {\"year\": 2014, \"winner\": \"Tirfi Tsegaye\", \"gender\": \"Female\", \"country\": \"Ethiopia\", \"time\": \"02:22:23\", \"marathon\": \"Tokyo\", \"total_minutes\": 142.38333333333333}, {\"year\": 2013, \"winner\": \"Dennis Kimetto\", \"gender\": \"Male\", \"country\": \"Kenya\", \"time\": \"02:06:50\", \"marathon\": \"Tokyo\", \"total_minutes\": 126.83333333333333}, {\"year\": 2013, \"winner\": \"Aberu Kebede\", \"gender\": \"Female\", \"country\": \"Ethiopia\", \"time\": \"02:25:34\", \"marathon\": \"Tokyo\", \"total_minutes\": 145.56666666666666}, {\"year\": 2012, \"winner\": \"Michael Kipyego\", \"gender\": \"Male\", \"country\": \"Kenya\", \"time\": \"02:07:37\", \"marathon\": \"Tokyo\", \"total_minutes\": 127.61666666666666}, {\"year\": 2012, \"winner\": \"Atsede Habtamu\", \"gender\": \"Female\", \"country\": \"Ethiopia\", \"time\": \"02:25:28\", \"marathon\": \"Tokyo\", \"total_minutes\": 145.46666666666667}, {\"year\": 2011, \"winner\": \"Hailu Mekonnen\", \"gender\": \"Male\", \"country\": \"Ethiopia\", \"time\": \"02:07:35\", \"marathon\": \"Tokyo\", \"total_minutes\": 127.58333333333333}, {\"year\": 2011, \"winner\": \"Noriko Higuchi\", \"gender\": \"Female\", \"country\": \"Japan\", \"time\": \"02:28:49\", \"marathon\": \"Tokyo\", \"total_minutes\": 148.81666666666666}, {\"year\": 2010, \"winner\": \"Masakazu Fujiwara\", \"gender\": \"Male\", \"country\": \"Japan\", \"time\": \"02:12:19\", \"marathon\": \"Tokyo\", \"total_minutes\": 132.31666666666666}, {\"year\": 2010, \"winner\": \"Alevtina Biktimirova\", \"gender\": \"Female\", \"country\": \"Russia\", \"time\": \"02:34:39\", \"marathon\": \"Tokyo\", \"total_minutes\": 154.65}, {\"year\": 2009, \"winner\": \"Salim Kipsang\", \"gender\": \"Male\", \"country\": \"Kenya\", \"time\": \"02:10:27\", \"marathon\": \"Tokyo\", \"total_minutes\": 130.45}, {\"year\": 2009, \"winner\": \"Mizuho Nasukawa\", \"gender\": \"Female\", \"country\": \"Japan\", \"time\": \"02:25:38\", \"marathon\": \"Tokyo\", \"total_minutes\": 145.63333333333333}, {\"year\": 2008, \"winner\": \"Viktor R\\u00f6thlin\", \"gender\": \"Male\", \"country\": \"Switzerland\", \"time\": \"02:07:23\", \"marathon\": \"Tokyo\", \"total_minutes\": 127.38333333333334}, {\"year\": 2008, \"winner\": \"Claudia Dreher\", \"gender\": \"Female\", \"country\": \"Germany\", \"time\": \"02:35:35\", \"marathon\": \"Tokyo\", \"total_minutes\": 155.58333333333334}, {\"year\": 2007, \"winner\": \"Daniel Njenga\", \"gender\": \"Male\", \"country\": \"Kenya\", \"time\": \"02:09:45\", \"marathon\": \"Tokyo\", \"total_minutes\": 129.75}, {\"year\": 2007, \"winner\": \"Hitomi Niiya\", \"gender\": \"Female\", \"country\": \"Japan\", \"time\": \"02:31:02\", \"marathon\": \"Tokyo\", \"total_minutes\": 151.03333333333333}, {\"year\": 2017, \"winner\": \"Eliud Kipchoge\", \"gender\": \"Male\", \"country\": \"Kenya\", \"time\": \"02:03:32\", \"marathon\": \"Berlin\", \"total_minutes\": 123.53333333333333}, {\"year\": 2017, \"winner\": \"Gladys Cherono\", \"gender\": \"Female\", \"country\": \"Kenya\", \"time\": \"02:20:23\", \"marathon\": \"Berlin\", \"total_minutes\": 140.38333333333333}, {\"year\": 2016, \"winner\": \"Kenenisa Bekele\", \"gender\": \"Male\", \"country\": \"Ethiopia\", \"time\": \"02:03:03\", \"marathon\": \"Berlin\", \"total_minutes\": 123.05}, {\"year\": 2016, \"winner\": \"Aberu Kebede\", \"gender\": \"Female\", \"country\": \"Ethiopia\", \"time\": \"02:20:45\", \"marathon\": \"Berlin\", \"total_minutes\": 140.75}, {\"year\": 2015, \"winner\": \"Eliud Kipchoge\", \"gender\": \"Male\", \"country\": \"Kenya\", \"time\": \"02:04:00\", \"marathon\": \"Berlin\", \"total_minutes\": 124.0}, {\"year\": 2015, \"winner\": \"Gladys Cherono\", \"gender\": \"Female\", \"country\": \"Kenya\", \"time\": \"02:19:25\", \"marathon\": \"Berlin\", \"total_minutes\": 139.41666666666666}, {\"year\": 2014, \"winner\": \"Dennis Kimetto\", \"gender\": \"Male\", \"country\": \"Kenya\", \"time\": \"02:02:57\", \"marathon\": \"Berlin\", \"total_minutes\": 122.95}, {\"year\": 2014, \"winner\": \"Tirfi Tsegaye\", \"gender\": \"Female\", \"country\": \"Ethiopia\", \"time\": \"02:20:18\", \"marathon\": \"Berlin\", \"total_minutes\": 140.3}, {\"year\": 2013, \"winner\": \"Wilson Kipsang\", \"gender\": \"Male\", \"country\": \"Kenya\", \"time\": \"02:03:23\", \"marathon\": \"Berlin\", \"total_minutes\": 123.38333333333334}, {\"year\": 2013, \"winner\": \"Florence Kiplagat\", \"gender\": \"Female\", \"country\": \"Kenya\", \"time\": \"02:21:13\", \"marathon\": \"Berlin\", \"total_minutes\": 141.21666666666667}, {\"year\": 2012, \"winner\": \"Geoffrey Mutai\", \"gender\": \"Male\", \"country\": \"Kenya\", \"time\": \"02:04:15\", \"marathon\": \"Berlin\", \"total_minutes\": 124.25}, {\"year\": 2012, \"winner\": \"Aberu Kebede\", \"gender\": \"Female\", \"country\": \"Ethiopia\", \"time\": \"02:20:30\", \"marathon\": \"Berlin\", \"total_minutes\": 140.5}, {\"year\": 2011, \"winner\": \"Patrick Musyoki\", \"gender\": \"Male\", \"country\": \"Kenya\", \"time\": \"02:03:38\", \"marathon\": \"Berlin\", \"total_minutes\": 123.63333333333334}, {\"year\": 2011, \"winner\": \"Florence Kiplagat\", \"gender\": \"Female\", \"country\": \"Kenya\", \"time\": \"02:19:44\", \"marathon\": \"Berlin\", \"total_minutes\": 139.73333333333332}, {\"year\": 2010, \"winner\": \"Patrick Musyoki\", \"gender\": \"Male\", \"country\": \"Kenya\", \"time\": \"02:05:08\", \"marathon\": \"Berlin\", \"total_minutes\": 125.13333333333334}, {\"year\": 2010, \"winner\": \"Aberu Kebede\", \"gender\": \"Female\", \"country\": \"Ethiopia\", \"time\": \"02:23:58\", \"marathon\": \"Berlin\", \"total_minutes\": 143.96666666666667}, {\"year\": 2009, \"winner\": \"Haile Gebrselassie\", \"gender\": \"Male\", \"country\": \"Ethiopia\", \"time\": \"02:06:08\", \"marathon\": \"Berlin\", \"total_minutes\": 126.13333333333334}, {\"year\": 2009, \"winner\": \"Atsede Habtamu\", \"gender\": \"Female\", \"country\": \"Ethiopia\", \"time\": \"02:24:47\", \"marathon\": \"Berlin\", \"total_minutes\": 144.78333333333333}, {\"year\": 2008, \"winner\": \"Haile Gebrselassie\", \"gender\": \"Male\", \"country\": \"Ethiopia\", \"time\": \"02:03:59\", \"marathon\": \"Berlin\", \"total_minutes\": 123.98333333333333}, {\"year\": 2008, \"winner\": \"Irina Mikitenko\", \"gender\": \"Female\", \"country\": \"Germany\", \"time\": \"02:19:19\", \"marathon\": \"Berlin\", \"total_minutes\": 139.31666666666666}, {\"year\": 2007, \"winner\": \"Haile Gebrselassie\", \"gender\": \"Male\", \"country\": \"Ethiopia\", \"time\": \"02:04:26\", \"marathon\": \"Berlin\", \"total_minutes\": 124.43333333333334}, {\"year\": 2007, \"winner\": \"Gete Wami\", \"gender\": \"Female\", \"country\": \"Ethiopia\", \"time\": \"02:23:17\", \"marathon\": \"Berlin\", \"total_minutes\": 143.28333333333333}, {\"year\": 2006, \"winner\": \"Haile Gebrselassie\", \"gender\": \"Male\", \"country\": \"Ethiopia\", \"time\": \"02:05:56\", \"marathon\": \"Berlin\", \"total_minutes\": 125.93333333333334}, {\"year\": 2006, \"winner\": \"Gete Wami\", \"gender\": \"Female\", \"country\": \"Ethiopia\", \"time\": \"02:21:34\", \"marathon\": \"Berlin\", \"total_minutes\": 141.56666666666666}, {\"year\": 2005, \"winner\": \"Philip Manyim\", \"gender\": \"Male\", \"country\": \"Kenya\", \"time\": \"02:07:41\", \"marathon\": \"Berlin\", \"total_minutes\": 127.68333333333334}, {\"year\": 2005, \"winner\": \"Noguchi\", \"gender\": \"Female\", \"country\": \"Japan\", \"time\": \"02:19:12\", \"marathon\": \"Berlin\", \"total_minutes\": 139.2}, {\"year\": 2004, \"winner\": \"Felix Limo\", \"gender\": \"Male\", \"country\": \"Kenya\", \"time\": \"02:06:44\", \"marathon\": \"Berlin\", \"total_minutes\": 126.73333333333333}, {\"year\": 2004, \"winner\": \"Yoko Shibui\", \"gender\": \"Female\", \"country\": \"Japan\", \"time\": \"02:19:41\", \"marathon\": \"Berlin\", \"total_minutes\": 139.68333333333334}, {\"year\": 2003, \"winner\": \"Paul Tergat\", \"gender\": \"Male\", \"country\": \"Kenya\", \"time\": \"02:04:55\", \"marathon\": \"Berlin\", \"total_minutes\": 124.91666666666667}, {\"year\": 2003, \"winner\": \"Yasuko Hashimoto\", \"gender\": \"Female\", \"country\": \"Japan\", \"time\": \"02:26:32\", \"marathon\": \"Berlin\", \"total_minutes\": 146.53333333333333}, {\"year\": 2002, \"winner\": \"Raymond Kipkoech\", \"gender\": \"Male\", \"country\": \"Kenya\", \"time\": \"02:06:47\", \"marathon\": \"Berlin\", \"total_minutes\": 126.78333333333333}, {\"year\": 2002, \"winner\": \"Naoko Takahashi\", \"gender\": \"Female\", \"country\": \"Japan\", \"time\": \"02:21:49\", \"marathon\": \"Berlin\", \"total_minutes\": 141.81666666666666}, {\"year\": 2001, \"winner\": \"Joseph Ngolepus\", \"gender\": \"Male\", \"country\": \"Kenya\", \"time\": \"02:08:47\", \"marathon\": \"Berlin\", \"total_minutes\": 128.78333333333333}, {\"year\": 2001, \"winner\": \"Naoko Takahashi\", \"gender\": \"Female\", \"country\": \"Japan\", \"time\": \"02:19:46\", \"marathon\": \"Berlin\", \"total_minutes\": 139.76666666666668}, {\"year\": 2000, \"winner\": \"Simon Biwott\", \"gender\": \"Male\", \"country\": \"Kenya\", \"time\": \"02:07:42\", \"marathon\": \"Berlin\", \"total_minutes\": 127.7}, {\"year\": 2000, \"winner\": \"Kazumi Matsuo\", \"gender\": \"Female\", \"country\": \"Japan\", \"time\": \"02:26:15\", \"marathon\": \"Berlin\", \"total_minutes\": 146.25}, {\"year\": 1999, \"winner\": \"Josephat Kiprono\", \"gender\": \"Male\", \"country\": \"Kenya\", \"time\": \"02:06:44\", \"marathon\": \"Berlin\", \"total_minutes\": 126.73333333333333}, {\"year\": 1999, \"winner\": \"Tegla Loroupe\", \"gender\": \"Female\", \"country\": \"Kenya\", \"time\": \"02:20:43\", \"marathon\": \"Berlin\", \"total_minutes\": 140.71666666666667}, {\"year\": 1998, \"winner\": \"Ronaldo da Costa\", \"gender\": \"Male\", \"country\": \"Brazil\", \"time\": \"02:06:05\", \"marathon\": \"Berlin\", \"total_minutes\": 126.08333333333333}, {\"year\": 1998, \"winner\": \"Marleen Renders\", \"gender\": \"Female\", \"country\": \"Belgium\", \"time\": \"02:25:22\", \"marathon\": \"Berlin\", \"total_minutes\": 145.36666666666667}, {\"year\": 1997, \"winner\": \"Elijah Lagat\", \"gender\": \"Male\", \"country\": \"Kenya\", \"time\": \"02:07:41\", \"marathon\": \"Berlin\", \"total_minutes\": 127.68333333333334}, {\"year\": 1997, \"winner\": \"Catherina McKiernan\", \"gender\": \"Female\", \"country\": \"Ireland\", \"time\": \"02:23:44\", \"marathon\": \"Berlin\", \"total_minutes\": 143.73333333333332}, {\"year\": 1996, \"winner\": \"Abel Ant\\u00f3n\", \"gender\": \"Male\", \"country\": \"Spain\", \"time\": \"02:09:15\", \"marathon\": \"Berlin\", \"total_minutes\": 129.25}, {\"year\": 1996, \"winner\": \"Colleen De Reuck\", \"gender\": \"Female\", \"country\": \"South Africa\", \"time\": \"02:26:35\", \"marathon\": \"Berlin\", \"total_minutes\": 146.58333333333334}, {\"year\": 1995, \"winner\": \"Sammy Lelei\", \"gender\": \"Male\", \"country\": \"Kenya\", \"time\": \"02:07:02\", \"marathon\": \"Berlin\", \"total_minutes\": 127.03333333333333}, {\"year\": 1995, \"winner\": \"Uta Pippig\", \"gender\": \"Female\", \"country\": \"Germany\", \"time\": \"02:25:37\", \"marathon\": \"Berlin\", \"total_minutes\": 145.61666666666667}, {\"year\": 1994, \"winner\": \"Ant\\u00f3nio Pinto\", \"gender\": \"Male\", \"country\": \"Portugal\", \"time\": \"02:08:31\", \"marathon\": \"Berlin\", \"total_minutes\": 128.51666666666668}, {\"year\": 1994, \"winner\": \"Katrin D\\u00f6rre-Heinig\", \"gender\": \"Female\", \"country\": \"Germany\", \"time\": \"02:25:15\", \"marathon\": \"Berlin\", \"total_minutes\": 145.25}, {\"year\": 1993, \"winner\": \"Xolile Yawa\", \"gender\": \"Male\", \"country\": \"South Africa\", \"time\": \"02:10:57\", \"marathon\": \"Berlin\", \"total_minutes\": 130.95}, {\"year\": 1993, \"winner\": \"Renata Kokowska\", \"gender\": \"Female\", \"country\": \"Poland\", \"time\": \"02:26:20\", \"marathon\": \"Berlin\", \"total_minutes\": 146.33333333333334}, {\"year\": 1992, \"winner\": \"David Tsebe\", \"gender\": \"Male\", \"country\": \"South Africa\", \"time\": \"02:08:07\", \"marathon\": \"Berlin\", \"total_minutes\": 128.11666666666667}, {\"year\": 1992, \"winner\": \"Uta Pippig\", \"gender\": \"Female\", \"country\": \"Germany\", \"time\": \"02:30:22\", \"marathon\": \"Berlin\", \"total_minutes\": 150.36666666666667}, {\"year\": 1991, \"winner\": \"Steve Brace\", \"gender\": \"Male\", \"country\": \"United Kingdom\", \"time\": \"02:10:57\", \"marathon\": \"Berlin\", \"total_minutes\": 130.95}, {\"year\": 1991, \"winner\": \"Renata Kokowska\", \"gender\": \"Female\", \"country\": \"Poland\", \"time\": \"02:27:36\", \"marathon\": \"Berlin\", \"total_minutes\": 147.6}, {\"year\": 1990, \"winner\": \"Steve Moneghetti\", \"gender\": \"Male\", \"country\": \"Australia\", \"time\": \"02:08:16\", \"marathon\": \"Berlin\", \"total_minutes\": 128.26666666666668}, {\"year\": 1990, \"winner\": \"Uta Pippig\", \"gender\": \"Female\", \"country\": \"Germany\", \"time\": \"02:28:37\", \"marathon\": \"Berlin\", \"total_minutes\": 148.61666666666667}, {\"year\": 1989, \"winner\": \"Alfredo Shahanga\", \"gender\": \"Male\", \"country\": \"Tanzania\", \"time\": \"02:10:11\", \"marathon\": \"Berlin\", \"total_minutes\": 130.18333333333334}, {\"year\": 1989, \"winner\": \"P\\u00e4ivi Tikkanen\", \"gender\": \"Female\", \"country\": \"Finland\", \"time\": \"02:28:45\", \"marathon\": \"Berlin\", \"total_minutes\": 148.75}, {\"year\": 1988, \"winner\": \"Suleiman Nyambui\", \"gender\": \"Male\", \"country\": \"Tanzania\", \"time\": \"02:11:45\", \"marathon\": \"Berlin\", \"total_minutes\": 131.75}, {\"year\": 1988, \"winner\": \"Renata Kokowska\", \"gender\": \"Female\", \"country\": \"Poland\", \"time\": \"02:29:16\", \"marathon\": \"Berlin\", \"total_minutes\": 149.26666666666668}, {\"year\": 1987, \"winner\": \"Suleiman Nyambui\", \"gender\": \"Male\", \"country\": \"Tanzania\", \"time\": \"02:11:11\", \"marathon\": \"Berlin\", \"total_minutes\": 131.18333333333334}, {\"year\": 1987, \"winner\": \"Kerstin Pre\\u00dfler\", \"gender\": \"Female\", \"country\": \"Germany\", \"time\": \"02:31:22\", \"marathon\": \"Berlin\", \"total_minutes\": 151.36666666666667}, {\"year\": 1986, \"winner\": \"Boguslaw Psujek\", \"gender\": \"Male\", \"country\": \"Poland\", \"time\": \"02:11:03\", \"marathon\": \"Berlin\", \"total_minutes\": 131.05}, {\"year\": 1986, \"winner\": \"Charlotte Teske\", \"gender\": \"Female\", \"country\": \"Germany\", \"time\": \"02:32:10\", \"marathon\": \"Berlin\", \"total_minutes\": 152.16666666666666}, {\"year\": 1985, \"winner\": \"Jimmy Ashworth\", \"gender\": \"Male\", \"country\": \"United Kingdom\", \"time\": \"02:11:43\", \"marathon\": \"Berlin\", \"total_minutes\": 131.71666666666667}, {\"year\": 1985, \"winner\": \"Magda Ilands\", \"gender\": \"Female\", \"country\": \"Belgium\", \"time\": \"02:34:10\", \"marathon\": \"Berlin\", \"total_minutes\": 154.16666666666666}, {\"year\": 1984, \"winner\": \"John Skovbjerg\", \"gender\": \"Male\", \"country\": \"Denmark\", \"time\": \"02:13:35\", \"marathon\": \"Berlin\", \"total_minutes\": 133.58333333333334}, {\"year\": 1984, \"winner\": \"\\u00c1gnes Sipka\", \"gender\": \"Female\", \"country\": \"Hungary\", \"time\": \"02:39:32\", \"marathon\": \"Berlin\", \"total_minutes\": 159.53333333333333}, {\"year\": 1983, \"winner\": \"Karel Lismont\", \"gender\": \"Male\", \"country\": \"Belgium\", \"time\": \"02:13:37\", \"marathon\": \"Berlin\", \"total_minutes\": 133.61666666666667}, {\"year\": 1983, \"winner\": \"Karen Holdsworth\", \"gender\": \"Female\", \"country\": \"United Kingdom\", \"time\": \"02:40:32\", \"marathon\": \"Berlin\", \"total_minutes\": 160.53333333333333}, {\"year\": 1982, \"winner\": \"Domingo Tibaduiza\", \"gender\": \"Male\", \"country\": \"Colombia\", \"time\": \"02:14:47\", \"marathon\": \"Berlin\", \"total_minutes\": 134.78333333333333}, {\"year\": 1982, \"winner\": \"Jean Lochhead\", \"gender\": \"Female\", \"country\": \"United Kingdom\", \"time\": \"02:47:05\", \"marathon\": \"Berlin\", \"total_minutes\": 167.08333333333334}, {\"year\": 1981, \"winner\": \"Ian Ray\", \"gender\": \"Male\", \"country\": \"United Kingdom\", \"time\": \"02:15:42\", \"marathon\": \"Berlin\", \"total_minutes\": 135.7}, {\"year\": 1981, \"winner\": \"Angelika Stephan\", \"gender\": \"Female\", \"country\": \"Germany\", \"time\": \"02:47:24\", \"marathon\": \"Berlin\", \"total_minutes\": 167.4}, {\"year\": 1980, \"winner\": \"Ingo Sensburg\", \"gender\": \"Male\", \"country\": \"Germany\", \"time\": \"02:16:48\", \"marathon\": \"Berlin\", \"total_minutes\": 136.8}, {\"year\": 1980, \"winner\": \"Gerlinde P\\u00fcttmann\", \"gender\": \"Female\", \"country\": \"Germany\", \"time\": \"02:47:18\", \"marathon\": \"Berlin\", \"total_minutes\": 167.3}, {\"year\": 1979, \"winner\": \"Ingo Sensburg\", \"gender\": \"Male\", \"country\": \"Germany\", \"time\": \"02:21:09\", \"marathon\": \"Berlin\", \"total_minutes\": 141.15}, {\"year\": 1979, \"winner\": \"Jutta von Haase\", \"gender\": \"Female\", \"country\": \"Germany\", \"time\": \"03:07:07\", \"marathon\": \"Berlin\", \"total_minutes\": 187.11666666666667}, {\"year\": 1978, \"winner\": \"Michael Sp\\u00f6ttel\", \"gender\": \"Male\", \"country\": \"Germany\", \"time\": \"02:20:03\", \"marathon\": \"Berlin\", \"total_minutes\": 140.05}, {\"year\": 1978, \"winner\": \"Ursula Blaschke\", \"gender\": \"Female\", \"country\": \"Germany\", \"time\": \"02:57:09\", \"marathon\": \"Berlin\", \"total_minutes\": 177.15}, {\"year\": 1977, \"winner\": \"G\\u00fcnter Mielke\", \"gender\": \"Male\", \"country\": \"Germany\", \"time\": \"02:15:19\", \"marathon\": \"Berlin\", \"total_minutes\": 135.31666666666666}, {\"year\": 1977, \"winner\": \"Christa Vahlensieck\", \"gender\": \"Female\", \"country\": \"Germany\", \"time\": \"02:34:48\", \"marathon\": \"Berlin\", \"total_minutes\": 154.8}, {\"year\": 1976, \"winner\": \"Ingo Sensburg\", \"gender\": \"Male\", \"country\": \"Germany\", \"time\": \"02:23:08\", \"marathon\": \"Berlin\", \"total_minutes\": 143.13333333333333}, {\"year\": 1976, \"winner\": \"Jutta von Haase\", \"gender\": \"Female\", \"country\": \"Germany\", \"time\": \"03:05:19\", \"marathon\": \"Berlin\", \"total_minutes\": 185.31666666666666}, {\"year\": 1975, \"winner\": \"Ralf Bochr\\u00f6der\", \"gender\": \"Male\", \"country\": \"Germany\", \"time\": \"02:47:08\", \"marathon\": \"Berlin\", \"total_minutes\": 167.13333333333333}, {\"year\": 1975, \"winner\": \"Christin Bochr\\u00f6der\", \"gender\": \"Female\", \"country\": \"Germany\", \"time\": \"02:59:15\", \"marathon\": \"Berlin\", \"total_minutes\": 179.25}, {\"year\": 1974, \"winner\": \"G\\u00fcnter Hallas\", \"gender\": \"Male\", \"country\": \"Germany\", \"time\": \"02:44:53\", \"marathon\": \"Berlin\", \"total_minutes\": 164.88333333333333}, {\"year\": 1974, \"winner\": \"Jutta von Haase\", \"gender\": \"Female\", \"country\": \"Germany\", \"time\": \"03:22:01\", \"marathon\": \"Berlin\", \"total_minutes\": 202.01666666666668}, {\"year\": 2018, \"winner\": \"Yuki Kawauchi\", \"gender\": \"Male\", \"country\": \"Japan\", \"time\": \"02:15:58\", \"marathon\": \"Boston\", \"total_minutes\": 135.96666666666667}, {\"year\": 2018, \"winner\": \"Desi Linden\", \"gender\": \"Female\", \"country\": \"United States\", \"time\": \"02:39:54\", \"marathon\": \"Boston\", \"total_minutes\": 159.9}, {\"year\": 2017, \"winner\": \"Geoffrey Kirui\", \"gender\": \"Male\", \"country\": \"Kenya\", \"time\": \"02:09:37\", \"marathon\": \"Boston\", \"total_minutes\": 129.61666666666667}, {\"year\": 2017, \"winner\": \"Edna Kiplagat\", \"gender\": \"Female\", \"country\": \"Kenya\", \"time\": \"02:21:52\", \"marathon\": \"Boston\", \"total_minutes\": 141.86666666666667}, {\"year\": 2016, \"winner\": \"Lemi Berhanu Hayle\", \"gender\": \"Male\", \"country\": \"Ethiopia\", \"time\": \"02:12:45\", \"marathon\": \"Boston\", \"total_minutes\": 132.75}, {\"year\": 2016, \"winner\": \"Atsede Baysa\", \"gender\": \"Female\", \"country\": \"Ethiopia\", \"time\": \"02:29:19\", \"marathon\": \"Boston\", \"total_minutes\": 149.31666666666666}, {\"year\": 2015, \"winner\": \"Lelisa Desisa Benti\", \"gender\": \"Male\", \"country\": \"Ethiopia\", \"time\": \"02:09:17\", \"marathon\": \"Boston\", \"total_minutes\": 129.28333333333333}, {\"year\": 2015, \"winner\": \"Caroline Rotich\", \"gender\": \"Female\", \"country\": \"Kenya\", \"time\": \"02:24:55\", \"marathon\": \"Boston\", \"total_minutes\": 144.91666666666666}, {\"year\": 2014, \"winner\": \"Meb Keflezighi\", \"gender\": \"Male\", \"country\": \"United States\", \"time\": \"02:08:37\", \"marathon\": \"Boston\", \"total_minutes\": 128.61666666666667}, {\"year\": 2014, \"winner\": \"Rita Jeptoo\", \"gender\": \"Female\", \"country\": \"Kenya\", \"time\": \"02:18:57\", \"marathon\": \"Boston\", \"total_minutes\": 138.95}, {\"year\": 2014, \"winner\": \"Bizunesh Deba\", \"gender\": \"Female\", \"country\": \"Ethiopia\", \"time\": \"02:19:59\", \"marathon\": \"Boston\", \"total_minutes\": 139.98333333333332}, {\"year\": 2013, \"winner\": \"Lelisa Desisa Benti\", \"gender\": \"Male\", \"country\": \"Ethiopia\", \"time\": \"02:10:22\", \"marathon\": \"Boston\", \"total_minutes\": 130.36666666666667}, {\"year\": 2013, \"winner\": \"Rita Jeptoo\", \"gender\": \"Female\", \"country\": \"Kenya\", \"time\": \"02:26:25\", \"marathon\": \"Boston\", \"total_minutes\": 146.41666666666666}, {\"year\": 2012, \"winner\": \"Wesley Korir\", \"gender\": \"Male\", \"country\": \"Kenya\", \"time\": \"02:12:40\", \"marathon\": \"Boston\", \"total_minutes\": 132.66666666666666}, {\"year\": 2012, \"winner\": \"Sharon Cherop\", \"gender\": \"Female\", \"country\": \"Kenya\", \"time\": \"02:31:50\", \"marathon\": \"Boston\", \"total_minutes\": 151.83333333333334}, {\"year\": 2011, \"winner\": \"Geoffrey Mutai\", \"gender\": \"Male\", \"country\": \"Kenya\", \"time\": \"02:03:02\", \"marathon\": \"Boston\", \"total_minutes\": 123.03333333333333}, {\"year\": 2011, \"winner\": \"Caroline Kilel\", \"gender\": \"Female\", \"country\": \"Kenya\", \"time\": \"02:22:36\", \"marathon\": \"Boston\", \"total_minutes\": 142.6}, {\"year\": 2010, \"winner\": \"Robert Kiprono Cheruiyot\", \"gender\": \"Male\", \"country\": \"Kenya\", \"time\": \"02:05:52\", \"marathon\": \"Boston\", \"total_minutes\": 125.86666666666666}, {\"year\": 2010, \"winner\": \"Teyba Erkesso\", \"gender\": \"Female\", \"country\": \"Ethiopia\", \"time\": \"02:26:11\", \"marathon\": \"Boston\", \"total_minutes\": 146.18333333333334}, {\"year\": 2009, \"winner\": \"Deriba Merga\", \"gender\": \"Male\", \"country\": \"Ethiopia\", \"time\": \"02:08:42\", \"marathon\": \"Boston\", \"total_minutes\": 128.7}, {\"year\": 2009, \"winner\": \"Salina Kosgei\", \"gender\": \"Female\", \"country\": \"Kenya\", \"time\": \"02:32:16\", \"marathon\": \"Boston\", \"total_minutes\": 152.26666666666668}, {\"year\": 2008, \"winner\": \"Robert Kipkoech Cheruiyot\", \"gender\": \"Male\", \"country\": \"Kenya\", \"time\": \"02:07:45\", \"marathon\": \"Boston\", \"total_minutes\": 127.75}, {\"year\": 2008, \"winner\": \"Dire Tune\", \"gender\": \"Female\", \"country\": \"Ethiopia\", \"time\": \"02:25:25\", \"marathon\": \"Boston\", \"total_minutes\": 145.41666666666666}, {\"year\": 2007, \"winner\": \"Robert Kipkoech Cheruiyot\", \"gender\": \"Male\", \"country\": \"Kenya\", \"time\": \"02:14:13\", \"marathon\": \"Boston\", \"total_minutes\": 134.21666666666667}, {\"year\": 2007, \"winner\": \"Lidiya Grigoryeva\", \"gender\": \"Female\", \"country\": \"Russia\", \"time\": \"02:29:18\", \"marathon\": \"Boston\", \"total_minutes\": 149.3}, {\"year\": 2006, \"winner\": \"Robert Kipkoech Cheruiyot\", \"gender\": \"Male\", \"country\": \"Kenya\", \"time\": \"02:07:14\", \"marathon\": \"Boston\", \"total_minutes\": 127.23333333333333}, {\"year\": 2006, \"winner\": \"Rita Jeptoo\", \"gender\": \"Female\", \"country\": \"Kenya\", \"time\": \"02:23:38\", \"marathon\": \"Boston\", \"total_minutes\": 143.63333333333333}, {\"year\": 2005, \"winner\": \"Hailu Negussie\", \"gender\": \"Male\", \"country\": \"Ethiopia\", \"time\": \"02:11:44\", \"marathon\": \"Boston\", \"total_minutes\": 131.73333333333332}, {\"year\": 2005, \"winner\": \"Catherine Ndereba\", \"gender\": \"Female\", \"country\": \"Kenya\", \"time\": \"02:25:12\", \"marathon\": \"Boston\", \"total_minutes\": 145.2}, {\"year\": 2004, \"winner\": \"Timothy Cherigat\", \"gender\": \"Male\", \"country\": \"Kenya\", \"time\": \"02:10:37\", \"marathon\": \"Boston\", \"total_minutes\": 130.61666666666667}, {\"year\": 2004, \"winner\": \"Catherine Ndereba\", \"gender\": \"Female\", \"country\": \"Kenya\", \"time\": \"02:24:27\", \"marathon\": \"Boston\", \"total_minutes\": 144.45}, {\"year\": 2003, \"winner\": \"Robert Kipkoech Cheruiyot\", \"gender\": \"Male\", \"country\": \"Kenya\", \"time\": \"02:10:11\", \"marathon\": \"Boston\", \"total_minutes\": 130.18333333333334}, {\"year\": 2003, \"winner\": \"Svetlana Zakharova\", \"gender\": \"Female\", \"country\": \"Russia\", \"time\": \"02:25:19\", \"marathon\": \"Boston\", \"total_minutes\": 145.31666666666666}, {\"year\": 2002, \"winner\": \"Rodgers Rop\", \"gender\": \"Male\", \"country\": \"Kenya\", \"time\": \"02:09:02\", \"marathon\": \"Boston\", \"total_minutes\": 129.03333333333333}, {\"year\": 2002, \"winner\": \"Margaret Okayo\", \"gender\": \"Female\", \"country\": \"Kenya\", \"time\": \"02:20:43\", \"marathon\": \"Boston\", \"total_minutes\": 140.71666666666667}, {\"year\": 2001, \"winner\": \"Lee Bong-Ju\", \"gender\": \"Male\", \"country\": \"South Korea\", \"time\": \"02:09:43\", \"marathon\": \"Boston\", \"total_minutes\": 129.71666666666667}, {\"year\": 2001, \"winner\": \"Catherine Ndereba\", \"gender\": \"Female\", \"country\": \"Kenya\", \"time\": \"02:23:53\", \"marathon\": \"Boston\", \"total_minutes\": 143.88333333333333}, {\"year\": 2000, \"winner\": \"Elijah Lagat\", \"gender\": \"Male\", \"country\": \"Kenya\", \"time\": \"02:09:47\", \"marathon\": \"Boston\", \"total_minutes\": 129.78333333333333}, {\"year\": 2000, \"winner\": \"Catherine Ndereba\", \"gender\": \"Female\", \"country\": \"Kenya\", \"time\": \"02:26:11\", \"marathon\": \"Boston\", \"total_minutes\": 146.18333333333334}, {\"year\": 1999, \"winner\": \"Joseph Chebet\", \"gender\": \"Male\", \"country\": \"Kenya\", \"time\": \"02:09:52\", \"marathon\": \"Boston\", \"total_minutes\": 129.86666666666667}, {\"year\": 1999, \"winner\": \"Fatuma Roba\", \"gender\": \"Female\", \"country\": \"Ethiopia\", \"time\": \"02:23:25\", \"marathon\": \"Boston\", \"total_minutes\": 143.41666666666666}, {\"year\": 1998, \"winner\": \"Moses Tanui\", \"gender\": \"Male\", \"country\": \"Kenya\", \"time\": \"02:07:34\", \"marathon\": \"Boston\", \"total_minutes\": 127.56666666666666}, {\"year\": 1998, \"winner\": \"Fatuma Roba\", \"gender\": \"Female\", \"country\": \"Ethiopia\", \"time\": \"02:23:21\", \"marathon\": \"Boston\", \"total_minutes\": 143.35}, {\"year\": 1997, \"winner\": \"Lameck Aguta\", \"gender\": \"Male\", \"country\": \"Kenya\", \"time\": \"02:10:34\", \"marathon\": \"Boston\", \"total_minutes\": 130.56666666666666}, {\"year\": 1997, \"winner\": \"Fatuma Roba\", \"gender\": \"Female\", \"country\": \"Ethiopia\", \"time\": \"02:26:23\", \"marathon\": \"Boston\", \"total_minutes\": 146.38333333333333}, {\"year\": 1996, \"winner\": \"Moses Tanui\", \"gender\": \"Male\", \"country\": \"Kenya\", \"time\": \"02:09:15\", \"marathon\": \"Boston\", \"total_minutes\": 129.25}, {\"year\": 1996, \"winner\": \"Uta Pippig\", \"gender\": \"Female\", \"country\": \"Germany\", \"time\": \"02:27:12\", \"marathon\": \"Boston\", \"total_minutes\": 147.2}, {\"year\": 1995, \"winner\": \"Cosmas Ndeti\", \"gender\": \"Male\", \"country\": \"Kenya\", \"time\": \"02:09:22\", \"marathon\": \"Boston\", \"total_minutes\": 129.36666666666667}, {\"year\": 1995, \"winner\": \"Uta Pippig\", \"gender\": \"Female\", \"country\": \"Germany\", \"time\": \"02:25:11\", \"marathon\": \"Boston\", \"total_minutes\": 145.18333333333334}, {\"year\": 1994, \"winner\": \"Cosmas Ndeti\", \"gender\": \"Male\", \"country\": \"Kenya\", \"time\": \"02:07:15\", \"marathon\": \"Boston\", \"total_minutes\": 127.25}, {\"year\": 1994, \"winner\": \"Uta Pippig\", \"gender\": \"Female\", \"country\": \"Germany\", \"time\": \"02:21:45\", \"marathon\": \"Boston\", \"total_minutes\": 141.75}, {\"year\": 1993, \"winner\": \"Cosmas Ndeti\", \"gender\": \"Male\", \"country\": \"Kenya\", \"time\": \"02:09:33\", \"marathon\": \"Boston\", \"total_minutes\": 129.55}, {\"year\": 1993, \"winner\": \"Olga Markova\", \"gender\": \"Female\", \"country\": \"Russia\", \"time\": \"02:25:27\", \"marathon\": \"Boston\", \"total_minutes\": 145.45}, {\"year\": 1992, \"winner\": \"Ibrahim Hussein\", \"gender\": \"Male\", \"country\": \"Kenya\", \"time\": \"02:08:14\", \"marathon\": \"Boston\", \"total_minutes\": 128.23333333333332}, {\"year\": 1992, \"winner\": \"Olga Markova\", \"gender\": \"Female\", \"country\": \"Russia\", \"time\": \"02:23:43\", \"marathon\": \"Boston\", \"total_minutes\": 143.71666666666667}, {\"year\": 1991, \"winner\": \"Ibrahim Hussein\", \"gender\": \"Male\", \"country\": \"Kenya\", \"time\": \"02:11:06\", \"marathon\": \"Boston\", \"total_minutes\": 131.1}, {\"year\": 1991, \"winner\": \"Wanda Panfil\", \"gender\": \"Female\", \"country\": \"Poland\", \"time\": \"02:24:18\", \"marathon\": \"Boston\", \"total_minutes\": 144.3}, {\"year\": 1990, \"winner\": \"Gelindo Bordin\", \"gender\": \"Male\", \"country\": \"Italy\", \"time\": \"02:08:19\", \"marathon\": \"Boston\", \"total_minutes\": 128.31666666666666}, {\"year\": 1990, \"winner\": \"Rosa Mota\", \"gender\": \"Female\", \"country\": \"Portugal\", \"time\": \"02:25:24\", \"marathon\": \"Boston\", \"total_minutes\": 145.4}, {\"year\": 1989, \"winner\": \"Abebe Mekonnen\", \"gender\": \"Male\", \"country\": \"Ethiopia\", \"time\": \"02:09:06\", \"marathon\": \"Boston\", \"total_minutes\": 129.1}, {\"year\": 1989, \"winner\": \"Ingrid Kristiansen\", \"gender\": \"Female\", \"country\": \"Norway\", \"time\": \"02:24:33\", \"marathon\": \"Boston\", \"total_minutes\": 144.55}, {\"year\": 1988, \"winner\": \"Ibrahim Hussein\", \"gender\": \"Male\", \"country\": \"Kenya\", \"time\": \"02:08:43\", \"marathon\": \"Boston\", \"total_minutes\": 128.71666666666667}, {\"year\": 1988, \"winner\": \"Rosa Mota\", \"gender\": \"Female\", \"country\": \"Portugal\", \"time\": \"02:24:30\", \"marathon\": \"Boston\", \"total_minutes\": 144.5}, {\"year\": 1987, \"winner\": \"Toshihiko Seko\", \"gender\": \"Male\", \"country\": \"Japan\", \"time\": \"02:11:50\", \"marathon\": \"Boston\", \"total_minutes\": 131.83333333333334}, {\"year\": 1987, \"winner\": \"Rosa Mota\", \"gender\": \"Female\", \"country\": \"Portugal\", \"time\": \"02:25:21\", \"marathon\": \"Boston\", \"total_minutes\": 145.35}, {\"year\": 1986, \"winner\": \"Robert de Castella\", \"gender\": \"Male\", \"country\": \"Australia\", \"time\": \"02:07:51\", \"marathon\": \"Boston\", \"total_minutes\": 127.85}, {\"year\": 1986, \"winner\": \"Ingrid Kristiansen\", \"gender\": \"Female\", \"country\": \"Norway\", \"time\": \"02:24:55\", \"marathon\": \"Boston\", \"total_minutes\": 144.91666666666666}, {\"year\": 1985, \"winner\": \"Geoff Smith\", \"gender\": \"Male\", \"country\": \"United Kingdom\", \"time\": \"02:14:05\", \"marathon\": \"Boston\", \"total_minutes\": 134.08333333333334}, {\"year\": 1985, \"winner\": \"Lisa Larsen Weidenbach\", \"gender\": \"Female\", \"country\": \"United States\", \"time\": \"02:34:06\", \"marathon\": \"Boston\", \"total_minutes\": 154.1}, {\"year\": 1984, \"winner\": \"Geoff Smith\", \"gender\": \"Male\", \"country\": \"United Kingdom\", \"time\": \"02:10:34\", \"marathon\": \"Boston\", \"total_minutes\": 130.56666666666666}, {\"year\": 1984, \"winner\": \"Lorraine Moller\", \"gender\": \"Female\", \"country\": \"New Zealand\", \"time\": \"02:29:28\", \"marathon\": \"Boston\", \"total_minutes\": 149.46666666666667}, {\"year\": 1983, \"winner\": \"Greg Meyer\", \"gender\": \"Male\", \"country\": \"United States\", \"time\": \"02:09:00\", \"marathon\": \"Boston\", \"total_minutes\": 129.0}, {\"year\": 1983, \"winner\": \"Joan Benoit\", \"gender\": \"Female\", \"country\": \"United States\", \"time\": \"02:22:43\", \"marathon\": \"Boston\", \"total_minutes\": 142.71666666666667}, {\"year\": 1982, \"winner\": \"Alberto Salazar\", \"gender\": \"Male\", \"country\": \"United States\", \"time\": \"02:08:52\", \"marathon\": \"Boston\", \"total_minutes\": 128.86666666666667}, {\"year\": 1982, \"winner\": \"Charlotte Teske\", \"gender\": \"Female\", \"country\": \"Germany\", \"time\": \"02:29:33\", \"marathon\": \"Boston\", \"total_minutes\": 149.55}, {\"year\": 1981, \"winner\": \"Toshihiko Seko\", \"gender\": \"Male\", \"country\": \"Japan\", \"time\": \"02:09:26\", \"marathon\": \"Boston\", \"total_minutes\": 129.43333333333334}, {\"year\": 1981, \"winner\": \"Allison Roe\", \"gender\": \"Female\", \"country\": \"New Zealand\", \"time\": \"02:26:46\", \"marathon\": \"Boston\", \"total_minutes\": 146.76666666666668}, {\"year\": 1980, \"winner\": \"Bill Rodgers\", \"gender\": \"Male\", \"country\": \"United States\", \"time\": \"02:12:11\", \"marathon\": \"Boston\", \"total_minutes\": 132.18333333333334}, {\"year\": 1980, \"winner\": \"Jacqueline Gareau\", \"gender\": \"Female\", \"country\": \"Canada\", \"time\": \"02:34:28\", \"marathon\": \"Boston\", \"total_minutes\": 154.46666666666667}, {\"year\": 1979, \"winner\": \"Bill Rodgers\", \"gender\": \"Male\", \"country\": \"United States\", \"time\": \"02:09:27\", \"marathon\": \"Boston\", \"total_minutes\": 129.45}, {\"year\": 1979, \"winner\": \"Joan Benoit\", \"gender\": \"Female\", \"country\": \"United States\", \"time\": \"02:35:15\", \"marathon\": \"Boston\", \"total_minutes\": 155.25}, {\"year\": 1978, \"winner\": \"Bill Rodgers\", \"gender\": \"Male\", \"country\": \"United States\", \"time\": \"02:10:13\", \"marathon\": \"Boston\", \"total_minutes\": 130.21666666666667}, {\"year\": 1978, \"winner\": \"Gayle Barron\", \"gender\": \"Female\", \"country\": \"United States\", \"time\": \"02:44:52\", \"marathon\": \"Boston\", \"total_minutes\": 164.86666666666667}, {\"year\": 1977, \"winner\": \"Jerome Drayton\", \"gender\": \"Male\", \"country\": \"Canada\", \"time\": \"02:14:46\", \"marathon\": \"Boston\", \"total_minutes\": 134.76666666666668}, {\"year\": 1977, \"winner\": \"Miki Gorman\", \"gender\": \"Female\", \"country\": \"United States\", \"time\": \"02:48:33\", \"marathon\": \"Boston\", \"total_minutes\": 168.55}, {\"year\": 1976, \"winner\": \"Jack Fultz\", \"gender\": \"Male\", \"country\": \"United States\", \"time\": \"02:20:19\", \"marathon\": \"Boston\", \"total_minutes\": 140.31666666666666}, {\"year\": 1976, \"winner\": \"Kim Merritt\", \"gender\": \"Female\", \"country\": \"United States\", \"time\": \"02:47:10\", \"marathon\": \"Boston\", \"total_minutes\": 167.16666666666666}, {\"year\": 1975, \"winner\": \"Bill Rodgers\", \"gender\": \"Male\", \"country\": \"United States\", \"time\": \"02:09:55\", \"marathon\": \"Boston\", \"total_minutes\": 129.91666666666666}, {\"year\": 1975, \"winner\": \"Liane Winter\", \"gender\": \"Female\", \"country\": \"Germany\", \"time\": \"02:42:24\", \"marathon\": \"Boston\", \"total_minutes\": 162.4}, {\"year\": 1974, \"winner\": \"Neil Cusack\", \"gender\": \"Male\", \"country\": \"Ireland\", \"time\": \"02:13:39\", \"marathon\": \"Boston\", \"total_minutes\": 133.65}, {\"year\": 1974, \"winner\": \"Miki Gorman\", \"gender\": \"Female\", \"country\": \"United States\", \"time\": \"02:47:11\", \"marathon\": \"Boston\", \"total_minutes\": 167.18333333333334}, {\"year\": 1973, \"winner\": \"Jon Anderson\", \"gender\": \"Male\", \"country\": \"United States\", \"time\": \"02:16:03\", \"marathon\": \"Boston\", \"total_minutes\": 136.05}, {\"year\": 1973, \"winner\": \"Jacqueline Hansen\", \"gender\": \"Female\", \"country\": \"United States\", \"time\": \"03:05:59\", \"marathon\": \"Boston\", \"total_minutes\": 185.98333333333332}, {\"year\": 1972, \"winner\": \"Olavi Suomalainen\", \"gender\": \"Male\", \"country\": \"Finland\", \"time\": \"02:15:39\", \"marathon\": \"Boston\", \"total_minutes\": 135.65}, {\"year\": 1972, \"winner\": \"Nina Kuscsik\", \"gender\": \"Female\", \"country\": \"United States\", \"time\": \"03:10:26\", \"marathon\": \"Boston\", \"total_minutes\": 190.43333333333334}, {\"year\": 1971, \"winner\": \"\\u00c1lvaro Mej\\u00eda\", \"gender\": \"Male\", \"country\": \"Colombia\", \"time\": \"02:18:45\", \"marathon\": \"Boston\", \"total_minutes\": 138.75}, {\"year\": 1971, \"winner\": \"Sara Mae Berman\", \"gender\": \"Female\", \"country\": \"United States\", \"time\": \"03:08:30\", \"marathon\": \"Boston\", \"total_minutes\": 188.5}, {\"year\": 1970, \"winner\": \"Ron Hill\", \"gender\": \"Male\", \"country\": \"United Kingdom\", \"time\": \"02:10:30\", \"marathon\": \"Boston\", \"total_minutes\": 130.5}, {\"year\": 1970, \"winner\": \"Sara Mae Berman\", \"gender\": \"Female\", \"country\": \"United States\", \"time\": \"03:05:07\", \"marathon\": \"Boston\", \"total_minutes\": 185.11666666666667}, {\"year\": 1969, \"winner\": \"Yoshiaki Unetani\", \"gender\": \"Male\", \"country\": \"Japan\", \"time\": \"02:13:49\", \"marathon\": \"Boston\", \"total_minutes\": 133.81666666666666}, {\"year\": 1969, \"winner\": \"Sara Mae Berman\", \"gender\": \"Female\", \"country\": \"United States\", \"time\": \"03:22:46\", \"marathon\": \"Boston\", \"total_minutes\": 202.76666666666668}, {\"year\": 1968, \"winner\": \"Amby Burfoot\", \"gender\": \"Male\", \"country\": \"United States\", \"time\": \"02:22:17\", \"marathon\": \"Boston\", \"total_minutes\": 142.28333333333333}, {\"year\": 1968, \"winner\": \"Bobbi Gibb\", \"gender\": \"Female\", \"country\": \"United States\", \"time\": \"03:30:00\", \"marathon\": \"Boston\", \"total_minutes\": 210.0}, {\"year\": 1967, \"winner\": \"Dave McKenzie\", \"gender\": \"Male\", \"country\": \"New Zealand\", \"time\": \"02:15:45\", \"marathon\": \"Boston\", \"total_minutes\": 135.75}, {\"year\": 1967, \"winner\": \"Bobbi Gibb\", \"gender\": \"Female\", \"country\": \"United States\", \"time\": \"03:27:17\", \"marathon\": \"Boston\", \"total_minutes\": 207.28333333333333}, {\"year\": 1966, \"winner\": \"Kenji Kimihara\", \"gender\": \"Male\", \"country\": \"Japan\", \"time\": \"02:17:11\", \"marathon\": \"Boston\", \"total_minutes\": 137.18333333333334}, {\"year\": 1966, \"winner\": \"Bobbi Gibb\", \"gender\": \"Female\", \"country\": \"United States\", \"time\": \"03:21:40\", \"marathon\": \"Boston\", \"total_minutes\": 201.66666666666666}, {\"year\": 1965, \"winner\": \"Morio Shigematsu\", \"gender\": \"Male\", \"country\": \"Japan\", \"time\": \"02:16:33\", \"marathon\": \"Boston\", \"total_minutes\": 136.55}, {\"year\": 1964, \"winner\": \"Aur\\u00e8le Vandendriessche\", \"gender\": \"Male\", \"country\": \"Belgium\", \"time\": \"02:19:59\", \"marathon\": \"Boston\", \"total_minutes\": 139.98333333333332}, {\"year\": 1963, \"winner\": \"Aur\\u00e8le Vandendriessche\", \"gender\": \"Male\", \"country\": \"Belgium\", \"time\": \"02:18:58\", \"marathon\": \"Boston\", \"total_minutes\": 138.96666666666667}, {\"year\": 1962, \"winner\": \"Eino Oksanen\", \"gender\": \"Male\", \"country\": \"Finland\", \"time\": \"02:23:48\", \"marathon\": \"Boston\", \"total_minutes\": 143.8}, {\"year\": 1961, \"winner\": \"Eino Oksanen\", \"gender\": \"Male\", \"country\": \"Finland\", \"time\": \"02:23:39\", \"marathon\": \"Boston\", \"total_minutes\": 143.65}, {\"year\": 1960, \"winner\": \"Paavo Kotila\", \"gender\": \"Male\", \"country\": \"Finland\", \"time\": \"02:20:54\", \"marathon\": \"Boston\", \"total_minutes\": 140.9}, {\"year\": 1959, \"winner\": \"Eino Oksanen\", \"gender\": \"Male\", \"country\": \"Finland\", \"time\": \"02:22:42\", \"marathon\": \"Boston\", \"total_minutes\": 142.7}, {\"year\": 1958, \"winner\": \"Franjo Mihalic\", \"gender\": \"Male\", \"country\": \"Yugoslavia\", \"time\": \"02:25:54\", \"marathon\": \"Boston\", \"total_minutes\": 145.9}, {\"year\": 1957, \"winner\": \"John J. Kelley\", \"gender\": \"Male\", \"country\": \"United States\", \"time\": \"02:20:05\", \"marathon\": \"Boston\", \"total_minutes\": 140.08333333333334}, {\"year\": 1956, \"winner\": \"Antti Viskari\", \"gender\": \"Male\", \"country\": \"Finland\", \"time\": \"02:14:14\", \"marathon\": \"Boston\", \"total_minutes\": 134.23333333333332}, {\"year\": 1955, \"winner\": \"Hideo Hamamura\", \"gender\": \"Male\", \"country\": \"Japan\", \"time\": \"02:18:22\", \"marathon\": \"Boston\", \"total_minutes\": 138.36666666666667}, {\"year\": 1954, \"winner\": \"Veikko Karvonen\", \"gender\": \"Male\", \"country\": \"Finland\", \"time\": \"02:20:39\", \"marathon\": \"Boston\", \"total_minutes\": 140.65}, {\"year\": 1953, \"winner\": \"Keizo Yamada\", \"gender\": \"Male\", \"country\": \"Japan\", \"time\": \"02:18:51\", \"marathon\": \"Boston\", \"total_minutes\": 138.85}, {\"year\": 1952, \"winner\": \"Doroteo Flores\", \"gender\": \"Male\", \"country\": \"Guatemala\", \"time\": \"02:31:53\", \"marathon\": \"Boston\", \"total_minutes\": 151.88333333333333}, {\"year\": 1951, \"winner\": \"Shigeki Tanaka\", \"gender\": \"Male\", \"country\": \"Japan\", \"time\": \"02:27:45\", \"marathon\": \"Boston\", \"total_minutes\": 147.75}, {\"year\": 1950, \"winner\": \"Ham Kee-Yong\", \"gender\": \"Male\", \"country\": \"South Korea\", \"time\": \"02:32:39\", \"marathon\": \"Boston\", \"total_minutes\": 152.65}, {\"year\": 1949, \"winner\": \"G\\u00f6sta Leandersson\", \"gender\": \"Male\", \"country\": \"Sweden\", \"time\": \"02:31:50\", \"marathon\": \"Boston\", \"total_minutes\": 151.83333333333334}, {\"year\": 1948, \"winner\": \"G\\u00e9rard C\\u00f4t\\u00e9\", \"gender\": \"Male\", \"country\": \"Canada\", \"time\": \"02:31:02\", \"marathon\": \"Boston\", \"total_minutes\": 151.03333333333333}, {\"year\": 1947, \"winner\": \"Suh Yun-bok\", \"gender\": \"Male\", \"country\": \"South Korea\", \"time\": \"02:25:39\", \"marathon\": \"Boston\", \"total_minutes\": 145.65}, {\"year\": 1946, \"winner\": \"Stylianos Kyriakides\", \"gender\": \"Male\", \"country\": \"Greece\", \"time\": \"02:29:27\", \"marathon\": \"Boston\", \"total_minutes\": 149.45}, {\"year\": 1945, \"winner\": \"John A. Kelley\", \"gender\": \"Male\", \"country\": \"United States\", \"time\": \"02:30:40\", \"marathon\": \"Boston\", \"total_minutes\": 150.66666666666666}, {\"year\": 1944, \"winner\": \"G\\u00e9rard C\\u00f4t\\u00e9\", \"gender\": \"Male\", \"country\": \"Canada\", \"time\": \"02:31:50\", \"marathon\": \"Boston\", \"total_minutes\": 151.83333333333334}, {\"year\": 1943, \"winner\": \"G\\u00e9rard C\\u00f4t\\u00e9\", \"gender\": \"Male\", \"country\": \"Canada\", \"time\": \"02:28:25\", \"marathon\": \"Boston\", \"total_minutes\": 148.41666666666666}, {\"year\": 1942, \"winner\": \"Joe Smith\", \"gender\": \"Male\", \"country\": \"United States\", \"time\": \"02:26:51\", \"marathon\": \"Boston\", \"total_minutes\": 146.85}, {\"year\": 1941, \"winner\": \"Leslie S. Pawson\", \"gender\": \"Male\", \"country\": \"United States\", \"time\": \"02:30:38\", \"marathon\": \"Boston\", \"total_minutes\": 150.63333333333333}, {\"year\": 1940, \"winner\": \"G\\u00e9rard C\\u00f4t\\u00e9\", \"gender\": \"Male\", \"country\": \"Canada\", \"time\": \"02:28:28\", \"marathon\": \"Boston\", \"total_minutes\": 148.46666666666667}, {\"year\": 1939, \"winner\": \"Ellison Brown\", \"gender\": \"Male\", \"country\": \"United States\", \"time\": \"02:28:51\", \"marathon\": \"Boston\", \"total_minutes\": 148.85}, {\"year\": 1938, \"winner\": \"Leslie S. Pawson\", \"gender\": \"Male\", \"country\": \"United States\", \"time\": \"02:35:34\", \"marathon\": \"Boston\", \"total_minutes\": 155.56666666666666}, {\"year\": 1937, \"winner\": \"Walter Young\", \"gender\": \"Male\", \"country\": \"Canada\", \"time\": \"02:33:20\", \"marathon\": \"Boston\", \"total_minutes\": 153.33333333333334}, {\"year\": 1936, \"winner\": \"Ellison Brown\", \"gender\": \"Male\", \"country\": \"United States\", \"time\": \"02:33:40\", \"marathon\": \"Boston\", \"total_minutes\": 153.66666666666666}, {\"year\": 1935, \"winner\": \"John A. Kelley\", \"gender\": \"Male\", \"country\": \"United States\", \"time\": \"02:32:07\", \"marathon\": \"Boston\", \"total_minutes\": 152.11666666666667}, {\"year\": 1934, \"winner\": \"Dave Komonen\", \"gender\": \"Male\", \"country\": \"Canada\", \"time\": \"02:32:53\", \"marathon\": \"Boston\", \"total_minutes\": 152.88333333333333}, {\"year\": 1933, \"winner\": \"Leslie S. Pawson\", \"gender\": \"Male\", \"country\": \"United States\", \"time\": \"02:31:01\", \"marathon\": \"Boston\", \"total_minutes\": 151.01666666666668}, {\"year\": 1932, \"winner\": \"Paul de Bruyn\", \"gender\": \"Male\", \"country\": \"Germany\", \"time\": \"02:33:36\", \"marathon\": \"Boston\", \"total_minutes\": 153.6}, {\"year\": 1931, \"winner\": \"James Henigan\", \"gender\": \"Male\", \"country\": \"United States\", \"time\": \"02:46:45\", \"marathon\": \"Boston\", \"total_minutes\": 166.75}, {\"year\": 1930, \"winner\": \"Clarence DeMar\", \"gender\": \"Male\", \"country\": \"United States\", \"time\": \"02:34:48\", \"marathon\": \"Boston\", \"total_minutes\": 154.8}, {\"year\": 1929, \"winner\": \"Johnny Miles\", \"gender\": \"Male\", \"country\": \"Canada\", \"time\": \"02:33:08\", \"marathon\": \"Boston\", \"total_minutes\": 153.13333333333333}, {\"year\": 1928, \"winner\": \"Clarence DeMar\", \"gender\": \"Male\", \"country\": \"United States\", \"time\": \"02:37:07\", \"marathon\": \"Boston\", \"total_minutes\": 157.11666666666667}, {\"year\": 1927, \"winner\": \"Clarence DeMar\", \"gender\": \"Male\", \"country\": \"United States\", \"time\": \"02:40:22\", \"marathon\": \"Boston\", \"total_minutes\": 160.36666666666667}, {\"year\": 1926, \"winner\": \"Johnny Miles\", \"gender\": \"Male\", \"country\": \"Canada\", \"time\": \"02:25:40\", \"marathon\": \"Boston\", \"total_minutes\": 145.66666666666666}, {\"year\": 1925, \"winner\": \"Charles Mellor\", \"gender\": \"Male\", \"country\": \"United States\", \"time\": \"02:33:00\", \"marathon\": \"Boston\", \"total_minutes\": 153.0}, {\"year\": 1924, \"winner\": \"Clarence DeMar\", \"gender\": \"Male\", \"country\": \"United States\", \"time\": \"02:29:40\", \"marathon\": \"Boston\", \"total_minutes\": 149.66666666666666}, {\"year\": 1923, \"winner\": \"Clarence DeMar\", \"gender\": \"Male\", \"country\": \"United States\", \"time\": \"02:23:47\", \"marathon\": \"Boston\", \"total_minutes\": 143.78333333333333}, {\"year\": 1922, \"winner\": \"Clarence DeMar\", \"gender\": \"Male\", \"country\": \"United States\", \"time\": \"02:18:10\", \"marathon\": \"Boston\", \"total_minutes\": 138.16666666666666}, {\"year\": 1921, \"winner\": \"Frank Zuna\", \"gender\": \"Male\", \"country\": \"United States\", \"time\": \"02:18:57\", \"marathon\": \"Boston\", \"total_minutes\": 138.95}, {\"year\": 1920, \"winner\": \"Peter Trivoulides\", \"gender\": \"Male\", \"country\": \"Greece\", \"time\": \"02:29:31\", \"marathon\": \"Boston\", \"total_minutes\": 149.51666666666668}, {\"year\": 1919, \"winner\": \"Carl Linder\", \"gender\": \"Male\", \"country\": \"United States\", \"time\": \"02:29:13\", \"marathon\": \"Boston\", \"total_minutes\": 149.21666666666667}, {\"year\": 1917, \"winner\": \"Bill Kennedy\", \"gender\": \"Male\", \"country\": \"United States\", \"time\": \"02:28:37\", \"marathon\": \"Boston\", \"total_minutes\": 148.61666666666667}, {\"year\": 1916, \"winner\": \"Arthur Roth\", \"gender\": \"Male\", \"country\": \"United States\", \"time\": \"02:27:16\", \"marathon\": \"Boston\", \"total_minutes\": 147.26666666666668}, {\"year\": 1915, \"winner\": \"\\u00c9douard Fabre\", \"gender\": \"Male\", \"country\": \"Canada\", \"time\": \"02:31:41\", \"marathon\": \"Boston\", \"total_minutes\": 151.68333333333334}, {\"year\": 1914, \"winner\": \"James Duffy\", \"gender\": \"Male\", \"country\": \"Canada\", \"time\": \"02:25:14\", \"marathon\": \"Boston\", \"total_minutes\": 145.23333333333332}, {\"year\": 1913, \"winner\": \"Fritz Carlson\", \"gender\": \"Male\", \"country\": \"United States\", \"time\": \"02:25:14\", \"marathon\": \"Boston\", \"total_minutes\": 145.23333333333332}, {\"year\": 1912, \"winner\": \"Michael J. Ryan\", \"gender\": \"Male\", \"country\": \"United States\", \"time\": \"02:21:18\", \"marathon\": \"Boston\", \"total_minutes\": 141.3}, {\"year\": 1911, \"winner\": \"Clarence DeMar\", \"gender\": \"Male\", \"country\": \"United States\", \"time\": \"02:21:39\", \"marathon\": \"Boston\", \"total_minutes\": 141.65}, {\"year\": 1910, \"winner\": \"Fred Cameron\", \"gender\": \"Male\", \"country\": \"Canada\", \"time\": \"02:28:52\", \"marathon\": \"Boston\", \"total_minutes\": 148.86666666666667}, {\"year\": 1909, \"winner\": \"Henri Renaud\", \"gender\": \"Male\", \"country\": \"United States\", \"time\": \"02:53:36\", \"marathon\": \"Boston\", \"total_minutes\": 173.6}, {\"year\": 1908, \"winner\": \"Thomas Morrissey\", \"gender\": \"Male\", \"country\": \"United States\", \"time\": \"02:25:43\", \"marathon\": \"Boston\", \"total_minutes\": 145.71666666666667}, {\"year\": 1907, \"winner\": \"Thomas Longboat\", \"gender\": \"Male\", \"country\": \"Canada\", \"time\": \"02:24:24\", \"marathon\": \"Boston\", \"total_minutes\": 144.4}, {\"year\": 1906, \"winner\": \"Tim Ford\", \"gender\": \"Male\", \"country\": \"United States\", \"time\": \"02:45:45\", \"marathon\": \"Boston\", \"total_minutes\": 165.75}, {\"year\": 1905, \"winner\": \"Frederick Lorz\", \"gender\": \"Male\", \"country\": \"United States\", \"time\": \"02:38:25\", \"marathon\": \"Boston\", \"total_minutes\": 158.41666666666666}, {\"year\": 1904, \"winner\": \"Michael Spring\", \"gender\": \"Male\", \"country\": \"United States\", \"time\": \"02:38:04\", \"marathon\": \"Boston\", \"total_minutes\": 158.06666666666666}, {\"year\": 1903, \"winner\": \"John Lorden\", \"gender\": \"Male\", \"country\": \"United States\", \"time\": \"02:41:29\", \"marathon\": \"Boston\", \"total_minutes\": 161.48333333333332}, {\"year\": 1902, \"winner\": \"Sammy Mellor\", \"gender\": \"Male\", \"country\": \"United States\", \"time\": \"02:43:12\", \"marathon\": \"Boston\", \"total_minutes\": 163.2}, {\"year\": 1901, \"winner\": \"Jack Caffery\", \"gender\": \"Male\", \"country\": \"Canada\", \"time\": \"02:29:23\", \"marathon\": \"Boston\", \"total_minutes\": 149.38333333333333}, {\"year\": 1900, \"winner\": \"Jack Caffery\", \"gender\": \"Male\", \"country\": \"Canada\", \"time\": \"02:39:44\", \"marathon\": \"Boston\", \"total_minutes\": 159.73333333333332}, {\"year\": 1899, \"winner\": \"Lawrence Brignolia\", \"gender\": \"Male\", \"country\": \"United States\", \"time\": \"02:54:38\", \"marathon\": \"Boston\", \"total_minutes\": 174.63333333333333}, {\"year\": 1898, \"winner\": \"Ronald J. MacDonald\", \"gender\": \"Male\", \"country\": \"Canada\", \"time\": \"02:42:00\", \"marathon\": \"Boston\", \"total_minutes\": 162.0}, {\"year\": 1897, \"winner\": \"John J. McDermott\", \"gender\": \"Male\", \"country\": \"United States\", \"time\": \"02:55:10\", \"marathon\": \"Boston\", \"total_minutes\": 175.16666666666666}, {\"year\": 2017, \"winner\": \"Geoffrey Kamworor\", \"gender\": \"Male\", \"country\": \"Kenya\", \"time\": \"02:10:53\", \"marathon\": \"NYC\", \"total_minutes\": 130.88333333333333}, {\"year\": 2017, \"winner\": \"Shalane Flanagan\", \"gender\": \"Female\", \"country\": \"United States\", \"time\": \"02:26:53\", \"marathon\": \"NYC\", \"total_minutes\": 146.88333333333333}, {\"year\": 2016, \"winner\": \"Ghirmay Ghebreslassie\", \"gender\": \"Male\", \"country\": \"Eritrea\", \"time\": \"02:07:51\", \"marathon\": \"NYC\", \"total_minutes\": 127.85}, {\"year\": 2016, \"winner\": \"Mary Keitany\", \"gender\": \"Female\", \"country\": \"Kenya\", \"time\": \"02:24:26\", \"marathon\": \"NYC\", \"total_minutes\": 144.43333333333334}, {\"year\": 2015, \"winner\": \"Stanley Biwott\", \"gender\": \"Male\", \"country\": \"Kenya\", \"time\": \"02:10:34\", \"marathon\": \"NYC\", \"total_minutes\": 130.56666666666666}, {\"year\": 2015, \"winner\": \"Mary Keitany\", \"gender\": \"Female\", \"country\": \"Kenya\", \"time\": \"02:24:25\", \"marathon\": \"NYC\", \"total_minutes\": 144.41666666666666}, {\"year\": 2014, \"winner\": \"Wilson Kipsang\", \"gender\": \"Male\", \"country\": \"Kenya\", \"time\": \"02:10:59\", \"marathon\": \"NYC\", \"total_minutes\": 130.98333333333332}, {\"year\": 2014, \"winner\": \"Mary Keitany\", \"gender\": \"Female\", \"country\": \"Kenya\", \"time\": \"02:25:07\", \"marathon\": \"NYC\", \"total_minutes\": 145.11666666666667}, {\"year\": 2013, \"winner\": \"Geoffrey Mutai\", \"gender\": \"Male\", \"country\": \"Kenya\", \"time\": \"02:08:24\", \"marathon\": \"NYC\", \"total_minutes\": 128.4}, {\"year\": 2013, \"winner\": \"Priscah Jeptoo\", \"gender\": \"Female\", \"country\": \"Kenya\", \"time\": \"02:25:07\", \"marathon\": \"NYC\", \"total_minutes\": 145.11666666666667}, {\"year\": 2011, \"winner\": \"Geoffrey Mutai\", \"gender\": \"Male\", \"country\": \"Kenya\", \"time\": \"02:05:06\", \"marathon\": \"NYC\", \"total_minutes\": 125.1}, {\"year\": 2011, \"winner\": \"Firehiwot Dado\", \"gender\": \"Female\", \"country\": \"Ethiopia\", \"time\": \"02:23:15\", \"marathon\": \"NYC\", \"total_minutes\": 143.25}, {\"year\": 2010, \"winner\": \"Gebregziabher Gebremariam\", \"gender\": \"Male\", \"country\": \"Ethiopia\", \"time\": \"02:08:14\", \"marathon\": \"NYC\", \"total_minutes\": 128.23333333333332}, {\"year\": 2010, \"winner\": \"Edna Kiplagat\", \"gender\": \"Female\", \"country\": \"Kenya\", \"time\": \"02:28:20\", \"marathon\": \"NYC\", \"total_minutes\": 148.33333333333334}, {\"year\": 2009, \"winner\": \"Meb Keflezighi\", \"gender\": \"Male\", \"country\": \"United States\", \"time\": \"02:09:15\", \"marathon\": \"NYC\", \"total_minutes\": 129.25}, {\"year\": 2009, \"winner\": \"Derartu Tulu\", \"gender\": \"Female\", \"country\": \"Ethiopia\", \"time\": \"02:28:52\", \"marathon\": \"NYC\", \"total_minutes\": 148.86666666666667}, {\"year\": 2008, \"winner\": \"Mar\\u00edlson Gomes dos Santos\", \"gender\": \"Male\", \"country\": \"Brazil\", \"time\": \"02:08:43\", \"marathon\": \"NYC\", \"total_minutes\": 128.71666666666667}, {\"year\": 2008, \"winner\": \"Paula Radcliffe\", \"gender\": \"Female\", \"country\": \"United Kingdom\", \"time\": \"02:23:56\", \"marathon\": \"NYC\", \"total_minutes\": 143.93333333333334}, {\"year\": 2007, \"winner\": \"Martin Lel\", \"gender\": \"Male\", \"country\": \"Kenya\", \"time\": \"02:09:04\", \"marathon\": \"NYC\", \"total_minutes\": 129.06666666666666}, {\"year\": 2007, \"winner\": \"Paula Radcliffe\", \"gender\": \"Female\", \"country\": \"United Kingdom\", \"time\": \"02:23:09\", \"marathon\": \"NYC\", \"total_minutes\": 143.15}, {\"year\": 2006, \"winner\": \"Mar\\u00edlson Gomes dos Santos\", \"gender\": \"Male\", \"country\": \"Brazil\", \"time\": \"02:09:58\", \"marathon\": \"NYC\", \"total_minutes\": 129.96666666666667}, {\"year\": 2006, \"winner\": \"Jelena Prokopcuka\", \"gender\": \"Female\", \"country\": \"Latvia\", \"time\": \"02:25:05\", \"marathon\": \"NYC\", \"total_minutes\": 145.08333333333334}, {\"year\": 2005, \"winner\": \"Paul Tergat\", \"gender\": \"Male\", \"country\": \"Kenya\", \"time\": \"02:09:30\", \"marathon\": \"NYC\", \"total_minutes\": 129.5}, {\"year\": 2005, \"winner\": \"Jelena Prokopcuka\", \"gender\": \"Female\", \"country\": \"Latvia\", \"time\": \"02:24:41\", \"marathon\": \"NYC\", \"total_minutes\": 144.68333333333334}, {\"year\": 2004, \"winner\": \"Hendrick Ramaala\", \"gender\": \"Male\", \"country\": \"South Africa\", \"time\": \"02:09:28\", \"marathon\": \"NYC\", \"total_minutes\": 129.46666666666667}, {\"year\": 2004, \"winner\": \"Paula Radcliffe\", \"gender\": \"Female\", \"country\": \"United Kingdom\", \"time\": \"02:23:10\", \"marathon\": \"NYC\", \"total_minutes\": 143.16666666666666}, {\"year\": 2003, \"winner\": \"Martin Lel\", \"gender\": \"Male\", \"country\": \"Kenya\", \"time\": \"02:10:30\", \"marathon\": \"NYC\", \"total_minutes\": 130.5}, {\"year\": 2003, \"winner\": \"Margaret Okayo\", \"gender\": \"Female\", \"country\": \"Kenya\", \"time\": \"02:22:31\", \"marathon\": \"NYC\", \"total_minutes\": 142.51666666666668}, {\"year\": 2002, \"winner\": \"Rodgers Rop\", \"gender\": \"Male\", \"country\": \"Kenya\", \"time\": \"02:08:07\", \"marathon\": \"NYC\", \"total_minutes\": 128.11666666666667}, {\"year\": 2002, \"winner\": \"Joyce Chepchumba\", \"gender\": \"Female\", \"country\": \"Kenya\", \"time\": \"02:25:56\", \"marathon\": \"NYC\", \"total_minutes\": 145.93333333333334}, {\"year\": 2001, \"winner\": \"Tesfaye Jifar\", \"gender\": \"Male\", \"country\": \"Ethiopia\", \"time\": \"02:07:43\", \"marathon\": \"NYC\", \"total_minutes\": 127.71666666666667}, {\"year\": 2001, \"winner\": \"Margaret Okayo\", \"gender\": \"Female\", \"country\": \"Kenya\", \"time\": \"02:24:21\", \"marathon\": \"NYC\", \"total_minutes\": 144.35}, {\"year\": 2000, \"winner\": \"Abdelkader El Mouaziz\", \"gender\": \"Male\", \"country\": \"Morocco\", \"time\": \"02:10:09\", \"marathon\": \"NYC\", \"total_minutes\": 130.15}, {\"year\": 2000, \"winner\": \"Lyudmila Petrova\", \"gender\": \"Female\", \"country\": \"Russia\", \"time\": \"02:25:45\", \"marathon\": \"NYC\", \"total_minutes\": 145.75}, {\"year\": 1999, \"winner\": \"Joseph Chebet\", \"gender\": \"Male\", \"country\": \"Kenya\", \"time\": \"02:09:14\", \"marathon\": \"NYC\", \"total_minutes\": 129.23333333333332}, {\"year\": 1999, \"winner\": \"Adriana Fernandez\", \"gender\": \"Female\", \"country\": \"Mexico\", \"time\": \"02:25:06\", \"marathon\": \"NYC\", \"total_minutes\": 145.1}, {\"year\": 1998, \"winner\": \"John Kagwe\", \"gender\": \"Male\", \"country\": \"Kenya\", \"time\": \"02:08:45\", \"marathon\": \"NYC\", \"total_minutes\": 128.75}, {\"year\": 1998, \"winner\": \"Franca Fiacconi\", \"gender\": \"Female\", \"country\": \"Italy\", \"time\": \"02:25:17\", \"marathon\": \"NYC\", \"total_minutes\": 145.28333333333333}, {\"year\": 1997, \"winner\": \"John Kagwe\", \"gender\": \"Male\", \"country\": \"Kenya\", \"time\": \"02:08:12\", \"marathon\": \"NYC\", \"total_minutes\": 128.2}, {\"year\": 1997, \"winner\": \"Franziska Rochat-Moser\", \"gender\": \"Female\", \"country\": \"Switzerland\", \"time\": \"02:28:43\", \"marathon\": \"NYC\", \"total_minutes\": 148.71666666666667}, {\"year\": 1996, \"winner\": \"Giacomo Leone\", \"gender\": \"Male\", \"country\": \"Italy\", \"time\": \"02:09:54\", \"marathon\": \"NYC\", \"total_minutes\": 129.9}, {\"year\": 1996, \"winner\": \"Anuta Catuna\", \"gender\": \"Female\", \"country\": \"Romania\", \"time\": \"02:28:18\", \"marathon\": \"NYC\", \"total_minutes\": 148.3}, {\"year\": 1995, \"winner\": \"Germ\\u00e1n Silva\", \"gender\": \"Male\", \"country\": \"Mexico\", \"time\": \"02:11:00\", \"marathon\": \"NYC\", \"total_minutes\": 131.0}, {\"year\": 1995, \"winner\": \"Tegla Loroupe\", \"gender\": \"Female\", \"country\": \"Kenya\", \"time\": \"02:28:06\", \"marathon\": \"NYC\", \"total_minutes\": 148.1}, {\"year\": 1994, \"winner\": \"Germ\\u00e1n Silva\", \"gender\": \"Male\", \"country\": \"Mexico\", \"time\": \"02:11:21\", \"marathon\": \"NYC\", \"total_minutes\": 131.35}, {\"year\": 1994, \"winner\": \"Tegla Loroupe\", \"gender\": \"Female\", \"country\": \"Kenya\", \"time\": \"02:27:37\", \"marathon\": \"NYC\", \"total_minutes\": 147.61666666666667}, {\"year\": 1993, \"winner\": \"Andr\\u00e9s Espinosa\", \"gender\": \"Male\", \"country\": \"Mexico\", \"time\": \"02:10:04\", \"marathon\": \"NYC\", \"total_minutes\": 130.06666666666666}, {\"year\": 1993, \"winner\": \"Uta Pippig\", \"gender\": \"Female\", \"country\": \"Germany\", \"time\": \"02:26:24\", \"marathon\": \"NYC\", \"total_minutes\": 146.4}, {\"year\": 1992, \"winner\": \"Willie Mtolo\", \"gender\": \"Male\", \"country\": \"South Africa\", \"time\": \"02:09:29\", \"marathon\": \"NYC\", \"total_minutes\": 129.48333333333332}, {\"year\": 1992, \"winner\": \"Lisa Ondieki\", \"gender\": \"Female\", \"country\": \"Australia\", \"time\": \"02:24:40\", \"marathon\": \"NYC\", \"total_minutes\": 144.66666666666666}, {\"year\": 1991, \"winner\": \"Salvador Garc\\u00eda\", \"gender\": \"Male\", \"country\": \"Mexico\", \"time\": \"02:09:28\", \"marathon\": \"NYC\", \"total_minutes\": 129.46666666666667}, {\"year\": 1991, \"winner\": \"Liz McColgan\", \"gender\": \"Female\", \"country\": \"United Kingdom\", \"time\": \"02:27:32\", \"marathon\": \"NYC\", \"total_minutes\": 147.53333333333333}, {\"year\": 1990, \"winner\": \"Douglas Wakiihuri\", \"gender\": \"Male\", \"country\": \"Kenya\", \"time\": \"02:12:39\", \"marathon\": \"NYC\", \"total_minutes\": 132.65}, {\"year\": 1990, \"winner\": \"Wanda Panfil\", \"gender\": \"Female\", \"country\": \"Poland\", \"time\": \"02:30:45\", \"marathon\": \"NYC\", \"total_minutes\": 150.75}, {\"year\": 1989, \"winner\": \"Juma Ikangaa\", \"gender\": \"Male\", \"country\": \"Tanzania\", \"time\": \"02:08:01\", \"marathon\": \"NYC\", \"total_minutes\": 128.01666666666668}, {\"year\": 1989, \"winner\": \"Ingrid Kristiansen\", \"gender\": \"Female\", \"country\": \"Norway\", \"time\": \"02:25:30\", \"marathon\": \"NYC\", \"total_minutes\": 145.5}, {\"year\": 1988, \"winner\": \"Steve Jones\", \"gender\": \"Male\", \"country\": \"United Kingdom\", \"time\": \"02:08:20\", \"marathon\": \"NYC\", \"total_minutes\": 128.33333333333334}, {\"year\": 1988, \"winner\": \"Grete Waitz\", \"gender\": \"Female\", \"country\": \"Norway\", \"time\": \"02:28:07\", \"marathon\": \"NYC\", \"total_minutes\": 148.11666666666667}, {\"year\": 1987, \"winner\": \"Ibrahim Hussein\", \"gender\": \"Male\", \"country\": \"Kenya\", \"time\": \"02:11:01\", \"marathon\": \"NYC\", \"total_minutes\": 131.01666666666668}, {\"year\": 1987, \"winner\": \"Priscilla Welch\", \"gender\": \"Female\", \"country\": \"United Kingdom\", \"time\": \"02:30:17\", \"marathon\": \"NYC\", \"total_minutes\": 150.28333333333333}, {\"year\": 1986, \"winner\": \"Gianni Poli\", \"gender\": \"Male\", \"country\": \"Italy\", \"time\": \"02:11:06\", \"marathon\": \"NYC\", \"total_minutes\": 131.1}, {\"year\": 1986, \"winner\": \"Grete Waitz\", \"gender\": \"Female\", \"country\": \"Norway\", \"time\": \"02:28:06\", \"marathon\": \"NYC\", \"total_minutes\": 148.1}, {\"year\": 1985, \"winner\": \"Orlando Pizzolato\", \"gender\": \"Male\", \"country\": \"Italy\", \"time\": \"02:11:34\", \"marathon\": \"NYC\", \"total_minutes\": 131.56666666666666}, {\"year\": 1985, \"winner\": \"Grete Waitz\", \"gender\": \"Female\", \"country\": \"Norway\", \"time\": \"02:28:34\", \"marathon\": \"NYC\", \"total_minutes\": 148.56666666666666}, {\"year\": 1984, \"winner\": \"Orlando Pizzolato\", \"gender\": \"Male\", \"country\": \"Italy\", \"time\": \"02:14:53\", \"marathon\": \"NYC\", \"total_minutes\": 134.88333333333333}, {\"year\": 1984, \"winner\": \"Grete Waitz\", \"gender\": \"Female\", \"country\": \"Norway\", \"time\": \"02:29:30\", \"marathon\": \"NYC\", \"total_minutes\": 149.5}, {\"year\": 1983, \"winner\": \"Rod Dixon\", \"gender\": \"Male\", \"country\": \"New Zealand\", \"time\": \"02:08:59\", \"marathon\": \"NYC\", \"total_minutes\": 128.98333333333332}, {\"year\": 1983, \"winner\": \"Grete Waitz\", \"gender\": \"Female\", \"country\": \"Norway\", \"time\": \"02:27:00\", \"marathon\": \"NYC\", \"total_minutes\": 147.0}, {\"year\": 1982, \"winner\": \"Alberto Salazar\", \"gender\": \"Male\", \"country\": \"United States\", \"time\": \"02:09:29\", \"marathon\": \"NYC\", \"total_minutes\": 129.48333333333332}, {\"year\": 1982, \"winner\": \"Grete Waitz\", \"gender\": \"Female\", \"country\": \"Norway\", \"time\": \"02:27:14\", \"marathon\": \"NYC\", \"total_minutes\": 147.23333333333332}, {\"year\": 1981, \"winner\": \"Alberto Salazar\", \"gender\": \"Male\", \"country\": \"United States\", \"time\": \"02:08:13\", \"marathon\": \"NYC\", \"total_minutes\": 128.21666666666667}, {\"year\": 1981, \"winner\": \"Allison Roe\", \"gender\": \"Female\", \"country\": \"New Zealand\", \"time\": \"02:25:29\", \"marathon\": \"NYC\", \"total_minutes\": 145.48333333333332}, {\"year\": 1980, \"winner\": \"Alberto Salazar\", \"gender\": \"Male\", \"country\": \"United States\", \"time\": \"02:09:41\", \"marathon\": \"NYC\", \"total_minutes\": 129.68333333333334}, {\"year\": 1980, \"winner\": \"Grete Waitz\", \"gender\": \"Female\", \"country\": \"Norway\", \"time\": \"02:25:42\", \"marathon\": \"NYC\", \"total_minutes\": 145.7}, {\"year\": 1979, \"winner\": \"Bill Rodgers\", \"gender\": \"Male\", \"country\": \"United States\", \"time\": \"02:11:42\", \"marathon\": \"NYC\", \"total_minutes\": 131.7}, {\"year\": 1979, \"winner\": \"Grete Waitz\", \"gender\": \"Female\", \"country\": \"Norway\", \"time\": \"02:27:33\", \"marathon\": \"NYC\", \"total_minutes\": 147.55}, {\"year\": 1978, \"winner\": \"Bill Rodgers\", \"gender\": \"Male\", \"country\": \"United States\", \"time\": \"02:12:12\", \"marathon\": \"NYC\", \"total_minutes\": 132.2}, {\"year\": 1978, \"winner\": \"Grete Waitz\", \"gender\": \"Female\", \"country\": \"Norway\", \"time\": \"02:32:30\", \"marathon\": \"NYC\", \"total_minutes\": 152.5}, {\"year\": 1977, \"winner\": \"Bill Rodgers\", \"gender\": \"Male\", \"country\": \"United States\", \"time\": \"02:11:28\", \"marathon\": \"NYC\", \"total_minutes\": 131.46666666666667}, {\"year\": 1977, \"winner\": \"Miki Gorman\", \"gender\": \"Female\", \"country\": \"United States\", \"time\": \"02:43:10\", \"marathon\": \"NYC\", \"total_minutes\": 163.16666666666666}, {\"year\": 1976, \"winner\": \"Bill Rodgers\", \"gender\": \"Male\", \"country\": \"United States\", \"time\": \"02:10:10\", \"marathon\": \"NYC\", \"total_minutes\": 130.16666666666666}, {\"year\": 1976, \"winner\": \"Miki Gorman\", \"gender\": \"Female\", \"country\": \"United States\", \"time\": \"02:39:11\", \"marathon\": \"NYC\", \"total_minutes\": 159.18333333333334}, {\"year\": 1975, \"winner\": \"Tom Fleming\", \"gender\": \"Male\", \"country\": \"United States\", \"time\": \"02:19:27\", \"marathon\": \"NYC\", \"total_minutes\": 139.45}, {\"year\": 1975, \"winner\": \"Kim Merritt\", \"gender\": \"Female\", \"country\": \"United States\", \"time\": \"02:46:14\", \"marathon\": \"NYC\", \"total_minutes\": 166.23333333333332}, {\"year\": 1974, \"winner\": \"Norbert Sander\", \"gender\": \"Male\", \"country\": \"United States\", \"time\": \"02:26:30\", \"marathon\": \"NYC\", \"total_minutes\": 146.5}, {\"year\": 1974, \"winner\": \"Kathrine Switzer\", \"gender\": \"Female\", \"country\": \"United States\", \"time\": \"03:07:29\", \"marathon\": \"NYC\", \"total_minutes\": 187.48333333333332}, {\"year\": 1973, \"winner\": \"Tom Fleming\", \"gender\": \"Male\", \"country\": \"United States\", \"time\": \"02:21:54\", \"marathon\": \"NYC\", \"total_minutes\": 141.9}, {\"year\": 1973, \"winner\": \"Nina Kuscsik\", \"gender\": \"Female\", \"country\": \"United States\", \"time\": \"02:57:07\", \"marathon\": \"NYC\", \"total_minutes\": 177.11666666666667}, {\"year\": 1972, \"winner\": \"Sheldon Karlin\", \"gender\": \"Male\", \"country\": \"United States\", \"time\": \"02:27:52\", \"marathon\": \"NYC\", \"total_minutes\": 147.86666666666667}, {\"year\": 1972, \"winner\": \"Nina Kuscsik\", \"gender\": \"Female\", \"country\": \"United States\", \"time\": \"03:08:41\", \"marathon\": \"NYC\", \"total_minutes\": 188.68333333333334}, {\"year\": 1971, \"winner\": \"Norman Higgins\", \"gender\": \"Male\", \"country\": \"United States\", \"time\": \"02:22:54\", \"marathon\": \"NYC\", \"total_minutes\": 142.9}, {\"year\": 1970, \"winner\": \"Gary Muhrcke\", \"gender\": \"Male\", \"country\": \"United States\", \"time\": \"02:31:38\", \"marathon\": \"NYC\", \"total_minutes\": 151.63333333333333}, {\"year\": 2018, \"winner\": \"Eliud Kipchoge\", \"gender\": \"Male\", \"country\": \"Kenya\", \"time\": \"02:04:17\", \"marathon\": \"London\", \"total_minutes\": 124.28333333333333}, {\"year\": 2017, \"winner\": \"Daniel Wanjiru\", \"gender\": \"Male\", \"country\": \"Kenya\", \"time\": \"02:05:48\", \"marathon\": \"London\", \"total_minutes\": 125.8}, {\"year\": 2017, \"winner\": \"Mary Keitany\", \"gender\": \"Female\", \"country\": \"Kenya\", \"time\": \"02:17:01\", \"marathon\": \"London\", \"total_minutes\": 137.01666666666668}, {\"year\": 2016, \"winner\": \"Eliud Kipchoge\", \"gender\": \"Male\", \"country\": \"Kenya\", \"time\": \"02:03:05\", \"marathon\": \"London\", \"total_minutes\": 123.08333333333333}, {\"year\": 2016, \"winner\": \"Jemima Sumgong\", \"gender\": \"Female\", \"country\": \"Kenya\", \"time\": \"02:22:58\", \"marathon\": \"London\", \"total_minutes\": 142.96666666666667}, {\"year\": 2015, \"winner\": \"Eliud Kipchoge\", \"gender\": \"Male\", \"country\": \"Kenya\", \"time\": \"02:04:42\", \"marathon\": \"London\", \"total_minutes\": 124.7}, {\"year\": 2015, \"winner\": \"Tigist Tufa\", \"gender\": \"Female\", \"country\": \"Ethiopia\", \"time\": \"02:23:21\", \"marathon\": \"London\", \"total_minutes\": 143.35}, {\"year\": 2014, \"winner\": \"Wilson Kipsang\", \"gender\": \"Male\", \"country\": \"Kenya\", \"time\": \"02:04:29\", \"marathon\": \"London\", \"total_minutes\": 124.48333333333333}, {\"year\": 2014, \"winner\": \"Edna Kiplagat\", \"gender\": \"Female\", \"country\": \"Kenya\", \"time\": \"02:20:21\", \"marathon\": \"London\", \"total_minutes\": 140.35}, {\"year\": 2013, \"winner\": \"Tsegaye Kebede\", \"gender\": \"Male\", \"country\": \"Ethiopia\", \"time\": \"02:06:04\", \"marathon\": \"London\", \"total_minutes\": 126.06666666666666}, {\"year\": 2013, \"winner\": \"Priscah Jeptoo\", \"gender\": \"Female\", \"country\": \"Kenya\", \"time\": \"02:20:15\", \"marathon\": \"London\", \"total_minutes\": 140.25}, {\"year\": 2012, \"winner\": \"Wilson Kipsang\", \"gender\": \"Male\", \"country\": \"Kenya\", \"time\": \"02:04:44\", \"marathon\": \"London\", \"total_minutes\": 124.73333333333333}, {\"year\": 2012, \"winner\": \"Mary Keitany\", \"gender\": \"Female\", \"country\": \"Kenya\", \"time\": \"02:18:37\", \"marathon\": \"London\", \"total_minutes\": 138.61666666666667}, {\"year\": 2011, \"winner\": \"Emmanuel Mutai\", \"gender\": \"Male\", \"country\": \"Kenya\", \"time\": \"02:04:40\", \"marathon\": \"London\", \"total_minutes\": 124.66666666666667}, {\"year\": 2011, \"winner\": \"Mary Keitany\", \"gender\": \"Female\", \"country\": \"Kenya\", \"time\": \"02:19:19\", \"marathon\": \"London\", \"total_minutes\": 139.31666666666666}, {\"year\": 2010, \"winner\": \"Tsegaye Kebede\", \"gender\": \"Male\", \"country\": \"Ethiopia\", \"time\": \"02:05:19\", \"marathon\": \"London\", \"total_minutes\": 125.31666666666666}, {\"year\": 2010, \"winner\": \"Aselefech Mergia\", \"gender\": \"Female\", \"country\": \"Ethiopia\", \"time\": \"02:22:38\", \"marathon\": \"London\", \"total_minutes\": 142.63333333333333}, {\"year\": 2009, \"winner\": \"Samuel Wanjiru\", \"gender\": \"Male\", \"country\": \"Kenya\", \"time\": \"02:05:10\", \"marathon\": \"London\", \"total_minutes\": 125.16666666666667}, {\"year\": 2009, \"winner\": \"Irina Mikitenko\", \"gender\": \"Female\", \"country\": \"Germany\", \"time\": \"02:22:11\", \"marathon\": \"London\", \"total_minutes\": 142.18333333333334}, {\"year\": 2008, \"winner\": \"Martin Lel\", \"gender\": \"Male\", \"country\": \"Kenya\", \"time\": \"02:05:15\", \"marathon\": \"London\", \"total_minutes\": 125.25}, {\"year\": 2008, \"winner\": \"Irina Mikitenko\", \"gender\": \"Female\", \"country\": \"Germany\", \"time\": \"02:24:14\", \"marathon\": \"London\", \"total_minutes\": 144.23333333333332}, {\"year\": 2007, \"winner\": \"Martin Lel\", \"gender\": \"Male\", \"country\": \"Kenya\", \"time\": \"02:07:41\", \"marathon\": \"London\", \"total_minutes\": 127.68333333333334}, {\"year\": 2007, \"winner\": \"Zhou Chunxiu\", \"gender\": \"Female\", \"country\": \"China\", \"time\": \"02:20:38\", \"marathon\": \"London\", \"total_minutes\": 140.63333333333333}, {\"year\": 2006, \"winner\": \"Felix Limo\", \"gender\": \"Male\", \"country\": \"Kenya\", \"time\": \"02:06:39\", \"marathon\": \"London\", \"total_minutes\": 126.65}, {\"year\": 2006, \"winner\": \"Deena Kastor\", \"gender\": \"Female\", \"country\": \"United States\", \"time\": \"02:19:35\", \"marathon\": \"London\", \"total_minutes\": 139.58333333333334}, {\"year\": 2005, \"winner\": \"Martin Lel\", \"gender\": \"Male\", \"country\": \"Kenya\", \"time\": \"02:07:35\", \"marathon\": \"London\", \"total_minutes\": 127.58333333333333}, {\"year\": 2005, \"winner\": \"Paula Radcliffe\", \"gender\": \"Female\", \"country\": \"United Kingdom\", \"time\": \"02:17:42\", \"marathon\": \"London\", \"total_minutes\": 137.7}, {\"year\": 2004, \"winner\": \"Evans Rutto\", \"gender\": \"Male\", \"country\": \"Kenya\", \"time\": \"02:06:18\", \"marathon\": \"London\", \"total_minutes\": 126.3}, {\"year\": 2004, \"winner\": \"Margaret Okayo\", \"gender\": \"Female\", \"country\": \"Kenya\", \"time\": \"02:22:35\", \"marathon\": \"London\", \"total_minutes\": 142.58333333333334}, {\"year\": 2003, \"winner\": \"Gezahegne Abera\", \"gender\": \"Male\", \"country\": \"Ethiopia\", \"time\": \"02:07:56\", \"marathon\": \"London\", \"total_minutes\": 127.93333333333334}, {\"year\": 2003, \"winner\": \"Paula Radcliffe\", \"gender\": \"Female\", \"country\": \"United Kingdom\", \"time\": \"02:15:25\", \"marathon\": \"London\", \"total_minutes\": 135.41666666666666}, {\"year\": 2002, \"winner\": \"Khalid Khannouchi\", \"gender\": \"Male\", \"country\": \"United States\", \"time\": \"02:05:38\", \"marathon\": \"London\", \"total_minutes\": 125.63333333333334}, {\"year\": 2002, \"winner\": \"Paula Radcliffe\", \"gender\": \"Female\", \"country\": \"United Kingdom\", \"time\": \"02:18:56\", \"marathon\": \"London\", \"total_minutes\": 138.93333333333334}, {\"year\": 2001, \"winner\": \"Abdelkader El Mouaziz\", \"gender\": \"Male\", \"country\": \"Morocco\", \"time\": \"02:07:09\", \"marathon\": \"London\", \"total_minutes\": 127.15}, {\"year\": 2001, \"winner\": \"Derartu Tulu\", \"gender\": \"Female\", \"country\": \"Ethiopia\", \"time\": \"02:23:57\", \"marathon\": \"London\", \"total_minutes\": 143.95}, {\"year\": 2000, \"winner\": \"Ant\\u00f3nio Pinto\", \"gender\": \"Male\", \"country\": \"Portugal\", \"time\": \"02:06:36\", \"marathon\": \"London\", \"total_minutes\": 126.6}, {\"year\": 2000, \"winner\": \"Tegla Laroupe\", \"gender\": \"Female\", \"country\": \"Kenya\", \"time\": \"02:24:33\", \"marathon\": \"London\", \"total_minutes\": 144.55}, {\"year\": 1999, \"winner\": \"Abdelkader El Mouaziz\", \"gender\": \"Male\", \"country\": \"Morocco\", \"time\": \"02:07:57\", \"marathon\": \"London\", \"total_minutes\": 127.95}, {\"year\": 1999, \"winner\": \"Joyce Chepchumba\", \"gender\": \"Female\", \"country\": \"Kenya\", \"time\": \"02:23:22\", \"marathon\": \"London\", \"total_minutes\": 143.36666666666667}, {\"year\": 1998, \"winner\": \"Abel Ant\\u00f3n\", \"gender\": \"Male\", \"country\": \"Spain\", \"time\": \"02:07:57\", \"marathon\": \"London\", \"total_minutes\": 127.95}, {\"year\": 1998, \"winner\": \"Catherina McKiernan\", \"gender\": \"Female\", \"country\": \"Ireland\", \"time\": \"02:26:26\", \"marathon\": \"London\", \"total_minutes\": 146.43333333333334}, {\"year\": 1997, \"winner\": \"Ant\\u00f3nio Pinto\", \"gender\": \"Male\", \"country\": \"Portugal\", \"time\": \"02:07:55\", \"marathon\": \"London\", \"total_minutes\": 127.91666666666667}, {\"year\": 1997, \"winner\": \"Joyce Chepchumba\", \"gender\": \"Female\", \"country\": \"Kenya\", \"time\": \"02:26:51\", \"marathon\": \"London\", \"total_minutes\": 146.85}, {\"year\": 1996, \"winner\": \"Dionicio Cer\\u00f3n\", \"gender\": \"Male\", \"country\": \"Mexico\", \"time\": \"02:10:00\", \"marathon\": \"London\", \"total_minutes\": 130.0}, {\"year\": 1996, \"winner\": \"Liz McColgan\", \"gender\": \"Female\", \"country\": \"United Kingdom\", \"time\": \"02:27:54\", \"marathon\": \"London\", \"total_minutes\": 147.9}, {\"year\": 1995, \"winner\": \"Dionicio Cer\\u00f3n\", \"gender\": \"Male\", \"country\": \"Mexico\", \"time\": \"02:08:30\", \"marathon\": \"London\", \"total_minutes\": 128.5}, {\"year\": 1995, \"winner\": \"Malgorzata Sobanska\", \"gender\": \"Female\", \"country\": \"Poland\", \"time\": \"02:27:43\", \"marathon\": \"London\", \"total_minutes\": 147.71666666666667}, {\"year\": 1994, \"winner\": \"Dionicio Cer\\u00f3n\", \"gender\": \"Male\", \"country\": \"Mexico\", \"time\": \"02:08:53\", \"marathon\": \"London\", \"total_minutes\": 128.88333333333333}, {\"year\": 1994, \"winner\": \"Katrin D\\u00f6rre-Heinig\", \"gender\": \"Female\", \"country\": \"Germany\", \"time\": \"02:32:34\", \"marathon\": \"London\", \"total_minutes\": 152.56666666666666}, {\"year\": 1993, \"winner\": \"Eamonn Martin\", \"gender\": \"Male\", \"country\": \"United Kingdom\", \"time\": \"02:10:50\", \"marathon\": \"London\", \"total_minutes\": 130.83333333333334}, {\"year\": 1993, \"winner\": \"Katrin D\\u00f6rre-Heinig\", \"gender\": \"Female\", \"country\": \"Germany\", \"time\": \"02:27:09\", \"marathon\": \"London\", \"total_minutes\": 147.15}, {\"year\": 1992, \"winner\": \"Ant\\u00f3nio Pinto\", \"gender\": \"Male\", \"country\": \"Portugal\", \"time\": \"02:10:02\", \"marathon\": \"London\", \"total_minutes\": 130.03333333333333}, {\"year\": 1992, \"winner\": \"Katrin D\\u00f6rre-Heinig\", \"gender\": \"Female\", \"country\": \"Germany\", \"time\": \"02:29:39\", \"marathon\": \"London\", \"total_minutes\": 149.65}, {\"year\": 1991, \"winner\": \"Yakov Tolstikov\", \"gender\": \"Male\", \"country\": \"Soviet Union\", \"time\": \"02:09:17\", \"marathon\": \"London\", \"total_minutes\": 129.28333333333333}, {\"year\": 1991, \"winner\": \"Rosa Mota\", \"gender\": \"Female\", \"country\": \"Portugal\", \"time\": \"02:26:14\", \"marathon\": \"London\", \"total_minutes\": 146.23333333333332}, {\"year\": 1990, \"winner\": \"Allister Hutton\", \"gender\": \"Male\", \"country\": \"United Kingdom\", \"time\": \"02:10:10\", \"marathon\": \"London\", \"total_minutes\": 130.16666666666666}, {\"year\": 1990, \"winner\": \"Wanda Panfil\", \"gender\": \"Female\", \"country\": \"Poland\", \"time\": \"02:26:31\", \"marathon\": \"London\", \"total_minutes\": 146.51666666666668}, {\"year\": 1989, \"winner\": \"Douglas Wakiihuri\", \"gender\": \"Male\", \"country\": \"Kenya\", \"time\": \"02:09:03\", \"marathon\": \"London\", \"total_minutes\": 129.05}, {\"year\": 1989, \"winner\": \"V\\u00e9ronique Marot\", \"gender\": \"Female\", \"country\": \"United Kingdom\", \"time\": \"02:25:56\", \"marathon\": \"London\", \"total_minutes\": 145.93333333333334}, {\"year\": 1988, \"winner\": \"Henrik J\\u00f8rgensen\", \"gender\": \"Male\", \"country\": \"Denmark\", \"time\": \"02:10:20\", \"marathon\": \"London\", \"total_minutes\": 130.33333333333334}, {\"year\": 1988, \"winner\": \"Ingrid Kristiansen\", \"gender\": \"Female\", \"country\": \"Norway\", \"time\": \"02:25:41\", \"marathon\": \"London\", \"total_minutes\": 145.68333333333334}, {\"year\": 1987, \"winner\": \"Hiromi Taniguchi\", \"gender\": \"Male\", \"country\": \"Japan\", \"time\": \"02:09:50\", \"marathon\": \"London\", \"total_minutes\": 129.83333333333334}, {\"year\": 1987, \"winner\": \"Ingrid Kristiansen\", \"gender\": \"Female\", \"country\": \"Norway\", \"time\": \"02:22:48\", \"marathon\": \"London\", \"total_minutes\": 142.8}, {\"year\": 1986, \"winner\": \"Toshihiko Seko\", \"gender\": \"Male\", \"country\": \"Japan\", \"time\": \"02:10:02\", \"marathon\": \"London\", \"total_minutes\": 130.03333333333333}, {\"year\": 1986, \"winner\": \"Grete Waitz\", \"gender\": \"Female\", \"country\": \"Norway\", \"time\": \"02:24:54\", \"marathon\": \"London\", \"total_minutes\": 144.9}, {\"year\": 1985, \"winner\": \"Steve Jones\", \"gender\": \"Male\", \"country\": \"United Kingdom\", \"time\": \"02:08:16\", \"marathon\": \"London\", \"total_minutes\": 128.26666666666668}, {\"year\": 1985, \"winner\": \"Ingrid Kristiansen\", \"gender\": \"Female\", \"country\": \"Norway\", \"time\": \"02:21:06\", \"marathon\": \"London\", \"total_minutes\": 141.1}, {\"year\": 1984, \"winner\": \"Charlie Spedding\", \"gender\": \"Male\", \"country\": \"United Kingdom\", \"time\": \"02:09:57\", \"marathon\": \"London\", \"total_minutes\": 129.95}, {\"year\": 1984, \"winner\": \"Ingrid Kristiansen\", \"gender\": \"Female\", \"country\": \"Norway\", \"time\": \"02:24:26\", \"marathon\": \"London\", \"total_minutes\": 144.43333333333334}, {\"year\": 1983, \"winner\": \"Mike Gratton\", \"gender\": \"Male\", \"country\": \"United Kingdom\", \"time\": \"02:09:43\", \"marathon\": \"London\", \"total_minutes\": 129.71666666666667}, {\"year\": 1983, \"winner\": \"Grete Waitz\", \"gender\": \"Female\", \"country\": \"Norway\", \"time\": \"02:25:29\", \"marathon\": \"London\", \"total_minutes\": 145.48333333333332}, {\"year\": 1982, \"winner\": \"Hugh Jones\", \"gender\": \"Male\", \"country\": \"United Kingdom\", \"time\": \"02:09:24\", \"marathon\": \"London\", \"total_minutes\": 129.4}, {\"year\": 1982, \"winner\": \"Joyce Smith\", \"gender\": \"Female\", \"country\": \"United Kingdom\", \"time\": \"02:29:43\", \"marathon\": \"London\", \"total_minutes\": 149.71666666666667}, {\"year\": 1981, \"winner\": \"Dick Beardsley\", \"gender\": \"Male\", \"country\": \"United States\", \"time\": \"02:11:48\", \"marathon\": \"London\", \"total_minutes\": 131.8}, {\"year\": 1981, \"winner\": \"Inge Simonsen\", \"gender\": \"Male\", \"country\": \"Norway\", \"time\": \"02:11:48\", \"marathon\": \"London\", \"total_minutes\": 131.8}, {\"year\": 1981, \"winner\": \"Joyce Smith\", \"gender\": \"Female\", \"country\": \"United Kingdom\", \"time\": \"02:29:57\", \"marathon\": \"London\", \"total_minutes\": 149.95}, {\"year\": 2017, \"winner\": \"Galen Rupp\", \"gender\": \"Male\", \"country\": \"United States\", \"time\": \"02:09:20\", \"marathon\": \"Chicago\", \"total_minutes\": 129.33333333333334}, {\"year\": 2017, \"winner\": \"Tirunesh Dibaba\", \"gender\": \"Female\", \"country\": \"Ethiopia\", \"time\": \"02:18:31\", \"marathon\": \"Chicago\", \"total_minutes\": 138.51666666666668}, {\"year\": 2016, \"winner\": \"Abel Kirui\", \"gender\": \"Male\", \"country\": \"Kenya\", \"time\": \"02:11:23\", \"marathon\": \"Chicago\", \"total_minutes\": 131.38333333333333}, {\"year\": 2016, \"winner\": \"Florence Kiplagat\", \"gender\": \"Female\", \"country\": \"Kenya\", \"time\": \"02:21:32\", \"marathon\": \"Chicago\", \"total_minutes\": 141.53333333333333}, {\"year\": 2015, \"winner\": \"Dickson Chumba\", \"gender\": \"Male\", \"country\": \"Kenya\", \"time\": \"02:09:25\", \"marathon\": \"Chicago\", \"total_minutes\": 129.41666666666666}, {\"year\": 2015, \"winner\": \"Florence Kiplagat\", \"gender\": \"Female\", \"country\": \"Kenya\", \"time\": \"02:23:33\", \"marathon\": \"Chicago\", \"total_minutes\": 143.55}, {\"year\": 2014, \"winner\": \"Eliud Kipchoge\", \"gender\": \"Male\", \"country\": \"Kenya\", \"time\": \"02:04:11\", \"marathon\": \"Chicago\", \"total_minutes\": 124.18333333333334}, {\"year\": 2014, \"winner\": \"Mare Dibaba\", \"gender\": \"Female\", \"country\": \"Ethiopia\", \"time\": \"02:25:37\", \"marathon\": \"Chicago\", \"total_minutes\": 145.61666666666667}, {\"year\": 2013, \"winner\": \"Dennis Kimetto\", \"gender\": \"Male\", \"country\": \"Kenya\", \"time\": \"02:03:45\", \"marathon\": \"Chicago\", \"total_minutes\": 123.75}, {\"year\": 2013, \"winner\": \"Rita Jeptoo\", \"gender\": \"Female\", \"country\": \"Kenya\", \"time\": \"02:19:57\", \"marathon\": \"Chicago\", \"total_minutes\": 139.95}, {\"year\": 2012, \"winner\": \"Tsegaye Kebede\", \"gender\": \"Male\", \"country\": \"Ethiopia\", \"time\": \"02:04:38\", \"marathon\": \"Chicago\", \"total_minutes\": 124.63333333333334}, {\"year\": 2012, \"winner\": \"Atsede Baysa\", \"gender\": \"Female\", \"country\": \"Ethiopia\", \"time\": \"02:22:03\", \"marathon\": \"Chicago\", \"total_minutes\": 142.05}, {\"year\": 2011, \"winner\": \"Moses Mosop\", \"gender\": \"Male\", \"country\": \"Kenya\", \"time\": \"02:05:37\", \"marathon\": \"Chicago\", \"total_minutes\": 125.61666666666666}, {\"year\": 2011, \"winner\": \"Ejegayehu Dibaba\", \"gender\": \"Female\", \"country\": \"Ethiopia\", \"time\": \"02:22:09\", \"marathon\": \"Chicago\", \"total_minutes\": 142.15}, {\"year\": 2010, \"winner\": \"Samuel Wanjiru\", \"gender\": \"Male\", \"country\": \"Kenya\", \"time\": \"02:06:23\", \"marathon\": \"Chicago\", \"total_minutes\": 126.38333333333334}, {\"year\": 2010, \"winner\": \"Atsede Baysa\", \"gender\": \"Female\", \"country\": \"Ethiopia\", \"time\": \"02:23:40\", \"marathon\": \"Chicago\", \"total_minutes\": 143.66666666666666}, {\"year\": 2009, \"winner\": \"Samuel Wanjiru\", \"gender\": \"Male\", \"country\": \"Kenya\", \"time\": \"02:05:41\", \"marathon\": \"Chicago\", \"total_minutes\": 125.68333333333334}, {\"year\": 2009, \"winner\": \"Irina Mikitenko\", \"gender\": \"Female\", \"country\": \"Germany\", \"time\": \"02:26:31\", \"marathon\": \"Chicago\", \"total_minutes\": 146.51666666666668}, {\"year\": 2008, \"winner\": \"Evans Cheruiyot\", \"gender\": \"Male\", \"country\": \"Kenya\", \"time\": \"02:06:25\", \"marathon\": \"Chicago\", \"total_minutes\": 126.41666666666667}, {\"year\": 2008, \"winner\": \"Lidiya Grigoryeva\", \"gender\": \"Female\", \"country\": \"Russia\", \"time\": \"02:27:17\", \"marathon\": \"Chicago\", \"total_minutes\": 147.28333333333333}, {\"year\": 2007, \"winner\": \"Patrick Ivuti\", \"gender\": \"Male\", \"country\": \"Kenya\", \"time\": \"02:11:11\", \"marathon\": \"Chicago\", \"total_minutes\": 131.18333333333334}, {\"year\": 2007, \"winner\": \"Berhane Adere\", \"gender\": \"Female\", \"country\": \"Ethiopia\", \"time\": \"02:33:49\", \"marathon\": \"Chicago\", \"total_minutes\": 153.81666666666666}, {\"year\": 2006, \"winner\": \"Robert Cheruiyot\", \"gender\": \"Male\", \"country\": \"Kenya\", \"time\": \"02:07:35\", \"marathon\": \"Chicago\", \"total_minutes\": 127.58333333333333}, {\"year\": 2006, \"winner\": \"Berhane Adere\", \"gender\": \"Female\", \"country\": \"Ethiopia\", \"time\": \"02:20:42\", \"marathon\": \"Chicago\", \"total_minutes\": 140.7}, {\"year\": 2005, \"winner\": \"Felix Limo\", \"gender\": \"Male\", \"country\": \"Kenya\", \"time\": \"02:07:02\", \"marathon\": \"Chicago\", \"total_minutes\": 127.03333333333333}, {\"year\": 2005, \"winner\": \"Deena Kastor\", \"gender\": \"Female\", \"country\": \"United States\", \"time\": \"02:21:25\", \"marathon\": \"Chicago\", \"total_minutes\": 141.41666666666666}, {\"year\": 2004, \"winner\": \"Evans Rutto\", \"gender\": \"Male\", \"country\": \"Kenya\", \"time\": \"02:06:16\", \"marathon\": \"Chicago\", \"total_minutes\": 126.26666666666667}, {\"year\": 2004, \"winner\": \"Dita, Constantina\", \"gender\": \"Female\", \"country\": \"Romania\", \"time\": \"02:23:45\", \"marathon\": \"Chicago\", \"total_minutes\": 143.75}, {\"year\": 2003, \"winner\": \"Evans Rutto\", \"gender\": \"Male\", \"country\": \"Kenya\", \"time\": \"02:05:50\", \"marathon\": \"Chicago\", \"total_minutes\": 125.83333333333333}, {\"year\": 2003, \"winner\": \"Svetlana Zakharova\", \"gender\": \"Female\", \"country\": \"Russia\", \"time\": \"02:23:07\", \"marathon\": \"Chicago\", \"total_minutes\": 143.11666666666667}, {\"year\": 2002, \"winner\": \"Khalid Khannouchi\", \"gender\": \"Male\", \"country\": \"United States\", \"time\": \"02:05:56\", \"marathon\": \"Chicago\", \"total_minutes\": 125.93333333333334}, {\"year\": 2002, \"winner\": \"Paula Radcliffe\", \"gender\": \"Female\", \"country\": \"United Kingdom\", \"time\": \"02:17:18\", \"marathon\": \"Chicago\", \"total_minutes\": 137.3}, {\"year\": 2001, \"winner\": \"Ben Kimondiu\", \"gender\": \"Male\", \"country\": \"Kenya\", \"time\": \"02:08:52\", \"marathon\": \"Chicago\", \"total_minutes\": 128.86666666666667}, {\"year\": 2001, \"winner\": \"Catherine Ndereba\", \"gender\": \"Female\", \"country\": \"Kenya\", \"time\": \"02:18:47\", \"marathon\": \"Chicago\", \"total_minutes\": 138.78333333333333}, {\"year\": 2000, \"winner\": \"Khalid Khannouchi\", \"gender\": \"Male\", \"country\": \"United States\", \"time\": \"02:07:01\", \"marathon\": \"Chicago\", \"total_minutes\": 127.01666666666667}, {\"year\": 2000, \"winner\": \"Catherine Ndereba\", \"gender\": \"Female\", \"country\": \"Kenya\", \"time\": \"02:21:33\", \"marathon\": \"Chicago\", \"total_minutes\": 141.55}, {\"year\": 1999, \"winner\": \"Khalid Khannouchi\", \"gender\": \"Male\", \"country\": \"Morocco\", \"time\": \"02:05:42\", \"marathon\": \"Chicago\", \"total_minutes\": 125.7}, {\"year\": 1999, \"winner\": \"Joyce Chepchumba\", \"gender\": \"Female\", \"country\": \"Kenya\", \"time\": \"02:25:59\", \"marathon\": \"Chicago\", \"total_minutes\": 145.98333333333332}, {\"year\": 1998, \"winner\": \"Ondoro Osoro\", \"gender\": \"Male\", \"country\": \"Kenya\", \"time\": \"02:06:54\", \"marathon\": \"Chicago\", \"total_minutes\": 126.9}, {\"year\": 1998, \"winner\": \"Joyce Chepchumba\", \"gender\": \"Female\", \"country\": \"Kenya\", \"time\": \"02:23:57\", \"marathon\": \"Chicago\", \"total_minutes\": 143.95}, {\"year\": 1997, \"winner\": \"Khalid Khannouchi\", \"gender\": \"Male\", \"country\": \"Morocco\", \"time\": \"02:07:10\", \"marathon\": \"Chicago\", \"total_minutes\": 127.16666666666667}, {\"year\": 1997, \"winner\": \"Marian Sutton\", \"gender\": \"Female\", \"country\": \"United Kingdom\", \"time\": \"02:29:03\", \"marathon\": \"Chicago\", \"total_minutes\": 149.05}, {\"year\": 1996, \"winner\": \"Paul Evans\", \"gender\": \"Male\", \"country\": \"United Kingdom\", \"time\": \"02:08:52\", \"marathon\": \"Chicago\", \"total_minutes\": 128.86666666666667}, {\"year\": 1996, \"winner\": \"Marian Sutton\", \"gender\": \"Female\", \"country\": \"United Kingdom\", \"time\": \"02:30:41\", \"marathon\": \"Chicago\", \"total_minutes\": 150.68333333333334}, {\"year\": 1995, \"winner\": \"Eamonn Martin\", \"gender\": \"Male\", \"country\": \"United Kingdom\", \"time\": \"02:11:18\", \"marathon\": \"Chicago\", \"total_minutes\": 131.3}, {\"year\": 1995, \"winner\": \"Ritva Lemettinen\", \"gender\": \"Female\", \"country\": \"Finland\", \"time\": \"02:28:27\", \"marathon\": \"Chicago\", \"total_minutes\": 148.45}, {\"year\": 1994, \"winner\": \"Lu\\u00edz Ant\\u00f4nio\", \"gender\": \"Male\", \"country\": \"Brazil\", \"time\": \"02:11:16\", \"marathon\": \"Chicago\", \"total_minutes\": 131.26666666666668}, {\"year\": 1994, \"winner\": \"Kristy Johnston\", \"gender\": \"Female\", \"country\": \"United States\", \"time\": \"02:31:34\", \"marathon\": \"Chicago\", \"total_minutes\": 151.56666666666666}, {\"year\": 1993, \"winner\": \"Lu\\u00edz Ant\\u00f4nio\", \"gender\": \"Male\", \"country\": \"Brazil\", \"time\": \"02:13:14\", \"marathon\": \"Chicago\", \"total_minutes\": 133.23333333333332}, {\"year\": 1993, \"winner\": \"Ritva Lemettinen\", \"gender\": \"Female\", \"country\": \"Finland\", \"time\": \"02:33:18\", \"marathon\": \"Chicago\", \"total_minutes\": 153.3}, {\"year\": 1992, \"winner\": \"Jos\\u00e9 Cesar de Souza\", \"gender\": \"Male\", \"country\": \"Brazil\", \"time\": \"02:16:14\", \"marathon\": \"Chicago\", \"total_minutes\": 136.23333333333332}, {\"year\": 1992, \"winner\": \"Linda Somers\", \"gender\": \"Female\", \"country\": \"United States\", \"time\": \"02:37:41\", \"marathon\": \"Chicago\", \"total_minutes\": 157.68333333333334}, {\"year\": 1991, \"winner\": \"Joseildo Rocha\", \"gender\": \"Male\", \"country\": \"Brazil\", \"time\": \"02:14:33\", \"marathon\": \"Chicago\", \"total_minutes\": 134.55}, {\"year\": 1991, \"winner\": \"Midde Hamrin\", \"gender\": \"Female\", \"country\": \"Sweden\", \"time\": \"02:36:21\", \"marathon\": \"Chicago\", \"total_minutes\": 156.35}, {\"year\": 1990, \"winner\": \"Mart\\u00edn Pitayo\", \"gender\": \"Male\", \"country\": \"Mexico\", \"time\": \"02:09:41\", \"marathon\": \"Chicago\", \"total_minutes\": 129.68333333333334}, {\"year\": 1990, \"winner\": \"Aurora Cunha\", \"gender\": \"Female\", \"country\": \"Portugal\", \"time\": \"02:30:11\", \"marathon\": \"Chicago\", \"total_minutes\": 150.18333333333334}, {\"year\": 1989, \"winner\": \"Paul Davies-Hale\", \"gender\": \"Male\", \"country\": \"United Kingdom\", \"time\": \"02:11:25\", \"marathon\": \"Chicago\", \"total_minutes\": 131.41666666666666}, {\"year\": 1989, \"winner\": \"Lisa Weidenbach\", \"gender\": \"Female\", \"country\": \"United States\", \"time\": \"02:28:15\", \"marathon\": \"Chicago\", \"total_minutes\": 148.25}, {\"year\": 1988, \"winner\": \"Alejandro Cruz\", \"gender\": \"Male\", \"country\": \"Mexico\", \"time\": \"02:08:57\", \"marathon\": \"Chicago\", \"total_minutes\": 128.95}, {\"year\": 1988, \"winner\": \"Lisa Weidenbach\", \"gender\": \"Female\", \"country\": \"United States\", \"time\": \"02:29:17\", \"marathon\": \"Chicago\", \"total_minutes\": 149.28333333333333}, {\"year\": 1986, \"winner\": \"Toshihiko Seko\", \"gender\": \"Male\", \"country\": \"Japan\", \"time\": \"02:08:27\", \"marathon\": \"Chicago\", \"total_minutes\": 128.45}, {\"year\": 1986, \"winner\": \"Ingrid Kristiansen\", \"gender\": \"Female\", \"country\": \"Norway\", \"time\": \"02:27:08\", \"marathon\": \"Chicago\", \"total_minutes\": 147.13333333333333}, {\"year\": 1985, \"winner\": \"Steve Jones\", \"gender\": \"Male\", \"country\": \"United Kingdom\", \"time\": \"02:07:13\", \"marathon\": \"Chicago\", \"total_minutes\": 127.21666666666667}, {\"year\": 1985, \"winner\": \"Joan Benoit\", \"gender\": \"Female\", \"country\": \"United States\", \"time\": \"02:21:21\", \"marathon\": \"Chicago\", \"total_minutes\": 141.35}, {\"year\": 1984, \"winner\": \"Steve Jones\", \"gender\": \"Male\", \"country\": \"United Kingdom\", \"time\": \"02:08:05\", \"marathon\": \"Chicago\", \"total_minutes\": 128.08333333333334}, {\"year\": 1984, \"winner\": \"Rosa Mota\", \"gender\": \"Female\", \"country\": \"Portugal\", \"time\": \"02:26:01\", \"marathon\": \"Chicago\", \"total_minutes\": 146.01666666666668}, {\"year\": 1983, \"winner\": \"Joseph Nzau\", \"gender\": \"Male\", \"country\": \"Kenya\", \"time\": \"02:09:44\", \"marathon\": \"Chicago\", \"total_minutes\": 129.73333333333332}, {\"year\": 1983, \"winner\": \"Rosa Mota\", \"gender\": \"Female\", \"country\": \"Portugal\", \"time\": \"02:31:12\", \"marathon\": \"Chicago\", \"total_minutes\": 151.2}, {\"year\": 1982, \"winner\": \"Greg Meyer\", \"gender\": \"Male\", \"country\": \"United States\", \"time\": \"02:10:59\", \"marathon\": \"Chicago\", \"total_minutes\": 130.98333333333332}, {\"year\": 1982, \"winner\": \"Nancy Conz\", \"gender\": \"Female\", \"country\": \"United States\", \"time\": \"02:33:23\", \"marathon\": \"Chicago\", \"total_minutes\": 153.38333333333333}, {\"year\": 1981, \"winner\": \"Phil Coppess\", \"gender\": \"Male\", \"country\": \"United States\", \"time\": \"02:16:13\", \"marathon\": \"Chicago\", \"total_minutes\": 136.21666666666667}, {\"year\": 1981, \"winner\": \"Tina Gandy\", \"gender\": \"Female\", \"country\": \"United States\", \"time\": \"02:49:39\", \"marathon\": \"Chicago\", \"total_minutes\": 169.65}, {\"year\": 1980, \"winner\": \"Frank Richardson\", \"gender\": \"Male\", \"country\": \"United States\", \"time\": \"02:14:04\", \"marathon\": \"Chicago\", \"total_minutes\": 134.06666666666666}, {\"year\": 1980, \"winner\": \"Sue Peterson\", \"gender\": \"Female\", \"country\": \"United States\", \"time\": \"02:45:03\", \"marathon\": \"Chicago\", \"total_minutes\": 165.05}, {\"year\": 1979, \"winner\": \"Dan Cloeter\", \"gender\": \"Male\", \"country\": \"United States\", \"time\": \"02:23:20\", \"marathon\": \"Chicago\", \"total_minutes\": 143.33333333333334}, {\"year\": 1979, \"winner\": \"Laura Michalek\", \"gender\": \"Female\", \"country\": \"United States\", \"time\": \"03:15:45\", \"marathon\": \"Chicago\", \"total_minutes\": 195.75}, {\"year\": 1978, \"winner\": \"Mark Stanforth\", \"gender\": \"Male\", \"country\": \"United States\", \"time\": \"02:19:20\", \"marathon\": \"Chicago\", \"total_minutes\": 139.33333333333334}, {\"year\": 1978, \"winner\": \"Lynae Larson\", \"gender\": \"Female\", \"country\": \"United States\", \"time\": \"02:59:25\", \"marathon\": \"Chicago\", \"total_minutes\": 179.41666666666666}, {\"year\": 1977, \"winner\": \"Dan Cloeter\", \"gender\": \"Male\", \"country\": \"United States\", \"time\": \"02:17:52\", \"marathon\": \"Chicago\", \"total_minutes\": 137.86666666666667}, {\"year\": 1977, \"winner\": \"Dorothy Doolittle\", \"gender\": \"Female\", \"country\": \"United States\", \"time\": \"02:50:47\", \"marathon\": \"Chicago\", \"total_minutes\": 170.78333333333333}, {\"year\": 2018, \"winner\": \"Vivian Cheruiyot\", \"gender\": \"Female\", \"country\": \"Kenya\", \"time\": \"02:18:31\", \"marathon\": \"London\", \"total_minutes\": 138.51666666666668}]}}, {\"mode\": \"vega-lite\"});\n",
       "</script>"
      ],
      "text/plain": [
       "alt.Chart(...)"
      ]
     },
     "execution_count": 420,
     "metadata": {},
     "output_type": "execute_result"
    }
   ],
   "source": [
    "alt.Chart(df).mark_boxplot(\n",
    "    size=50,\n",
    "    extent=0.5\n",
    ").encode(\n",
    "    x='gender',\n",
    "    y=alt.Y('total_minutes:Q', scale=alt.Scale(zero=False)),\n",
    "    color=alt.Color('gender')\n",
    ").properties(\n",
    "    width=300,\n",
    "    height=300\n",
    ").configure_axis(\n",
    "    labelFontSize=16,\n",
    "    titleFontSize=16,\n",
    "    labelAngle=0\n",
    ")"
   ]
  },
  {
   "cell_type": "code",
   "execution_count": null,
   "metadata": {},
   "outputs": [],
   "source": []
  },
  {
   "cell_type": "code",
   "execution_count": null,
   "metadata": {},
   "outputs": [],
   "source": []
  }
 ],
 "metadata": {
  "kernelspec": {
   "display_name": "Python 3",
   "language": "python",
   "name": "python3"
  },
  "language_info": {
   "codemirror_mode": {
    "name": "ipython",
    "version": 3
   },
   "file_extension": ".py",
   "mimetype": "text/x-python",
   "name": "python",
   "nbconvert_exporter": "python",
   "pygments_lexer": "ipython3",
   "version": "3.7.7"
  }
 },
 "nbformat": 4,
 "nbformat_minor": 4
}
